{
 "cells": [
  {
   "cell_type": "code",
   "execution_count": 2,
   "metadata": {
    "collapsed": true
   },
   "outputs": [],
   "source": [
    "import pandas as pd\n",
    "import numpy as np\n",
    "import matplotlib.pyplot as plt\n",
    "import seaborn as sns\n",
    "import os\n",
    "import sys\n",
    "from state_cleaner import *\n",
    "from datetime import datetime\n",
    "import requests\n",
    "import json\n",
    "\n",
    "%load_ext autoreload\n",
    "%autoreload 2\n",
    "%matplotlib inline"
   ]
  },
  {
   "cell_type": "code",
   "execution_count": 3,
   "metadata": {},
   "outputs": [
    {
     "data": {
      "text/plain": [
       "'C:\\\\Users\\\\Noah\\\\CovidMobile'"
      ]
     },
     "execution_count": 3,
     "metadata": {},
     "output_type": "execute_result"
    }
   ],
   "source": [
    "os.chdir('../..')\n",
    "os.chdir('CovidMobile')\n",
    "os.getcwd()"
   ]
  },
  {
   "cell_type": "markdown",
   "metadata": {},
   "source": [
    "# SafeGraph Data"
   ]
  },
  {
   "cell_type": "code",
   "execution_count": 4,
   "metadata": {
    "collapsed": true,
    "jupyter": {
     "outputs_hidden": true
    }
   },
   "outputs": [],
   "source": [
    "df = pd.read_csv('data/safegraph_data_2020-05-28.csv')\n",
    "df['state_abb'] = df['state'].copy()\n",
    "df['state'] = df['state_abb'].apply(replace_acronym).copy()\n",
    "df[['FIPS','state','state_abb','county']]\n",
    "df['date'] = pd.to_datetime(df['date'],errors='coerce')\n",
    "df = df[df['state'].notnull()]"
   ]
  },
  {
   "cell_type": "code",
   "execution_count": 5,
   "metadata": {},
   "outputs": [
    {
     "data": {
      "text/plain": [
       "(0, 34)"
      ]
     },
     "execution_count": 5,
     "metadata": {},
     "output_type": "execute_result"
    }
   ],
   "source": [
    "df[df['county'].isnull()].shape"
   ]
  },
  {
   "cell_type": "markdown",
   "metadata": {},
   "source": [
    "# Build Dataset"
   ]
  },
  {
   "cell_type": "code",
   "execution_count": 7,
   "metadata": {},
   "outputs": [
    {
     "data": {
      "text/plain": [
       "'C:\\\\Users\\\\Noah\\\\CovidMobile'"
      ]
     },
     "execution_count": 7,
     "metadata": {},
     "output_type": "execute_result"
    }
   ],
   "source": [
    "os.getcwd()"
   ]
  },
  {
   "cell_type": "code",
   "execution_count": 8,
   "metadata": {},
   "outputs": [
    {
     "name": "stderr",
     "output_type": "stream",
     "text": [
      "C:\\Users\\Noah\\Anaconda3\\lib\\site-packages\\IPython\\core\\interactiveshell.py:2698: DtypeWarning: Columns (3) have mixed types.Specify dtype option on import or set low_memory=False.\n",
      "  interactivity=interactivity, compiler=compiler, result=result)\n"
     ]
    }
   ],
   "source": [
    "full = pd.read_csv('data/Global_Mobility_Report.csv')\n",
    "full['source'] = 'google'\n",
    "\n",
    "full.rename(columns={'transit_stations_percent_change_from_baseline':'transit',\n",
    "                 'residential_percent_change_from_baseline':'homes',\n",
    "                 'grocery_and_pharmacy_percent_change_from_baseline':'food_drugs',\n",
    "                'retail_and_recreation_percent_change_from_baseline':'retail',\n",
    "                'workplaces_percent_change_from_baseline':'work',\n",
    "                'parks_percent_change_from_baseline':'park'},inplace=True)\n"
   ]
  },
  {
   "cell_type": "code",
   "execution_count": 9,
   "metadata": {},
   "outputs": [
    {
     "data": {
      "text/plain": [
       "array(['country_region_code', 'country_region', 'sub_region_1',\n",
       "       'sub_region_2', 'date', 'retail', 'food_drugs', 'park', 'transit',\n",
       "       'work', 'homes', 'source'], dtype=object)"
      ]
     },
     "execution_count": 9,
     "metadata": {},
     "output_type": "execute_result"
    }
   ],
   "source": [
    "full.columns.values"
   ]
  },
  {
   "cell_type": "code",
   "execution_count": 10,
   "metadata": {
    "collapsed": true,
    "jupyter": {
     "outputs_hidden": true
    }
   },
   "outputs": [],
   "source": [
    "full = full[full['country_region_code']=='US'].rename(columns={'sub_region_1':'state','sub_region_2':'county'}) "
   ]
  },
  {
   "cell_type": "code",
   "execution_count": 11,
   "metadata": {
    "collapsed": true,
    "jupyter": {
     "outputs_hidden": true
    },
    "scrolled": true
   },
   "outputs": [],
   "source": [
    "full['state_abb'] = full['state'].apply(replace_acronym)\n",
    "full['county'] = np.where(full['county'].isnull(),full['state_abb'] ,full['county'] )"
   ]
  },
  {
   "cell_type": "code",
   "execution_count": 12,
   "metadata": {},
   "outputs": [
    {
     "data": {
      "text/html": [
       "<div>\n",
       "<style scoped>\n",
       "    .dataframe tbody tr th:only-of-type {\n",
       "        vertical-align: middle;\n",
       "    }\n",
       "\n",
       "    .dataframe tbody tr th {\n",
       "        vertical-align: top;\n",
       "    }\n",
       "\n",
       "    .dataframe thead th {\n",
       "        text-align: right;\n",
       "    }\n",
       "</style>\n",
       "<table border=\"1\" class=\"dataframe\">\n",
       "  <thead>\n",
       "    <tr style=\"text-align: right;\">\n",
       "      <th></th>\n",
       "      <th>country_region_code</th>\n",
       "      <th>country_region</th>\n",
       "      <th>state</th>\n",
       "      <th>county</th>\n",
       "      <th>date</th>\n",
       "      <th>retail</th>\n",
       "      <th>food_drugs</th>\n",
       "      <th>park</th>\n",
       "      <th>transit</th>\n",
       "      <th>work</th>\n",
       "      <th>homes</th>\n",
       "      <th>source</th>\n",
       "      <th>state_abb</th>\n",
       "    </tr>\n",
       "  </thead>\n",
       "  <tbody>\n",
       "    <tr>\n",
       "      <th>430947</th>\n",
       "      <td>US</td>\n",
       "      <td>United States</td>\n",
       "      <td>Wyoming</td>\n",
       "      <td>Weston County</td>\n",
       "      <td>2020-05-15</td>\n",
       "      <td>NaN</td>\n",
       "      <td>NaN</td>\n",
       "      <td>NaN</td>\n",
       "      <td>NaN</td>\n",
       "      <td>-25.0</td>\n",
       "      <td>NaN</td>\n",
       "      <td>google</td>\n",
       "      <td>WY</td>\n",
       "    </tr>\n",
       "    <tr>\n",
       "      <th>430948</th>\n",
       "      <td>US</td>\n",
       "      <td>United States</td>\n",
       "      <td>Wyoming</td>\n",
       "      <td>Weston County</td>\n",
       "      <td>2020-05-18</td>\n",
       "      <td>NaN</td>\n",
       "      <td>NaN</td>\n",
       "      <td>NaN</td>\n",
       "      <td>NaN</td>\n",
       "      <td>-24.0</td>\n",
       "      <td>NaN</td>\n",
       "      <td>google</td>\n",
       "      <td>WY</td>\n",
       "    </tr>\n",
       "    <tr>\n",
       "      <th>430949</th>\n",
       "      <td>US</td>\n",
       "      <td>United States</td>\n",
       "      <td>Wyoming</td>\n",
       "      <td>Weston County</td>\n",
       "      <td>2020-05-19</td>\n",
       "      <td>NaN</td>\n",
       "      <td>NaN</td>\n",
       "      <td>NaN</td>\n",
       "      <td>NaN</td>\n",
       "      <td>-27.0</td>\n",
       "      <td>NaN</td>\n",
       "      <td>google</td>\n",
       "      <td>WY</td>\n",
       "    </tr>\n",
       "    <tr>\n",
       "      <th>430950</th>\n",
       "      <td>US</td>\n",
       "      <td>United States</td>\n",
       "      <td>Wyoming</td>\n",
       "      <td>Weston County</td>\n",
       "      <td>2020-05-20</td>\n",
       "      <td>NaN</td>\n",
       "      <td>NaN</td>\n",
       "      <td>NaN</td>\n",
       "      <td>NaN</td>\n",
       "      <td>-27.0</td>\n",
       "      <td>NaN</td>\n",
       "      <td>google</td>\n",
       "      <td>WY</td>\n",
       "    </tr>\n",
       "    <tr>\n",
       "      <th>430951</th>\n",
       "      <td>US</td>\n",
       "      <td>United States</td>\n",
       "      <td>Wyoming</td>\n",
       "      <td>Weston County</td>\n",
       "      <td>2020-05-21</td>\n",
       "      <td>NaN</td>\n",
       "      <td>NaN</td>\n",
       "      <td>NaN</td>\n",
       "      <td>NaN</td>\n",
       "      <td>-29.0</td>\n",
       "      <td>NaN</td>\n",
       "      <td>google</td>\n",
       "      <td>WY</td>\n",
       "    </tr>\n",
       "  </tbody>\n",
       "</table>\n",
       "</div>"
      ],
      "text/plain": [
       "       country_region_code country_region    state         county        date  \\\n",
       "430947                  US  United States  Wyoming  Weston County  2020-05-15   \n",
       "430948                  US  United States  Wyoming  Weston County  2020-05-18   \n",
       "430949                  US  United States  Wyoming  Weston County  2020-05-19   \n",
       "430950                  US  United States  Wyoming  Weston County  2020-05-20   \n",
       "430951                  US  United States  Wyoming  Weston County  2020-05-21   \n",
       "\n",
       "        retail  food_drugs  park  transit  work  homes  source state_abb  \n",
       "430947     NaN         NaN   NaN      NaN -25.0    NaN  google        WY  \n",
       "430948     NaN         NaN   NaN      NaN -24.0    NaN  google        WY  \n",
       "430949     NaN         NaN   NaN      NaN -27.0    NaN  google        WY  \n",
       "430950     NaN         NaN   NaN      NaN -27.0    NaN  google        WY  \n",
       "430951     NaN         NaN   NaN      NaN -29.0    NaN  google        WY  "
      ]
     },
     "execution_count": 12,
     "metadata": {},
     "output_type": "execute_result"
    }
   ],
   "source": [
    "full.tail()"
   ]
  },
  {
   "cell_type": "code",
   "execution_count": 13,
   "metadata": {
    "collapsed": true,
    "jupyter": {
     "outputs_hidden": true
    }
   },
   "outputs": [],
   "source": [
    "replc_county = {'Anchorage' :'Anchorage Municipality',\n",
    "'Bethel' :'Bethel Census Area',\n",
    "'Fairbanks North Star' :'Fairbanks North Star Borough',\n",
    "'Juneau' : 'Juneau City and Borough',\n",
    "'Kenai Peninsula Borough' :'Kenai Peninsula Borough',\n",
    "'Ketchikan Gateway' :'Ketchikan Gateway Borough',\n",
    "'Kodiak Island':'Kodiak Island Borough',\n",
    "'Matanuska-Susitna':'Matanuska-Susitna Borough',\n",
    "'North Slope':'North Slope Borough',\n",
    "'Sitka':'Sitka City and Borough',\n",
    "'Southeast Fairbanks':'Southeast Fairbanks Census Area',\n",
    "'Valdez-Cordova':'Valdez-Cordova Census Area',\n",
    "'Doña Ana County':'Dona Ana County',\n",
    "'DC':'District of Columbia'}\n",
    "\n",
    "citys = ['Staunton',\n",
    "'Norfolk',\n",
    "'Baltimore',\n",
    "'Newport News', \n",
    "'Fairfax',\n",
    "'Martinsville',\n",
    "'Waynesboro', \n",
    "'Colonial Heights',\n",
    "'St. Louis',\n",
    "'Salem',\n",
    "'Harrisonburg',\n",
    "'Bristol',\n",
    "'Chesapeake',\n",
    "'Portsmouth',\n",
    "'Virginia Beach',\n",
    "'Manassas Park',\n",
    "'Williamsburg',\n",
    "'Radford',\n",
    "'Charlottesville',\n",
    "'Manassas',\n",
    "\n",
    "'Alexandria',\n",
    "'Hampton',\n",
    "'Fredericksburg',\n",
    "'Richmond',\n",
    "'Hopewell',\n",
    "'Petersburg',\n",
    "'Roanoke',\n",
    "'Suffolk',\n",
    "'Lynchburg',\n",
    "'Danville',\n",
    "'Falls Church',\n",
    "'Winchester', \n",
    "'Franklin',\n",
    "'Emporia',\n",
    "'Galax',\n",
    "'Poquoson',\n",
    "'Covington',\n",
    "'Buena Vista',\n",
    "'Norton',\n",
    "'Lexington']"
   ]
  },
  {
   "cell_type": "code",
   "execution_count": 14,
   "metadata": {
    "collapsed": true,
    "jupyter": {
     "outputs_hidden": true
    },
    "scrolled": true
   },
   "outputs": [],
   "source": [
    "replc_county = {**replc_county, **{ i:'{} city'.format(i) for i in citys}}\n",
    "full['county'] = full['county'].replace(replc_county)"
   ]
  },
  {
   "cell_type": "code",
   "execution_count": 17,
   "metadata": {
    "collapsed": true,
    "jupyter": {
     "outputs_hidden": true
    }
   },
   "outputs": [],
   "source": [
    "full_tog = full.merge(df[['FIPS','state_abb','county']].drop_duplicates(),on=['state_abb','county'],how='left')"
   ]
  },
  {
   "cell_type": "code",
   "execution_count": 18,
   "metadata": {},
   "outputs": [
    {
     "name": "stdout",
     "output_type": "stream",
     "text": [
      "(324937, 34)\n",
      "(324937, 40)\n"
     ]
    }
   ],
   "source": [
    "full_tog.date = pd.to_datetime(full_tog.date,errors='coerce') \n",
    "print(df.shape)\n",
    "full_tog = df.merge(full_tog[['FIPS','date','retail','food_drugs','park','transit','work','homes']],on=['FIPS','date'],how='left')\n",
    "print(full_tog.shape)"
   ]
  },
  {
   "cell_type": "markdown",
   "metadata": {},
   "source": [
    "# USDA"
   ]
  },
  {
   "cell_type": "code",
   "execution_count": 19,
   "metadata": {},
   "outputs": [
    {
     "name": "stdout",
     "output_type": "stream",
     "text": [
      "FIPS Code\n",
      "FIPStxt\n",
      "FIPStxt\n",
      "FIPStxt\n"
     ]
    }
   ],
   "source": [
    "files = [\"Education.csv\",\n",
    "\"PopulationEstimates.csv\",\n",
    "\"PovertyEstimates.csv\",\n",
    "\"Unemployment.csv\"]\n",
    "\n",
    "for i,f in enumerate(files):\n",
    "    df =pd.read_csv('data/{}'.format(f))\n",
    "    print(df.columns[0])\n",
    "    df.rename(columns={df.columns[0]:'FIPS'},inplace=True)\n",
    "    if i ==0:\n",
    "        usda = df.copy()\n",
    "        continue\n",
    "    else:\n",
    "        usda = usda.merge(df,on=['FIPS'])"
   ]
  },
  {
   "cell_type": "code",
   "execution_count": 20,
   "metadata": {
    "collapsed": true,
    "jupyter": {
     "outputs_hidden": true
    }
   },
   "outputs": [],
   "source": [
    "usda = pd.concat([usda['FIPS'],usda.filter(like='2018')],axis=1)"
   ]
  },
  {
   "cell_type": "code",
   "execution_count": 21,
   "metadata": {
    "collapsed": true,
    "jupyter": {
     "outputs_hidden": true
    }
   },
   "outputs": [],
   "source": [
    "full_tog = full_tog.merge(usda,on='FIPS',how='left') "
   ]
  },
  {
   "cell_type": "markdown",
   "metadata": {},
   "source": [
    "#### Second CSV File"
   ]
  },
  {
   "cell_type": "code",
   "execution_count": 22,
   "metadata": {},
   "outputs": [
    {
     "name": "stdout",
     "output_type": "stream",
     "text": [
      "ACCESS\n",
      "STORES\n",
      "RESTAURANTS\n",
      "ASSISTANCE\n",
      "INSECURITY\n"
     ]
    }
   ],
   "source": [
    "usda_full = pd.read_excel('./data/food_env_atlas_usda.xls', sheet_name = None)\n",
    "sheet_names = usda_full.keys()\n",
    "sheets2keep = ['ACCESS','STORES','RESTAURANTS','ASSISTANCE','INSECURITY']\n",
    "\n",
    "usda2 = usda_full['Supplemental Data - County']\n",
    "usda2.rename(columns={'FIPS ': 'FIPS'},inplace=True)\n",
    "#convert populations from string to numbers:\n",
    "for col in usda2.iloc[:,3:]:\n",
    "    usda2[col] = [int(x.replace(',' , '')) for x in usda2[col]]\n",
    "\n",
    "#add other helpful data\n",
    "for sheet_name in sheets2keep:\n",
    "    print(sheet_name)\n",
    "    usda2 = pd.merge(usda2, usda_full[sheet_name], on = 'FIPS', how = 'left')"
   ]
  },
  {
   "cell_type": "code",
   "execution_count": 23,
   "metadata": {
    "collapsed": true,
    "jupyter": {
     "outputs_hidden": true
    }
   },
   "outputs": [],
   "source": [
    "#get rid of duplicate State and County data:\n",
    "usda2.iloc[:,~usda2.columns.duplicated()]\n",
    "\n",
    "#export to cleaned csv:\n",
    "usda2.to_csv('./data/clean_usda2.csv')"
   ]
  },
  {
   "cell_type": "markdown",
   "metadata": {},
   "source": [
    "# Neighboring Counties"
   ]
  },
  {
   "cell_type": "code",
   "execution_count": 24,
   "metadata": {
    "collapsed": true,
    "jupyter": {
     "outputs_hidden": true
    }
   },
   "outputs": [],
   "source": [
    "def keep_one(tup):\n",
    "    col = tup[1]\n",
    "    if col == '':\n",
    "        col = tup[0]\n",
    "    return col"
   ]
  },
  {
   "cell_type": "code",
   "execution_count": 25,
   "metadata": {},
   "outputs": [
    {
     "name": "stdout",
     "output_type": "stream",
     "text": [
      "count    FIPS       0       1       2       3       4        5        6  \\\n",
      "0      1001.0  1021.0  1047.0  1051.0  1085.0  1101.0      NaN      NaN   \n",
      "1      1003.0  1025.0  1053.0  1097.0  1099.0  1129.0  12033.0      NaN   \n",
      "2      1005.0  1011.0  1045.0  1067.0  1109.0  1113.0  13061.0  13239.0   \n",
      "3      1007.0  1021.0  1065.0  1073.0  1105.0  1117.0   1125.0      NaN   \n",
      "4      1009.0  1043.0  1055.0  1073.0  1095.0  1115.0   1127.0      NaN   \n",
      "\n",
      "count        7   8   9  10  11  12  13  \n",
      "0          NaN NaN NaN NaN NaN NaN NaN  \n",
      "1          NaN NaN NaN NaN NaN NaN NaN  \n",
      "2      13259.0 NaN NaN NaN NaN NaN NaN  \n",
      "3          NaN NaN NaN NaN NaN NaN NaN  \n",
      "4          NaN NaN NaN NaN NaN NaN NaN  \n"
     ]
    }
   ],
   "source": [
    "neighbors = pd.read_csv('data/county_adjacency.csv')\n",
    "\n",
    "neighbors = neighbors[neighbors['FIPS']!=neighbors['nearby_FIPS']]\n",
    "neighbors['count'] = neighbors.groupby(['FIPS','county']).cumcount()\n",
    "neighbors =neighbors.pivot(index='FIPS',columns='count',values='nearby_FIPS')\n",
    "neighbors =neighbors.reset_index()\n",
    "print(neighbors.head())\n",
    "neighbors.columns = ['FIPS', 'neighbors1', 'neighbors2', 'neighbors3', 'neighbors4', 'neighbors5', 'neighbors6', 'neighbors7', 'neighbors8', 'neighbors9', 'neighbors10', 'neighbors11', 'neighbors12','neighbors13','neighbors14']"
   ]
  },
  {
   "cell_type": "code",
   "execution_count": 26,
   "metadata": {},
   "outputs": [
    {
     "data": {
      "text/html": [
       "<div>\n",
       "<style scoped>\n",
       "    .dataframe tbody tr th:only-of-type {\n",
       "        vertical-align: middle;\n",
       "    }\n",
       "\n",
       "    .dataframe tbody tr th {\n",
       "        vertical-align: top;\n",
       "    }\n",
       "\n",
       "    .dataframe thead th {\n",
       "        text-align: right;\n",
       "    }\n",
       "</style>\n",
       "<table border=\"1\" class=\"dataframe\">\n",
       "  <thead>\n",
       "    <tr style=\"text-align: right;\">\n",
       "      <th></th>\n",
       "      <th>FIPS</th>\n",
       "      <th>neighbors1</th>\n",
       "      <th>neighbors2</th>\n",
       "      <th>neighbors3</th>\n",
       "      <th>neighbors4</th>\n",
       "      <th>neighbors5</th>\n",
       "      <th>neighbors6</th>\n",
       "      <th>neighbors7</th>\n",
       "      <th>neighbors8</th>\n",
       "      <th>neighbors9</th>\n",
       "      <th>neighbors10</th>\n",
       "      <th>neighbors11</th>\n",
       "      <th>neighbors12</th>\n",
       "      <th>neighbors13</th>\n",
       "      <th>neighbors14</th>\n",
       "    </tr>\n",
       "  </thead>\n",
       "  <tbody>\n",
       "    <tr>\n",
       "      <th>0</th>\n",
       "      <td>1001.0</td>\n",
       "      <td>1021.0</td>\n",
       "      <td>1047.0</td>\n",
       "      <td>1051.0</td>\n",
       "      <td>1085.0</td>\n",
       "      <td>1101.0</td>\n",
       "      <td>NaN</td>\n",
       "      <td>NaN</td>\n",
       "      <td>NaN</td>\n",
       "      <td>NaN</td>\n",
       "      <td>NaN</td>\n",
       "      <td>NaN</td>\n",
       "      <td>NaN</td>\n",
       "      <td>NaN</td>\n",
       "      <td>NaN</td>\n",
       "    </tr>\n",
       "    <tr>\n",
       "      <th>1</th>\n",
       "      <td>1003.0</td>\n",
       "      <td>1025.0</td>\n",
       "      <td>1053.0</td>\n",
       "      <td>1097.0</td>\n",
       "      <td>1099.0</td>\n",
       "      <td>1129.0</td>\n",
       "      <td>12033.0</td>\n",
       "      <td>NaN</td>\n",
       "      <td>NaN</td>\n",
       "      <td>NaN</td>\n",
       "      <td>NaN</td>\n",
       "      <td>NaN</td>\n",
       "      <td>NaN</td>\n",
       "      <td>NaN</td>\n",
       "      <td>NaN</td>\n",
       "    </tr>\n",
       "    <tr>\n",
       "      <th>2</th>\n",
       "      <td>1005.0</td>\n",
       "      <td>1011.0</td>\n",
       "      <td>1045.0</td>\n",
       "      <td>1067.0</td>\n",
       "      <td>1109.0</td>\n",
       "      <td>1113.0</td>\n",
       "      <td>13061.0</td>\n",
       "      <td>13239.0</td>\n",
       "      <td>13259.0</td>\n",
       "      <td>NaN</td>\n",
       "      <td>NaN</td>\n",
       "      <td>NaN</td>\n",
       "      <td>NaN</td>\n",
       "      <td>NaN</td>\n",
       "      <td>NaN</td>\n",
       "    </tr>\n",
       "    <tr>\n",
       "      <th>3</th>\n",
       "      <td>1007.0</td>\n",
       "      <td>1021.0</td>\n",
       "      <td>1065.0</td>\n",
       "      <td>1073.0</td>\n",
       "      <td>1105.0</td>\n",
       "      <td>1117.0</td>\n",
       "      <td>1125.0</td>\n",
       "      <td>NaN</td>\n",
       "      <td>NaN</td>\n",
       "      <td>NaN</td>\n",
       "      <td>NaN</td>\n",
       "      <td>NaN</td>\n",
       "      <td>NaN</td>\n",
       "      <td>NaN</td>\n",
       "      <td>NaN</td>\n",
       "    </tr>\n",
       "    <tr>\n",
       "      <th>4</th>\n",
       "      <td>1009.0</td>\n",
       "      <td>1043.0</td>\n",
       "      <td>1055.0</td>\n",
       "      <td>1073.0</td>\n",
       "      <td>1095.0</td>\n",
       "      <td>1115.0</td>\n",
       "      <td>1127.0</td>\n",
       "      <td>NaN</td>\n",
       "      <td>NaN</td>\n",
       "      <td>NaN</td>\n",
       "      <td>NaN</td>\n",
       "      <td>NaN</td>\n",
       "      <td>NaN</td>\n",
       "      <td>NaN</td>\n",
       "      <td>NaN</td>\n",
       "    </tr>\n",
       "    <tr>\n",
       "      <th>...</th>\n",
       "      <td>...</td>\n",
       "      <td>...</td>\n",
       "      <td>...</td>\n",
       "      <td>...</td>\n",
       "      <td>...</td>\n",
       "      <td>...</td>\n",
       "      <td>...</td>\n",
       "      <td>...</td>\n",
       "      <td>...</td>\n",
       "      <td>...</td>\n",
       "      <td>...</td>\n",
       "      <td>...</td>\n",
       "      <td>...</td>\n",
       "      <td>...</td>\n",
       "      <td>...</td>\n",
       "    </tr>\n",
       "    <tr>\n",
       "      <th>3219</th>\n",
       "      <td>72149.0</td>\n",
       "      <td>72043.0</td>\n",
       "      <td>72075.0</td>\n",
       "      <td>72107.0</td>\n",
       "      <td>NaN</td>\n",
       "      <td>NaN</td>\n",
       "      <td>NaN</td>\n",
       "      <td>NaN</td>\n",
       "      <td>NaN</td>\n",
       "      <td>NaN</td>\n",
       "      <td>NaN</td>\n",
       "      <td>NaN</td>\n",
       "      <td>NaN</td>\n",
       "      <td>NaN</td>\n",
       "      <td>NaN</td>\n",
       "    </tr>\n",
       "    <tr>\n",
       "      <th>3220</th>\n",
       "      <td>72151.0</td>\n",
       "      <td>72069.0</td>\n",
       "      <td>72085.0</td>\n",
       "      <td>72095.0</td>\n",
       "      <td>72109.0</td>\n",
       "      <td>72129.0</td>\n",
       "      <td>NaN</td>\n",
       "      <td>NaN</td>\n",
       "      <td>NaN</td>\n",
       "      <td>NaN</td>\n",
       "      <td>NaN</td>\n",
       "      <td>NaN</td>\n",
       "      <td>NaN</td>\n",
       "      <td>NaN</td>\n",
       "      <td>NaN</td>\n",
       "    </tr>\n",
       "    <tr>\n",
       "      <th>3221</th>\n",
       "      <td>72153.0</td>\n",
       "      <td>72001.0</td>\n",
       "      <td>72055.0</td>\n",
       "      <td>72059.0</td>\n",
       "      <td>72081.0</td>\n",
       "      <td>72093.0</td>\n",
       "      <td>72121.0</td>\n",
       "      <td>NaN</td>\n",
       "      <td>NaN</td>\n",
       "      <td>NaN</td>\n",
       "      <td>NaN</td>\n",
       "      <td>NaN</td>\n",
       "      <td>NaN</td>\n",
       "      <td>NaN</td>\n",
       "      <td>NaN</td>\n",
       "    </tr>\n",
       "    <tr>\n",
       "      <th>3222</th>\n",
       "      <td>78020.0</td>\n",
       "      <td>78030.0</td>\n",
       "      <td>NaN</td>\n",
       "      <td>NaN</td>\n",
       "      <td>NaN</td>\n",
       "      <td>NaN</td>\n",
       "      <td>NaN</td>\n",
       "      <td>NaN</td>\n",
       "      <td>NaN</td>\n",
       "      <td>NaN</td>\n",
       "      <td>NaN</td>\n",
       "      <td>NaN</td>\n",
       "      <td>NaN</td>\n",
       "      <td>NaN</td>\n",
       "      <td>NaN</td>\n",
       "    </tr>\n",
       "    <tr>\n",
       "      <th>3223</th>\n",
       "      <td>78030.0</td>\n",
       "      <td>78020.0</td>\n",
       "      <td>NaN</td>\n",
       "      <td>NaN</td>\n",
       "      <td>NaN</td>\n",
       "      <td>NaN</td>\n",
       "      <td>NaN</td>\n",
       "      <td>NaN</td>\n",
       "      <td>NaN</td>\n",
       "      <td>NaN</td>\n",
       "      <td>NaN</td>\n",
       "      <td>NaN</td>\n",
       "      <td>NaN</td>\n",
       "      <td>NaN</td>\n",
       "      <td>NaN</td>\n",
       "    </tr>\n",
       "  </tbody>\n",
       "</table>\n",
       "<p>3224 rows × 15 columns</p>\n",
       "</div>"
      ],
      "text/plain": [
       "         FIPS  neighbors1  neighbors2  neighbors3  neighbors4  neighbors5  \\\n",
       "0      1001.0      1021.0      1047.0      1051.0      1085.0      1101.0   \n",
       "1      1003.0      1025.0      1053.0      1097.0      1099.0      1129.0   \n",
       "2      1005.0      1011.0      1045.0      1067.0      1109.0      1113.0   \n",
       "3      1007.0      1021.0      1065.0      1073.0      1105.0      1117.0   \n",
       "4      1009.0      1043.0      1055.0      1073.0      1095.0      1115.0   \n",
       "...       ...         ...         ...         ...         ...         ...   \n",
       "3219  72149.0     72043.0     72075.0     72107.0         NaN         NaN   \n",
       "3220  72151.0     72069.0     72085.0     72095.0     72109.0     72129.0   \n",
       "3221  72153.0     72001.0     72055.0     72059.0     72081.0     72093.0   \n",
       "3222  78020.0     78030.0         NaN         NaN         NaN         NaN   \n",
       "3223  78030.0     78020.0         NaN         NaN         NaN         NaN   \n",
       "\n",
       "      neighbors6  neighbors7  neighbors8  neighbors9  neighbors10  \\\n",
       "0            NaN         NaN         NaN         NaN          NaN   \n",
       "1        12033.0         NaN         NaN         NaN          NaN   \n",
       "2        13061.0     13239.0     13259.0         NaN          NaN   \n",
       "3         1125.0         NaN         NaN         NaN          NaN   \n",
       "4         1127.0         NaN         NaN         NaN          NaN   \n",
       "...          ...         ...         ...         ...          ...   \n",
       "3219         NaN         NaN         NaN         NaN          NaN   \n",
       "3220         NaN         NaN         NaN         NaN          NaN   \n",
       "3221     72121.0         NaN         NaN         NaN          NaN   \n",
       "3222         NaN         NaN         NaN         NaN          NaN   \n",
       "3223         NaN         NaN         NaN         NaN          NaN   \n",
       "\n",
       "      neighbors11  neighbors12  neighbors13  neighbors14  \n",
       "0             NaN          NaN          NaN          NaN  \n",
       "1             NaN          NaN          NaN          NaN  \n",
       "2             NaN          NaN          NaN          NaN  \n",
       "3             NaN          NaN          NaN          NaN  \n",
       "4             NaN          NaN          NaN          NaN  \n",
       "...           ...          ...          ...          ...  \n",
       "3219          NaN          NaN          NaN          NaN  \n",
       "3220          NaN          NaN          NaN          NaN  \n",
       "3221          NaN          NaN          NaN          NaN  \n",
       "3222          NaN          NaN          NaN          NaN  \n",
       "3223          NaN          NaN          NaN          NaN  \n",
       "\n",
       "[3224 rows x 15 columns]"
      ]
     },
     "execution_count": 26,
     "metadata": {},
     "output_type": "execute_result"
    }
   ],
   "source": [
    "neighbors[neighbors['FIPS']!=neighbors['neighbors1']]"
   ]
  },
  {
   "cell_type": "code",
   "execution_count": 27,
   "metadata": {
    "collapsed": true,
    "jupyter": {
     "outputs_hidden": true
    }
   },
   "outputs": [],
   "source": [
    "full_tog = full_tog.merge(neighbors, on=['FIPS'],how='left')"
   ]
  },
  {
   "cell_type": "markdown",
   "metadata": {},
   "source": [
    "# State Orders"
   ]
  },
  {
   "cell_type": "code",
   "execution_count": 28,
   "metadata": {},
   "outputs": [
    {
     "data": {
      "text/plain": [
       "37      N. Mariana Islands\n",
       "49     U.S. Virgin Islands\n",
       "Name: State/territory, dtype: object"
      ]
     },
     "execution_count": 28,
     "metadata": {},
     "output_type": "execute_result"
    }
   ],
   "source": [
    "orders = pd.read_csv('data/emergency_orders.csv')\n",
    "\n",
    "orders['soe'] = pd.to_datetime('2020 '  + orders['State of emergency declared'], format='%Y %B %d')\n",
    "orders['sah'] = pd.to_datetime('2020 '  + orders['Stay at home ordered'], format='%Y %B %d',errors='coerce')\n",
    "orders['school_year'] = np.where(orders['Schools']=='Yes (remainder of term)',1,0)\n",
    "orders['bars'] = orders['Bars & sit-down restaurants'].replace({'Yes':1,'Restricted':1,'No':0})\n",
    "orders['gather'] = np.where(orders['Gatherings banned'].str.contains('All'),1,0)\n",
    "orders['daycares'] =  orders['Daycares'].replace({'Yes':1,'Restricted':1,'No':0})\n",
    "orders['non_essential_retail'] =  orders['Non-essential retail'].replace({'Yes':1,'Restricted':1,'No':0,'Regional':0})\n",
    "orders['travel_restriction'] = orders['Out-of-state travel restrictions'].copy()\n",
    "orders['state_abb'] = orders['State/territory'].str.replace(' ','',1).apply(replace_acronym)\n",
    "orders[orders['state_abb'].isnull()]['State/territory']"
   ]
  },
  {
   "cell_type": "code",
   "execution_count": 29,
   "metadata": {
    "collapsed": true,
    "jupyter": {
     "outputs_hidden": true
    }
   },
   "outputs": [],
   "source": [
    "cols = ['soe','sah','state_abb','school_year','bars','gather','Gatherings banned','daycares','non_essential_retail','travel_restriction']"
   ]
  },
  {
   "cell_type": "code",
   "execution_count": 30,
   "metadata": {
    "collapsed": true,
    "jupyter": {
     "outputs_hidden": true
    }
   },
   "outputs": [],
   "source": [
    "full_tog = full_tog.merge(orders[cols],on=['state_abb'],how='left')"
   ]
  },
  {
   "cell_type": "markdown",
   "metadata": {},
   "source": [
    "# State Closures"
   ]
  },
  {
   "cell_type": "code",
   "execution_count": 31,
   "metadata": {
    "collapsed": true,
    "jupyter": {
     "outputs_hidden": true
    }
   },
   "outputs": [],
   "source": [
    "actions = {'State Is Easing Social Distancing Measures':'state_ease',\n",
    "           'Stay At Home':'state_sah',\n",
    "           'Mandatory Quarantine|Mandatory Quarantine for Travelers':'state_mandate',\n",
    "           'non-essential|Non-Essential Business Closures':'state_non_ess',\n",
    "           'Large Gatherings Ban|Large Gathering Ban (announced 4/28)|Large Gatherings':'state_lgb',\n",
    "           'School Closures|School Closure':'state_sc',\n",
    "           'Bar/Restaurant Limits|Bar/Restaurant':'state_bar_res',\n",
    "           'Primary Election Postponement':'state_election',\n",
    "           'Public Health Emergency|Emergency Declaration|Disaster Proclamation|Peacetime Emergency|Proclamation of Disaster Emergency|Proclamation of Civil Emergency':'state_emergency',\n",
    "          'Executive Order mandating compliance with state guidance':'state_compliance',\n",
    "           'Preparedness Proclamation':'state_prepare'}"
   ]
  },
  {
   "cell_type": "code",
   "execution_count": 32,
   "metadata": {},
   "outputs": [
    {
     "name": "stdout",
     "output_type": "stream",
     "text": [
      "     Unnamed: 0                                Date  \\\n",
      "0             0                           3/13, 5/8   \n",
      "1             1  3/17, 3/19, 3/20, 3/26, 3/27, 4/28   \n",
      "2             2                                3/18   \n",
      "3             3                                3/23   \n",
      "4             4                           3/27, 4/3   \n",
      "..          ...                                 ...   \n",
      "463         463         3/19, 3/27, 4/3, 4/28, 5/13   \n",
      "464         464               3/20, 3/27, 4/3, 4/28   \n",
      "465         465                                3/27   \n",
      "466         466                           4/3, 4/29   \n",
      "467         467                                5/15   \n",
      "\n",
      "                                           Description  Easing    State  \n",
      "0                            Public Health Emergency:      0.0  ALABAMA  \n",
      "1    School Closures, Large Gatherings Ban, Bar/Res...     0.0  ALABAMA  \n",
      "2                      Primary Election Postponement:      0.0  ALABAMA  \n",
      "3                                Section 1135 Waiver:      0.0  ALABAMA  \n",
      "4    Non-Essential Business Closures, Stay At Home ...     0.0  ALABAMA  \n",
      "..                                                 ...     ...      ...  \n",
      "463           School Closures, Bar/Restaurant Limits:      0.0  WYOMING  \n",
      "464                             Large Gatherings Ban:      0.0  WYOMING  \n",
      "465                              Section 1135 Waiver:      0.0  WYOMING  \n",
      "466                Mandatory Quarantine for Travelers:     0.0  WYOMING  \n",
      "467                              Bar/Restaurant Limits     1.0  WYOMING  \n",
      "\n",
      "[468 rows x 5 columns]\n"
     ]
    },
    {
     "name": "stderr",
     "output_type": "stream",
     "text": [
      "C:\\Users\\Noah\\Anaconda3\\lib\\site-packages\\pandas\\core\\strings.py:1954: UserWarning: This pattern has match groups. To actually get the groups, use str.extract.\n",
      "  return func(self, *args, **kwargs)\n"
     ]
    }
   ],
   "source": [
    "close= pd.read_csv(\"data/closure_dates.csv\")\n",
    "print(close)\n",
    "close.drop(['Unnamed: 0'],axis=1,inplace=True)\n",
    "for x in actions.keys():\n",
    "    close[x] = np.where(close['Description'].str.lower().str.contains(x.lower()),1,0)\n",
    "close.drop_duplicates(inplace=True)\n",
    "    #close['chk'] = close.iloc[:,5:].sum(axis=1)\n",
    "#close.sort_values(by=['chk']).drop_duplicates(subset=['Description']).to_csv('chk.csv')\n",
    "\n",
    "\n",
    "close['first_date'] = close['Date'].str.split(',',expand=True).iloc[:,0]\n",
    "close['first_date'] = pd.to_datetime(close['first_date']+'/2020',errors='coerce')\n",
    "close.rename(columns=actions,inplace=True)\n",
    "close.rename(columns={'Easing':'ease'},inplace=True)\n",
    "\n",
    "for i in actions:\n",
    "    x = actions[i]\n",
    "    close[x] = np.where(close[x]==1,close['first_date'],np.datetime64('today'))\n",
    "lst  = [actions[x] for x in actions]\n",
    "\n",
    "close = close[['State']+lst+['ease']].copy()\n",
    "start = close[close['ease']==0].copy()\n",
    "ease = close[close['ease']==1].copy()\n",
    "fin =pd.DataFrame()\n",
    "for i,y in enumerate([start,ease]):\n",
    "    for x in lst:\n",
    "        fin = pd.concat([fin,y.groupby(['State'])[x].min()],axis=1)\n",
    "        fin.rename(columns={x:'{}_{}'.format(x,i)},inplace=True)\n",
    "upps = {x.upper():us_state_abbrev[x] for x in us_state_abbrev.keys()}\n",
    "\n",
    "def rep(x):\n",
    "    return upps[x]\n",
    "fin = fin.reset_index() \n",
    "fin['State'] = fin['index'].map(rep)\n",
    "fin.drop(['index'],axis=1,inplace=True)\n",
    "full_tog = full_tog.merge(fin,left_on=['state_abb'], right_on=['State'],how='left')"
   ]
  },
  {
   "cell_type": "markdown",
   "metadata": {},
   "source": [
    "# NYT stay at home"
   ]
  },
  {
   "cell_type": "code",
   "execution_count": 33,
   "metadata": {
    "jupyter": {
     "outputs_hidden": true
    }
   },
   "outputs": [],
   "source": [
    "nyt = pd.read_excel('tracker/county_tracker_final.xlsx',sheet_name='tracker',skiprows=3)\n",
    "nyt.rename(columns={'Source':'notes_orders'},inplace=True)\n",
    "full_tog = full_tog.merge(nyt[['FIPS','nyt_sah_0','nyt_sah_1','notes_orders']],on=['FIPS'],how='left',indicator=True)"
   ]
  },
  {
   "cell_type": "code",
   "execution_count": 34,
   "metadata": {
    "collapsed": true,
    "jupyter": {
     "outputs_hidden": true
    }
   },
   "outputs": [],
   "source": [
    "full_tog['no_nyt_order'] = np.where(full_tog['_merge']=='left_only',1,0)\n",
    "full_tog.drop(['_merge'],axis=1,inplace=True)"
   ]
  },
  {
   "cell_type": "markdown",
   "metadata": {},
   "source": [
    "# Covid Data (source: NYT)"
   ]
  },
  {
   "cell_type": "code",
   "execution_count": 35,
   "metadata": {
    "collapsed": true,
    "jupyter": {
     "outputs_hidden": true
    }
   },
   "outputs": [],
   "source": [
    "lst_download = '2020-05-28'"
   ]
  },
  {
   "cell_type": "code",
   "execution_count": 36,
   "metadata": {
    "collapsed": true,
    "jupyter": {
     "outputs_hidden": true
    }
   },
   "outputs": [],
   "source": [
    "covid_county = pd.read_csv('data/{}_us-counties.csv'.format(lst_download),encoding = \"ISO-8859-1\")"
   ]
  },
  {
   "cell_type": "code",
   "execution_count": 37,
   "metadata": {
    "scrolled": true
   },
   "outputs": [
    {
     "name": "stdout",
     "output_type": "stream",
     "text": [
      "(182670, 7)\n"
     ]
    },
    {
     "data": {
      "text/html": [
       "<div>\n",
       "<style scoped>\n",
       "    .dataframe tbody tr th:only-of-type {\n",
       "        vertical-align: middle;\n",
       "    }\n",
       "\n",
       "    .dataframe tbody tr th {\n",
       "        vertical-align: top;\n",
       "    }\n",
       "\n",
       "    .dataframe thead th {\n",
       "        text-align: right;\n",
       "    }\n",
       "</style>\n",
       "<table border=\"1\" class=\"dataframe\">\n",
       "  <thead>\n",
       "    <tr style=\"text-align: right;\">\n",
       "      <th></th>\n",
       "      <th>date</th>\n",
       "      <th>county</th>\n",
       "      <th>state</th>\n",
       "      <th>FIPS</th>\n",
       "      <th>cases</th>\n",
       "      <th>deaths</th>\n",
       "      <th>state_abb</th>\n",
       "      <th>first_case_date</th>\n",
       "    </tr>\n",
       "  </thead>\n",
       "  <tbody>\n",
       "    <tr>\n",
       "      <th>9480</th>\n",
       "      <td>2020-03-24</td>\n",
       "      <td>Autauga</td>\n",
       "      <td>Alabama</td>\n",
       "      <td>1001.0</td>\n",
       "      <td>1</td>\n",
       "      <td>0</td>\n",
       "      <td>AL</td>\n",
       "      <td>2020-03-24</td>\n",
       "    </tr>\n",
       "    <tr>\n",
       "      <th>10832</th>\n",
       "      <td>2020-03-25</td>\n",
       "      <td>Autauga</td>\n",
       "      <td>Alabama</td>\n",
       "      <td>1001.0</td>\n",
       "      <td>4</td>\n",
       "      <td>0</td>\n",
       "      <td>AL</td>\n",
       "      <td>2020-03-24</td>\n",
       "    </tr>\n",
       "    <tr>\n",
       "      <th>12361</th>\n",
       "      <td>2020-03-26</td>\n",
       "      <td>Autauga</td>\n",
       "      <td>Alabama</td>\n",
       "      <td>1001.0</td>\n",
       "      <td>6</td>\n",
       "      <td>0</td>\n",
       "      <td>AL</td>\n",
       "      <td>2020-03-24</td>\n",
       "    </tr>\n",
       "    <tr>\n",
       "      <th>14021</th>\n",
       "      <td>2020-03-27</td>\n",
       "      <td>Autauga</td>\n",
       "      <td>Alabama</td>\n",
       "      <td>1001.0</td>\n",
       "      <td>6</td>\n",
       "      <td>0</td>\n",
       "      <td>AL</td>\n",
       "      <td>2020-03-24</td>\n",
       "    </tr>\n",
       "    <tr>\n",
       "      <th>15801</th>\n",
       "      <td>2020-03-28</td>\n",
       "      <td>Autauga</td>\n",
       "      <td>Alabama</td>\n",
       "      <td>1001.0</td>\n",
       "      <td>6</td>\n",
       "      <td>0</td>\n",
       "      <td>AL</td>\n",
       "      <td>2020-03-24</td>\n",
       "    </tr>\n",
       "    <tr>\n",
       "      <th>17685</th>\n",
       "      <td>2020-03-29</td>\n",
       "      <td>Autauga</td>\n",
       "      <td>Alabama</td>\n",
       "      <td>1001.0</td>\n",
       "      <td>6</td>\n",
       "      <td>0</td>\n",
       "      <td>AL</td>\n",
       "      <td>2020-03-24</td>\n",
       "    </tr>\n",
       "    <tr>\n",
       "      <th>19656</th>\n",
       "      <td>2020-03-30</td>\n",
       "      <td>Autauga</td>\n",
       "      <td>Alabama</td>\n",
       "      <td>1001.0</td>\n",
       "      <td>7</td>\n",
       "      <td>0</td>\n",
       "      <td>AL</td>\n",
       "      <td>2020-03-24</td>\n",
       "    </tr>\n",
       "    <tr>\n",
       "      <th>21728</th>\n",
       "      <td>2020-03-31</td>\n",
       "      <td>Autauga</td>\n",
       "      <td>Alabama</td>\n",
       "      <td>1001.0</td>\n",
       "      <td>7</td>\n",
       "      <td>0</td>\n",
       "      <td>AL</td>\n",
       "      <td>2020-03-24</td>\n",
       "    </tr>\n",
       "    <tr>\n",
       "      <th>23882</th>\n",
       "      <td>2020-04-01</td>\n",
       "      <td>Autauga</td>\n",
       "      <td>Alabama</td>\n",
       "      <td>1001.0</td>\n",
       "      <td>10</td>\n",
       "      <td>0</td>\n",
       "      <td>AL</td>\n",
       "      <td>2020-03-24</td>\n",
       "    </tr>\n",
       "    <tr>\n",
       "      <th>26098</th>\n",
       "      <td>2020-04-02</td>\n",
       "      <td>Autauga</td>\n",
       "      <td>Alabama</td>\n",
       "      <td>1001.0</td>\n",
       "      <td>10</td>\n",
       "      <td>0</td>\n",
       "      <td>AL</td>\n",
       "      <td>2020-03-24</td>\n",
       "    </tr>\n",
       "    <tr>\n",
       "      <th>28387</th>\n",
       "      <td>2020-04-03</td>\n",
       "      <td>Autauga</td>\n",
       "      <td>Alabama</td>\n",
       "      <td>1001.0</td>\n",
       "      <td>12</td>\n",
       "      <td>0</td>\n",
       "      <td>AL</td>\n",
       "      <td>2020-03-24</td>\n",
       "    </tr>\n",
       "    <tr>\n",
       "      <th>30741</th>\n",
       "      <td>2020-04-04</td>\n",
       "      <td>Autauga</td>\n",
       "      <td>Alabama</td>\n",
       "      <td>1001.0</td>\n",
       "      <td>12</td>\n",
       "      <td>0</td>\n",
       "      <td>AL</td>\n",
       "      <td>2020-03-24</td>\n",
       "    </tr>\n",
       "    <tr>\n",
       "      <th>33145</th>\n",
       "      <td>2020-04-05</td>\n",
       "      <td>Autauga</td>\n",
       "      <td>Alabama</td>\n",
       "      <td>1001.0</td>\n",
       "      <td>12</td>\n",
       "      <td>0</td>\n",
       "      <td>AL</td>\n",
       "      <td>2020-03-24</td>\n",
       "    </tr>\n",
       "    <tr>\n",
       "      <th>35582</th>\n",
       "      <td>2020-04-06</td>\n",
       "      <td>Autauga</td>\n",
       "      <td>Alabama</td>\n",
       "      <td>1001.0</td>\n",
       "      <td>12</td>\n",
       "      <td>1</td>\n",
       "      <td>AL</td>\n",
       "      <td>2020-03-24</td>\n",
       "    </tr>\n",
       "    <tr>\n",
       "      <th>38066</th>\n",
       "      <td>2020-04-07</td>\n",
       "      <td>Autauga</td>\n",
       "      <td>Alabama</td>\n",
       "      <td>1001.0</td>\n",
       "      <td>12</td>\n",
       "      <td>1</td>\n",
       "      <td>AL</td>\n",
       "      <td>2020-03-24</td>\n",
       "    </tr>\n",
       "    <tr>\n",
       "      <th>40603</th>\n",
       "      <td>2020-04-08</td>\n",
       "      <td>Autauga</td>\n",
       "      <td>Alabama</td>\n",
       "      <td>1001.0</td>\n",
       "      <td>12</td>\n",
       "      <td>1</td>\n",
       "      <td>AL</td>\n",
       "      <td>2020-03-24</td>\n",
       "    </tr>\n",
       "    <tr>\n",
       "      <th>43167</th>\n",
       "      <td>2020-04-09</td>\n",
       "      <td>Autauga</td>\n",
       "      <td>Alabama</td>\n",
       "      <td>1001.0</td>\n",
       "      <td>17</td>\n",
       "      <td>1</td>\n",
       "      <td>AL</td>\n",
       "      <td>2020-03-24</td>\n",
       "    </tr>\n",
       "    <tr>\n",
       "      <th>45760</th>\n",
       "      <td>2020-04-10</td>\n",
       "      <td>Autauga</td>\n",
       "      <td>Alabama</td>\n",
       "      <td>1001.0</td>\n",
       "      <td>17</td>\n",
       "      <td>1</td>\n",
       "      <td>AL</td>\n",
       "      <td>2020-03-24</td>\n",
       "    </tr>\n",
       "    <tr>\n",
       "      <th>48386</th>\n",
       "      <td>2020-04-11</td>\n",
       "      <td>Autauga</td>\n",
       "      <td>Alabama</td>\n",
       "      <td>1001.0</td>\n",
       "      <td>19</td>\n",
       "      <td>1</td>\n",
       "      <td>AL</td>\n",
       "      <td>2020-03-24</td>\n",
       "    </tr>\n",
       "    <tr>\n",
       "      <th>51044</th>\n",
       "      <td>2020-04-12</td>\n",
       "      <td>Autauga</td>\n",
       "      <td>Alabama</td>\n",
       "      <td>1001.0</td>\n",
       "      <td>19</td>\n",
       "      <td>1</td>\n",
       "      <td>AL</td>\n",
       "      <td>2020-03-24</td>\n",
       "    </tr>\n",
       "  </tbody>\n",
       "</table>\n",
       "</div>"
      ],
      "text/plain": [
       "            date   county    state    FIPS  cases  deaths state_abb  \\\n",
       "9480  2020-03-24  Autauga  Alabama  1001.0      1       0        AL   \n",
       "10832 2020-03-25  Autauga  Alabama  1001.0      4       0        AL   \n",
       "12361 2020-03-26  Autauga  Alabama  1001.0      6       0        AL   \n",
       "14021 2020-03-27  Autauga  Alabama  1001.0      6       0        AL   \n",
       "15801 2020-03-28  Autauga  Alabama  1001.0      6       0        AL   \n",
       "17685 2020-03-29  Autauga  Alabama  1001.0      6       0        AL   \n",
       "19656 2020-03-30  Autauga  Alabama  1001.0      7       0        AL   \n",
       "21728 2020-03-31  Autauga  Alabama  1001.0      7       0        AL   \n",
       "23882 2020-04-01  Autauga  Alabama  1001.0     10       0        AL   \n",
       "26098 2020-04-02  Autauga  Alabama  1001.0     10       0        AL   \n",
       "28387 2020-04-03  Autauga  Alabama  1001.0     12       0        AL   \n",
       "30741 2020-04-04  Autauga  Alabama  1001.0     12       0        AL   \n",
       "33145 2020-04-05  Autauga  Alabama  1001.0     12       0        AL   \n",
       "35582 2020-04-06  Autauga  Alabama  1001.0     12       1        AL   \n",
       "38066 2020-04-07  Autauga  Alabama  1001.0     12       1        AL   \n",
       "40603 2020-04-08  Autauga  Alabama  1001.0     12       1        AL   \n",
       "43167 2020-04-09  Autauga  Alabama  1001.0     17       1        AL   \n",
       "45760 2020-04-10  Autauga  Alabama  1001.0     17       1        AL   \n",
       "48386 2020-04-11  Autauga  Alabama  1001.0     19       1        AL   \n",
       "51044 2020-04-12  Autauga  Alabama  1001.0     19       1        AL   \n",
       "\n",
       "      first_case_date  \n",
       "9480       2020-03-24  \n",
       "10832      2020-03-24  \n",
       "12361      2020-03-24  \n",
       "14021      2020-03-24  \n",
       "15801      2020-03-24  \n",
       "17685      2020-03-24  \n",
       "19656      2020-03-24  \n",
       "21728      2020-03-24  \n",
       "23882      2020-03-24  \n",
       "26098      2020-03-24  \n",
       "28387      2020-03-24  \n",
       "30741      2020-03-24  \n",
       "33145      2020-03-24  \n",
       "35582      2020-03-24  \n",
       "38066      2020-03-24  \n",
       "40603      2020-03-24  \n",
       "43167      2020-03-24  \n",
       "45760      2020-03-24  \n",
       "48386      2020-03-24  \n",
       "51044      2020-03-24  "
      ]
     },
     "execution_count": 37,
     "metadata": {},
     "output_type": "execute_result"
    }
   ],
   "source": [
    "covid_county['state_abb'] = covid_county['state'].apply(replace_acronym)\n",
    "covid_county.date = pd.to_datetime(covid_county.date,errors='coerce')\n",
    "covid_county.rename(columns={'fips':'FIPS'},inplace=True)\n",
    "covid_county['FIPS'] = covid_county['FIPS'].astype(float)\n",
    "print(covid_county.shape)\n",
    "covid_county.dropna(subset=['FIPS'],inplace=True)\n",
    "covid_county[covid_county['date']>=pd.to_datetime('2020-02-15')].shape\n",
    "covid_county['first_case_date']  = covid_county.groupby(['FIPS'])['date'].transform(min)\n",
    "covid_county.sort_values(by=['FIPS','date']).head(20) "
   ]
  },
  {
   "cell_type": "code",
   "execution_count": 38,
   "metadata": {},
   "outputs": [
    {
     "data": {
      "text/html": [
       "<div>\n",
       "<style scoped>\n",
       "    .dataframe tbody tr th:only-of-type {\n",
       "        vertical-align: middle;\n",
       "    }\n",
       "\n",
       "    .dataframe tbody tr th {\n",
       "        vertical-align: top;\n",
       "    }\n",
       "\n",
       "    .dataframe thead th {\n",
       "        text-align: right;\n",
       "    }\n",
       "</style>\n",
       "<table border=\"1\" class=\"dataframe\">\n",
       "  <thead>\n",
       "    <tr style=\"text-align: right;\">\n",
       "      <th></th>\n",
       "      <th>date</th>\n",
       "      <th>county</th>\n",
       "      <th>state</th>\n",
       "      <th>FIPS</th>\n",
       "      <th>cases</th>\n",
       "      <th>deaths</th>\n",
       "      <th>state_abb</th>\n",
       "      <th>first_case_date</th>\n",
       "    </tr>\n",
       "  </thead>\n",
       "  <tbody>\n",
       "    <tr>\n",
       "      <th>182665</th>\n",
       "      <td>2020-05-27</td>\n",
       "      <td>Sweetwater</td>\n",
       "      <td>Wyoming</td>\n",
       "      <td>56037.0</td>\n",
       "      <td>25</td>\n",
       "      <td>0</td>\n",
       "      <td>WY</td>\n",
       "      <td>2020-03-24</td>\n",
       "    </tr>\n",
       "    <tr>\n",
       "      <th>182666</th>\n",
       "      <td>2020-05-27</td>\n",
       "      <td>Teton</td>\n",
       "      <td>Wyoming</td>\n",
       "      <td>56039.0</td>\n",
       "      <td>100</td>\n",
       "      <td>1</td>\n",
       "      <td>WY</td>\n",
       "      <td>2020-03-18</td>\n",
       "    </tr>\n",
       "    <tr>\n",
       "      <th>182667</th>\n",
       "      <td>2020-05-27</td>\n",
       "      <td>Uinta</td>\n",
       "      <td>Wyoming</td>\n",
       "      <td>56041.0</td>\n",
       "      <td>12</td>\n",
       "      <td>0</td>\n",
       "      <td>WY</td>\n",
       "      <td>2020-04-02</td>\n",
       "    </tr>\n",
       "    <tr>\n",
       "      <th>182668</th>\n",
       "      <td>2020-05-27</td>\n",
       "      <td>Washakie</td>\n",
       "      <td>Wyoming</td>\n",
       "      <td>56043.0</td>\n",
       "      <td>32</td>\n",
       "      <td>3</td>\n",
       "      <td>WY</td>\n",
       "      <td>2020-03-27</td>\n",
       "    </tr>\n",
       "    <tr>\n",
       "      <th>182669</th>\n",
       "      <td>2020-05-27</td>\n",
       "      <td>Weston</td>\n",
       "      <td>Wyoming</td>\n",
       "      <td>56045.0</td>\n",
       "      <td>1</td>\n",
       "      <td>0</td>\n",
       "      <td>WY</td>\n",
       "      <td>2020-05-27</td>\n",
       "    </tr>\n",
       "  </tbody>\n",
       "</table>\n",
       "</div>"
      ],
      "text/plain": [
       "             date      county    state     FIPS  cases  deaths state_abb  \\\n",
       "182665 2020-05-27  Sweetwater  Wyoming  56037.0     25       0        WY   \n",
       "182666 2020-05-27       Teton  Wyoming  56039.0    100       1        WY   \n",
       "182667 2020-05-27       Uinta  Wyoming  56041.0     12       0        WY   \n",
       "182668 2020-05-27    Washakie  Wyoming  56043.0     32       3        WY   \n",
       "182669 2020-05-27      Weston  Wyoming  56045.0      1       0        WY   \n",
       "\n",
       "       first_case_date  \n",
       "182665      2020-03-24  \n",
       "182666      2020-03-18  \n",
       "182667      2020-04-02  \n",
       "182668      2020-03-27  \n",
       "182669      2020-05-27  "
      ]
     },
     "execution_count": 38,
     "metadata": {},
     "output_type": "execute_result"
    }
   ],
   "source": [
    "covid_county.tail()"
   ]
  },
  {
   "cell_type": "code",
   "execution_count": 39,
   "metadata": {},
   "outputs": [
    {
     "data": {
      "text/plain": [
       "(180675, 8)"
      ]
     },
     "execution_count": 39,
     "metadata": {},
     "output_type": "execute_result"
    }
   ],
   "source": [
    "covid_county[covid_county[['date','FIPS']].isnull()].shape"
   ]
  },
  {
   "cell_type": "code",
   "execution_count": 54,
   "metadata": {
    "jupyter": {
     "outputs_hidden": true
    }
   },
   "outputs": [
    {
     "data": {
      "text/plain": [
       "(324937, 146)"
      ]
     },
     "execution_count": 54,
     "metadata": {},
     "output_type": "execute_result"
    }
   ],
   "source": [
    "full_data = full_tog.merge(covid_county,on=['date','FIPS'],how='left',indicator=True)\n",
    "full_data[full_data[['date','FIPS']].isnull()].shape"
   ]
  },
  {
   "cell_type": "code",
   "execution_count": 42,
   "metadata": {},
   "outputs": [
    {
     "name": "stderr",
     "output_type": "stream",
     "text": [
      "C:\\Users\\Noah\\Anaconda3\\lib\\site-packages\\ipykernel_launcher.py:1: FutureWarning: Indexing with multiple keys (implicitly converted to a tuple of keys) will be deprecated, use a list instead.\n",
      "  \"\"\"Entry point for launching an IPython kernel.\n"
     ]
    },
    {
     "data": {
      "text/plain": [
       "<matplotlib.axes._subplots.AxesSubplot at 0x2a300e17518>"
      ]
     },
     "execution_count": 42,
     "metadata": {},
     "output_type": "execute_result"
    },
    {
     "data": {
      "image/png": "[encoded data removed]",
      "text/plain": [
       "<Figure size 1080x576 with 2 Axes>"
      ]
     },
     "metadata": {},
     "output_type": "display_data"
    }
   ],
   "source": [
    "plt_data = full_data.groupby(['date'])['cases','deaths'].sum().reset_index()\n",
    "f, ax = plt.subplots(1,2,sharex=True,figsize=(15,8))\n",
    "sns.lineplot(x='date',y='cases',data=plt_data,ax=ax[0])\n",
    "sns.lineplot(x='date',y='deaths',data=plt_data,ax=ax[1])"
   ]
  },
  {
   "cell_type": "markdown",
   "metadata": {},
   "source": [
    "# Weather Data:"
   ]
  },
  {
   "cell_type": "code",
   "execution_count": 55,
   "metadata": {},
   "outputs": [],
   "source": [
    "weather = pd.read_csv('data/weather_county_2020-01-01_yesterday.csv.gz')"
   ]
  },
  {
   "cell_type": "code",
   "execution_count": 56,
   "metadata": {
    "collapsed": true
   },
   "outputs": [],
   "source": [
    "weather = weather.loc[(weather['date']>'2020-02-14') & (weather['date']<'2020-05-28')][['county','date','tmin','tmax','precip']].reset_index()\n",
    "del weather['index']\n",
    "weather = weather.rename(columns = {'county':'FIPS'})"
   ]
  },
  {
   "cell_type": "code",
   "execution_count": 57,
   "metadata": {},
   "outputs": [
    {
     "data": {
      "text/html": [
       "<div>\n",
       "<style scoped>\n",
       "    .dataframe tbody tr th:only-of-type {\n",
       "        vertical-align: middle;\n",
       "    }\n",
       "\n",
       "    .dataframe tbody tr th {\n",
       "        vertical-align: top;\n",
       "    }\n",
       "\n",
       "    .dataframe thead th {\n",
       "        text-align: right;\n",
       "    }\n",
       "</style>\n",
       "<table border=\"1\" class=\"dataframe\">\n",
       "  <thead>\n",
       "    <tr style=\"text-align: right;\">\n",
       "      <th></th>\n",
       "      <th>FIPS</th>\n",
       "      <th>date</th>\n",
       "      <th>tmin</th>\n",
       "      <th>tmax</th>\n",
       "      <th>precip</th>\n",
       "    </tr>\n",
       "  </thead>\n",
       "  <tbody>\n",
       "    <tr>\n",
       "      <th>0</th>\n",
       "      <td>1001</td>\n",
       "      <td>2020-02-15</td>\n",
       "      <td>31.026552</td>\n",
       "      <td>62.133448</td>\n",
       "      <td>2.080460</td>\n",
       "    </tr>\n",
       "    <tr>\n",
       "      <th>1</th>\n",
       "      <td>1001</td>\n",
       "      <td>2020-02-16</td>\n",
       "      <td>46.221034</td>\n",
       "      <td>56.176897</td>\n",
       "      <td>1.571264</td>\n",
       "    </tr>\n",
       "    <tr>\n",
       "      <th>2</th>\n",
       "      <td>1001</td>\n",
       "      <td>2020-02-17</td>\n",
       "      <td>50.493448</td>\n",
       "      <td>62.971379</td>\n",
       "      <td>15.296552</td>\n",
       "    </tr>\n",
       "    <tr>\n",
       "      <th>3</th>\n",
       "      <td>1001</td>\n",
       "      <td>2020-02-18</td>\n",
       "      <td>56.814138</td>\n",
       "      <td>72.989310</td>\n",
       "      <td>20.049425</td>\n",
       "    </tr>\n",
       "    <tr>\n",
       "      <th>4</th>\n",
       "      <td>1001</td>\n",
       "      <td>2020-02-19</td>\n",
       "      <td>51.302414</td>\n",
       "      <td>58.618276</td>\n",
       "      <td>16.174713</td>\n",
       "    </tr>\n",
       "  </tbody>\n",
       "</table>\n",
       "</div>"
      ],
      "text/plain": [
       "   FIPS       date       tmin       tmax     precip\n",
       "0  1001 2020-02-15  31.026552  62.133448   2.080460\n",
       "1  1001 2020-02-16  46.221034  56.176897   1.571264\n",
       "2  1001 2020-02-17  50.493448  62.971379  15.296552\n",
       "3  1001 2020-02-18  56.814138  72.989310  20.049425\n",
       "4  1001 2020-02-19  51.302414  58.618276  16.174713"
      ]
     },
     "execution_count": 57,
     "metadata": {},
     "output_type": "execute_result"
    }
   ],
   "source": [
    "weather['date'] = pd.to_datetime(weather['date'],errors='coerce') \n",
    "weather.head()"
   ]
  },
  {
   "cell_type": "code",
   "execution_count": 58,
   "metadata": {},
   "outputs": [],
   "source": [
    "full_data = full_data.merge(weather,on=['FIPS','date'])"
   ]
  },
  {
   "cell_type": "code",
   "execution_count": 59,
   "metadata": {},
   "outputs": [
    {
     "data": {
      "text/html": [
       "<div>\n",
       "<style scoped>\n",
       "    .dataframe tbody tr th:only-of-type {\n",
       "        vertical-align: middle;\n",
       "    }\n",
       "\n",
       "    .dataframe tbody tr th {\n",
       "        vertical-align: top;\n",
       "    }\n",
       "\n",
       "    .dataframe thead th {\n",
       "        text-align: right;\n",
       "    }\n",
       "</style>\n",
       "<table border=\"1\" class=\"dataframe\">\n",
       "  <thead>\n",
       "    <tr style=\"text-align: right;\">\n",
       "      <th></th>\n",
       "      <th>Unnamed: 0</th>\n",
       "      <th>FIPS</th>\n",
       "      <th>date</th>\n",
       "      <th>device_count</th>\n",
       "      <th>completely_home_device_count</th>\n",
       "      <th>part_time_work_behavior_devices</th>\n",
       "      <th>full_time_work_behavior_devices</th>\n",
       "      <th>leaving_home</th>\n",
       "      <th>pct_leaving_home</th>\n",
       "      <th>pct_social_distancing</th>\n",
       "      <th>...</th>\n",
       "      <th>county_y</th>\n",
       "      <th>state_y</th>\n",
       "      <th>cases</th>\n",
       "      <th>deaths</th>\n",
       "      <th>state_abb_y</th>\n",
       "      <th>first_case_date</th>\n",
       "      <th>_merge</th>\n",
       "      <th>tmin</th>\n",
       "      <th>tmax</th>\n",
       "      <th>precip</th>\n",
       "    </tr>\n",
       "  </thead>\n",
       "  <tbody>\n",
       "    <tr>\n",
       "      <th>0</th>\n",
       "      <td>0</td>\n",
       "      <td>1001.0</td>\n",
       "      <td>2020-02-15</td>\n",
       "      <td>5708</td>\n",
       "      <td>1152</td>\n",
       "      <td>622</td>\n",
       "      <td>180</td>\n",
       "      <td>4556</td>\n",
       "      <td>0.798178</td>\n",
       "      <td>0.234815</td>\n",
       "      <td>...</td>\n",
       "      <td>NaN</td>\n",
       "      <td>NaN</td>\n",
       "      <td>NaN</td>\n",
       "      <td>NaN</td>\n",
       "      <td>NaN</td>\n",
       "      <td>NaT</td>\n",
       "      <td>left_only</td>\n",
       "      <td>31.026552</td>\n",
       "      <td>62.133448</td>\n",
       "      <td>2.080460</td>\n",
       "    </tr>\n",
       "    <tr>\n",
       "      <th>1</th>\n",
       "      <td>1</td>\n",
       "      <td>1001.0</td>\n",
       "      <td>2020-02-16</td>\n",
       "      <td>5655</td>\n",
       "      <td>1334</td>\n",
       "      <td>582</td>\n",
       "      <td>108</td>\n",
       "      <td>4321</td>\n",
       "      <td>0.764103</td>\n",
       "      <td>0.268681</td>\n",
       "      <td>...</td>\n",
       "      <td>NaN</td>\n",
       "      <td>NaN</td>\n",
       "      <td>NaN</td>\n",
       "      <td>NaN</td>\n",
       "      <td>NaN</td>\n",
       "      <td>NaT</td>\n",
       "      <td>left_only</td>\n",
       "      <td>46.221034</td>\n",
       "      <td>56.176897</td>\n",
       "      <td>1.571264</td>\n",
       "    </tr>\n",
       "    <tr>\n",
       "      <th>2</th>\n",
       "      <td>2</td>\n",
       "      <td>1001.0</td>\n",
       "      <td>2020-02-17</td>\n",
       "      <td>5429</td>\n",
       "      <td>1119</td>\n",
       "      <td>780</td>\n",
       "      <td>406</td>\n",
       "      <td>4310</td>\n",
       "      <td>0.793885</td>\n",
       "      <td>0.263728</td>\n",
       "      <td>...</td>\n",
       "      <td>NaN</td>\n",
       "      <td>NaN</td>\n",
       "      <td>NaN</td>\n",
       "      <td>NaN</td>\n",
       "      <td>NaN</td>\n",
       "      <td>NaT</td>\n",
       "      <td>left_only</td>\n",
       "      <td>50.493448</td>\n",
       "      <td>62.971379</td>\n",
       "      <td>15.296552</td>\n",
       "    </tr>\n",
       "    <tr>\n",
       "      <th>3</th>\n",
       "      <td>3</td>\n",
       "      <td>1001.0</td>\n",
       "      <td>2020-02-18</td>\n",
       "      <td>5270</td>\n",
       "      <td>892</td>\n",
       "      <td>1033</td>\n",
       "      <td>786</td>\n",
       "      <td>4378</td>\n",
       "      <td>0.830740</td>\n",
       "      <td>0.258476</td>\n",
       "      <td>...</td>\n",
       "      <td>NaN</td>\n",
       "      <td>NaN</td>\n",
       "      <td>NaN</td>\n",
       "      <td>NaN</td>\n",
       "      <td>NaN</td>\n",
       "      <td>NaT</td>\n",
       "      <td>left_only</td>\n",
       "      <td>56.814138</td>\n",
       "      <td>72.989310</td>\n",
       "      <td>20.049425</td>\n",
       "    </tr>\n",
       "    <tr>\n",
       "      <th>4</th>\n",
       "      <td>4</td>\n",
       "      <td>1001.0</td>\n",
       "      <td>2020-02-19</td>\n",
       "      <td>5546</td>\n",
       "      <td>974</td>\n",
       "      <td>1054</td>\n",
       "      <td>729</td>\n",
       "      <td>4572</td>\n",
       "      <td>0.824378</td>\n",
       "      <td>0.258836</td>\n",
       "      <td>...</td>\n",
       "      <td>NaN</td>\n",
       "      <td>NaN</td>\n",
       "      <td>NaN</td>\n",
       "      <td>NaN</td>\n",
       "      <td>NaN</td>\n",
       "      <td>NaT</td>\n",
       "      <td>left_only</td>\n",
       "      <td>51.302414</td>\n",
       "      <td>58.618276</td>\n",
       "      <td>16.174713</td>\n",
       "    </tr>\n",
       "  </tbody>\n",
       "</table>\n",
       "<p>5 rows × 149 columns</p>\n",
       "</div>"
      ],
      "text/plain": [
       "   Unnamed: 0    FIPS       date  device_count  completely_home_device_count  \\\n",
       "0           0  1001.0 2020-02-15          5708                          1152   \n",
       "1           1  1001.0 2020-02-16          5655                          1334   \n",
       "2           2  1001.0 2020-02-17          5429                          1119   \n",
       "3           3  1001.0 2020-02-18          5270                           892   \n",
       "4           4  1001.0 2020-02-19          5546                           974   \n",
       "\n",
       "   part_time_work_behavior_devices  full_time_work_behavior_devices  \\\n",
       "0                              622                              180   \n",
       "1                              582                              108   \n",
       "2                              780                              406   \n",
       "3                             1033                              786   \n",
       "4                             1054                              729   \n",
       "\n",
       "   leaving_home  pct_leaving_home  pct_social_distancing  ... county_y  \\\n",
       "0          4556          0.798178               0.234815  ...      NaN   \n",
       "1          4321          0.764103               0.268681  ...      NaN   \n",
       "2          4310          0.793885               0.263728  ...      NaN   \n",
       "3          4378          0.830740               0.258476  ...      NaN   \n",
       "4          4572          0.824378               0.258836  ...      NaN   \n",
       "\n",
       "  state_y  cases  deaths  state_abb_y  first_case_date     _merge       tmin  \\\n",
       "0     NaN    NaN     NaN          NaN              NaT  left_only  31.026552   \n",
       "1     NaN    NaN     NaN          NaN              NaT  left_only  46.221034   \n",
       "2     NaN    NaN     NaN          NaN              NaT  left_only  50.493448   \n",
       "3     NaN    NaN     NaN          NaN              NaT  left_only  56.814138   \n",
       "4     NaN    NaN     NaN          NaN              NaT  left_only  51.302414   \n",
       "\n",
       "        tmax     precip  \n",
       "0  62.133448   2.080460  \n",
       "1  56.176897   1.571264  \n",
       "2  62.971379  15.296552  \n",
       "3  72.989310  20.049425  \n",
       "4  58.618276  16.174713  \n",
       "\n",
       "[5 rows x 149 columns]"
      ]
     },
     "execution_count": 59,
     "metadata": {},
     "output_type": "execute_result"
    }
   ],
   "source": [
    "full_data.head()"
   ]
  },
  {
   "cell_type": "code",
   "execution_count": 60,
   "metadata": {
    "collapsed": true,
    "jupyter": {
     "outputs_hidden": true
    }
   },
   "outputs": [],
   "source": [
    "full_data.to_csv('data/compiled_{}.csv'.format(str(datetime.now().date())),index=False)"
   ]
  },
  {
   "cell_type": "code",
   "execution_count": 61,
   "metadata": {},
   "outputs": [
    {
     "data": {
      "text/plain": [
       "Texas                   25654\n",
       "Georgia                 16059\n",
       "Virginia                13029\n",
       "Missouri                11615\n",
       "Kansas                  10605\n",
       "Illinois                10302\n",
       "North Carolina          10100\n",
       "Tennessee                9595\n",
       "Indiana                  9292\n",
       "Ohio                     8888\n",
       "Minnesota                8787\n",
       "Michigan                 8383\n",
       "Mississippi              8282\n",
       "Wisconsin                7272\n",
       "Pennsylvania             6767\n",
       "Alabama                  6767\n",
       "Florida                  6767\n",
       "Colorado                 6464\n",
       "Louisiana                6464\n",
       "New York                 6262\n",
       "California               5858\n",
       "Montana                  5656\n",
       "West Virginia            5555\n",
       "South Carolina           4646\n",
       "Idaho                    4444\n",
       "Washington               3939\n",
       "Oregon                   3636\n",
       "New Mexico               3333\n",
       "Utah                     2828\n",
       "Maryland                 2424\n",
       "New Jersey               2121\n",
       "Nevada                   1717\n",
       "Maine                    1616\n",
       "Arizona                  1515\n",
       "Massachusetts            1414\n",
       "Vermont                  1414\n",
       "New Hampshire            1010\n",
       "Connecticut               808\n",
       "Rhode Island              505\n",
       "Delaware                  303\n",
       "Oklahoma                  202\n",
       "District of Columbia      101\n",
       "Name: state_x, dtype: int64"
      ]
     },
     "execution_count": 61,
     "metadata": {},
     "output_type": "execute_result"
    }
   ],
   "source": [
    "full_data[full_data['nyt_sah_0'].notnull()]['state_x'].value_counts()"
   ]
  },
  {
   "cell_type": "markdown",
   "metadata": {},
   "source": [
    "# Tracking Counties"
   ]
  },
  {
   "cell_type": "code",
   "execution_count": 49,
   "metadata": {
    "collapsed": true,
    "jupyter": {
     "outputs_hidden": true
    }
   },
   "outputs": [],
   "source": [
    "orders = full_data[['state_x', 'state_abb_x', 'county_x','FIPS', 'soe','sah', 'state_ease_0', 'state_sah_0',\n",
    "       'state_mandate_0', 'state_non_ess_0', 'state_lgb_0', 'state_sc_0',\n",
    "       'state_bar_res_0', 'state_election_0', 'state_emergency_0',\n",
    "       'state_compliance_0', 'state_prepare_0', 'state_ease_1',\n",
    "       'state_sah_1', 'state_mandate_1', 'state_non_ess_1', 'state_lgb_1',\n",
    "       'state_sc_1', 'state_bar_res_1', 'state_election_1',\n",
    "       'state_emergency_1', 'state_compliance_1', 'state_prepare_1']].drop_duplicates()\n",
    "\n",
    "orders.rename(columns={'state_x':'state', 'state_abb_x':'state_abb', 'county_x':'county'},inplace=True)\n",
    "orders.to_csv('data/county_tracker.csv', index=False)"
   ]
  },
  {
   "cell_type": "markdown",
   "metadata": {},
   "source": [
    "# Lag mobility data"
   ]
  },
  {
   "cell_type": "code",
   "execution_count": 37,
   "metadata": {
    "scrolled": true
   },
   "outputs": [
    {
     "data": {
      "text/plain": [
       "array(['country_region_code', 'country_region', 'state_x', 'county_x',\n",
       "       'date', 'retail', 'food_drugs', 'park', 'transit', 'work', 'homes',\n",
       "       'source', 'state_abb_x', 'FIPS', 'geo', 'POP_ESTIMATE_2018',\n",
       "       'N_POP_CHG_2018', 'Births_2018', 'Deaths_2018', 'NATURAL_INC_2018',\n",
       "       'INTERNATIONAL_MIG_2018', 'DOMESTIC_MIG_2018', 'NET_MIG_2018',\n",
       "       'RESIDUAL_2018', 'GQ_ESTIMATES_2018', 'R_birth_2018',\n",
       "       'R_death_2018', 'R_NATURAL_INC_2018', 'R_INTERNATIONAL_MIG_2018',\n",
       "       'R_DOMESTIC_MIG_2018', 'R_NET_MIG_2018', 'POVALL_2018',\n",
       "       'CI90LBAll_2018', 'CI90UBALL_2018', 'PCTPOVALL_2018',\n",
       "       'CI90LBALLP_2018', 'CI90UBALLP_2018', 'POV017_2018',\n",
       "       'CI90LB017_2018', 'CI90UB017_2018', 'PCTPOV017_2018',\n",
       "       'CI90LB017P_2018', 'CI90UB017P_2018', 'POV517_2018',\n",
       "       'CI90LB517_2018', 'CI90UB517_2018', 'PCTPOV517_2018',\n",
       "       'CI90LB517P_2018', 'CI90UB517P_2018', 'MEDHHINC_2018',\n",
       "       'CI90LBINC_2018', 'CI90UBINC_2018', 'POV04_2018', 'CI90LB04_2018',\n",
       "       'CI90UB04_2018', 'PCTPOV04_2018', 'CI90LB04P_2018',\n",
       "       'CI90UB04P_2018', 'Civilian_labor_force_2018', 'Employed_2018',\n",
       "       'Unemployed_2018', 'Unemployment_rate_2018',\n",
       "       'Median_Household_Income_2018',\n",
       "       'Med_HH_Income_Percent_of_State_Total_2018', 'neighbors1',\n",
       "       'neighbors2', 'neighbors3', 'neighbors4', 'neighbors5',\n",
       "       'neighbors6', 'neighbors7', 'neighbors8', 'neighbors9',\n",
       "       'neighbors10', 'neighbors11', 'neighbors12', 'neighbors13',\n",
       "       'neighbors14', 'neighbors15', 'soe', 'sah', 'school_year', 'bars',\n",
       "       'gather', 'Gatherings banned', 'daycares', 'non_essential_retail',\n",
       "       'travel_restriction', 'state_y', 'cases', 'deaths', 'state_abb_y',\n",
       "       'county_y', 'first_case_date', '_merge'], dtype=object)"
      ]
     },
     "execution_count": 37,
     "metadata": {},
     "output_type": "execute_result"
    }
   ],
   "source": [
    "full_data.columns.values"
   ]
  },
  {
   "cell_type": "code",
   "execution_count": 58,
   "metadata": {
    "collapsed": true,
    "jupyter": {
     "outputs_hidden": true
    }
   },
   "outputs": [
    {
     "data": {
      "text/plain": [
       "1        NaN\n",
       "3        NaN\n",
       "5        NaN\n",
       "7        NaN\n",
       "9        NaN\n",
       "          ..\n",
       "127485   NaN\n",
       "127486   NaN\n",
       "127487   NaN\n",
       "127488   NaN\n",
       "127489   NaN\n",
       "Name: FIPS, Length: 166, dtype: float64"
      ]
     },
     "execution_count": 58,
     "metadata": {},
     "output_type": "execute_result"
    }
   ],
   "source": [
    "full_data[full_data[['FIPS','date']].duplicated()]['FIPS']"
   ]
  },
  {
   "cell_type": "markdown",
   "metadata": {},
   "source": [
    "# Weather Data from NOAA"
   ]
  },
  {
   "cell_type": "code",
   "execution_count": 41,
   "metadata": {
    "collapsed": true,
    "jupyter": {
     "outputs_hidden": true
    }
   },
   "outputs": [],
   "source": [
    "fips_to_county = pd.read_csv('./data/ZIP-COUNTY-FIPS_2017-06.csv')\n",
    "parks = pd.read_csv('./data/parks_only.csv')"
   ]
  },
  {
   "cell_type": "code",
   "execution_count": 42,
   "metadata": {},
   "outputs": [
    {
     "data": {
      "text/html": [
       "<div>\n",
       "<style scoped>\n",
       "    .dataframe tbody tr th:only-of-type {\n",
       "        vertical-align: middle;\n",
       "    }\n",
       "\n",
       "    .dataframe tbody tr th {\n",
       "        vertical-align: top;\n",
       "    }\n",
       "\n",
       "    .dataframe thead th {\n",
       "        text-align: right;\n",
       "    }\n",
       "</style>\n",
       "<table border=\"1\" class=\"dataframe\">\n",
       "  <thead>\n",
       "    <tr style=\"text-align: right;\">\n",
       "      <th></th>\n",
       "      <th>ZIP</th>\n",
       "      <th>COUNTYNAME</th>\n",
       "      <th>STATE</th>\n",
       "      <th>STCOUNTYFP</th>\n",
       "      <th>CLASSFP</th>\n",
       "    </tr>\n",
       "  </thead>\n",
       "  <tbody>\n",
       "    <tr>\n",
       "      <th>0</th>\n",
       "      <td>36003</td>\n",
       "      <td>Autauga County</td>\n",
       "      <td>AL</td>\n",
       "      <td>1001</td>\n",
       "      <td>H1</td>\n",
       "    </tr>\n",
       "    <tr>\n",
       "      <th>1</th>\n",
       "      <td>36006</td>\n",
       "      <td>Autauga County</td>\n",
       "      <td>AL</td>\n",
       "      <td>1001</td>\n",
       "      <td>H1</td>\n",
       "    </tr>\n",
       "    <tr>\n",
       "      <th>2</th>\n",
       "      <td>36067</td>\n",
       "      <td>Autauga County</td>\n",
       "      <td>AL</td>\n",
       "      <td>1001</td>\n",
       "      <td>H1</td>\n",
       "    </tr>\n",
       "    <tr>\n",
       "      <th>3</th>\n",
       "      <td>36066</td>\n",
       "      <td>Autauga County</td>\n",
       "      <td>AL</td>\n",
       "      <td>1001</td>\n",
       "      <td>H1</td>\n",
       "    </tr>\n",
       "    <tr>\n",
       "      <th>4</th>\n",
       "      <td>36703</td>\n",
       "      <td>Autauga County</td>\n",
       "      <td>AL</td>\n",
       "      <td>1001</td>\n",
       "      <td>H1</td>\n",
       "    </tr>\n",
       "    <tr>\n",
       "      <th>5</th>\n",
       "      <td>36701</td>\n",
       "      <td>Autauga County</td>\n",
       "      <td>AL</td>\n",
       "      <td>1001</td>\n",
       "      <td>H1</td>\n",
       "    </tr>\n",
       "    <tr>\n",
       "      <th>6</th>\n",
       "      <td>36091</td>\n",
       "      <td>Autauga County</td>\n",
       "      <td>AL</td>\n",
       "      <td>1001</td>\n",
       "      <td>H1</td>\n",
       "    </tr>\n",
       "    <tr>\n",
       "      <th>7</th>\n",
       "      <td>36051</td>\n",
       "      <td>Autauga County</td>\n",
       "      <td>AL</td>\n",
       "      <td>1001</td>\n",
       "      <td>H1</td>\n",
       "    </tr>\n",
       "    <tr>\n",
       "      <th>8</th>\n",
       "      <td>36068</td>\n",
       "      <td>Autauga County</td>\n",
       "      <td>AL</td>\n",
       "      <td>1001</td>\n",
       "      <td>H1</td>\n",
       "    </tr>\n",
       "    <tr>\n",
       "      <th>9</th>\n",
       "      <td>36008</td>\n",
       "      <td>Autauga County</td>\n",
       "      <td>AL</td>\n",
       "      <td>1001</td>\n",
       "      <td>H1</td>\n",
       "    </tr>\n",
       "  </tbody>\n",
       "</table>\n",
       "</div>"
      ],
      "text/plain": [
       "     ZIP      COUNTYNAME STATE  STCOUNTYFP CLASSFP\n",
       "0  36003  Autauga County    AL        1001      H1\n",
       "1  36006  Autauga County    AL        1001      H1\n",
       "2  36067  Autauga County    AL        1001      H1\n",
       "3  36066  Autauga County    AL        1001      H1\n",
       "4  36703  Autauga County    AL        1001      H1\n",
       "5  36701  Autauga County    AL        1001      H1\n",
       "6  36091  Autauga County    AL        1001      H1\n",
       "7  36051  Autauga County    AL        1001      H1\n",
       "8  36068  Autauga County    AL        1001      H1\n",
       "9  36008  Autauga County    AL        1001      H1"
      ]
     },
     "execution_count": 42,
     "metadata": {},
     "output_type": "execute_result"
    }
   ],
   "source": [
    "fips_to_county[0:10]"
   ]
  },
  {
   "cell_type": "code",
   "execution_count": 43,
   "metadata": {},
   "outputs": [
    {
     "data": {
      "text/plain": [
       "956"
      ]
     },
     "execution_count": 43,
     "metadata": {},
     "output_type": "execute_result"
    }
   ],
   "source": [
    "fips = parks['FIPS'].unique()\n",
    "len(fips)"
   ]
  },
  {
   "cell_type": "code",
   "execution_count": 44,
   "metadata": {
    "collapsed": true,
    "jupyter": {
     "outputs_hidden": true
    }
   },
   "outputs": [],
   "source": [
    "fips_to_zips = dict()\n",
    "for fip in fips:\n",
    "    fips_to_zips[fip] = list(fips_to_county[fips_to_county['STCOUNTYFP']==fip]['ZIP'])"
   ]
  },
  {
   "cell_type": "code",
   "execution_count": 45,
   "metadata": {},
   "outputs": [
    {
     "data": {
      "text/plain": [
       "956"
      ]
     },
     "execution_count": 45,
     "metadata": {},
     "output_type": "execute_result"
    }
   ],
   "source": [
    "len(fips_to_zips)"
   ]
  },
  {
   "cell_type": "code",
   "execution_count": 46,
   "metadata": {},
   "outputs": [
    {
     "ename": "NameError",
     "evalue": "name 'county_to_zips' is not defined",
     "output_type": "error",
     "traceback": [
      "\u001b[1;31m---------------------------------------------------------------------------\u001b[0m",
      "\u001b[1;31mNameError\u001b[0m                                 Traceback (most recent call last)",
      "\u001b[1;32m<ipython-input-46-073bd0f6f744>\u001b[0m in \u001b[0;36m<module>\u001b[1;34m()\u001b[0m\n\u001b[1;32m----> 1\u001b[1;33m \u001b[0mdc_zips\u001b[0m \u001b[1;33m=\u001b[0m \u001b[0mcounty_to_zips\u001b[0m\u001b[1;33m[\u001b[0m\u001b[1;34m'District of Columbia'\u001b[0m\u001b[1;33m]\u001b[0m\u001b[1;33m\u001b[0m\u001b[0m\n\u001b[0m\u001b[0;32m      2\u001b[0m \u001b[0mlen\u001b[0m\u001b[1;33m(\u001b[0m\u001b[0mdc_zips\u001b[0m\u001b[1;33m)\u001b[0m\u001b[1;33m\u001b[0m\u001b[0m\n",
      "\u001b[1;31mNameError\u001b[0m: name 'county_to_zips' is not defined"
     ]
    }
   ],
   "source": [
    "dc_zips = county_to_zips['District of Columbia']\n",
    "len(dc_zips)"
   ]
  },
  {
   "cell_type": "code",
   "execution_count": 47,
   "metadata": {
    "collapsed": true,
    "jupyter": {
     "outputs_hidden": true
    }
   },
   "outputs": [],
   "source": [
    "def get_weather(locationid, datasetid, begin_date, end_date, mytoken, base_url):\n",
    "    token = {'token': mytoken}\n",
    "    \n",
    "    #passing as string instead of dict because NOAA API does not like percent encoding\n",
    "    params = 'datasetid='+str(datasetid)+'&'+'locationid='+str(locationid)+'&'+'startdate='+str(begin_date)+'&'+'enddate='+str(end_date)+'&'+'limit=25'+'&datatypeid=TOBS,PRCP'\n",
    "    \n",
    "    r = requests.get(base_url+params, headers=token)\n",
    "    #print(\"Request status code: \"+str(r.status_code))\n",
    "\n",
    "    try:\n",
    "        #results comes in json form. Convert to dataframe\n",
    "        df = pd.DataFrame.from_dict(r.json()['results'])\n",
    "        #print(\"Successfully retrieved \"+str(len(df['station'].unique()))+\" stations\")\n",
    "        dates = pd.to_datetime(df['date'])\n",
    "\n",
    "        return df\n",
    "    except:\n",
    "        pass"
   ]
  },
  {
   "cell_type": "code",
   "execution_count": 65,
   "metadata": {
    "collapsed": true,
    "jupyter": {
     "outputs_hidden": true
    }
   },
   "outputs": [],
   "source": [
    "import itertools\n",
    "z = dict(itertools.islice(fips_to_zips.items(), 5))"
   ]
  },
  {
   "cell_type": "code",
   "execution_count": 45,
   "metadata": {},
   "outputs": [
    {
     "data": {
      "text/plain": [
       "['admin', 'config', 'local', 'mydb', 'noaaweather']"
      ]
     },
     "execution_count": 45,
     "metadata": {},
     "output_type": "execute_result"
    }
   ],
   "source": [
    "import json\n",
    "import pymongo\n",
    "import time\n",
    "from pprint import pprint\n",
    "\n",
    "conn=pymongo.MongoClient()\n",
    "db = conn.noaaweather\n",
    "records = db.records\n",
    "conn.list_database_names()"
   ]
  },
  {
   "cell_type": "code",
   "execution_count": 59,
   "metadata": {},
   "outputs": [
    {
     "data": {
      "text/plain": [
       "<pymongo.results.DeleteResult at 0x1a1dadb050>"
      ]
     },
     "execution_count": 59,
     "metadata": {},
     "output_type": "execute_result"
    }
   ],
   "source": [
    "records.delete_many({})"
   ]
  },
  {
   "cell_type": "code",
   "execution_count": 66,
   "metadata": {},
   "outputs": [
    {
     "name": "stdout",
     "output_type": "stream",
     "text": [
      "1001\n"
     ]
    },
    {
     "name": "stderr",
     "output_type": "stream",
     "text": [
      "/opt/anaconda3/lib/python3.7/site-packages/ipykernel_launcher.py:31: DeprecationWarning: count is deprecated. Use estimated_document_count or count_documents instead. Please note that $where must be replaced by $expr, $near must be replaced by $geoWithin with $center, and $nearSphere must be replaced by $geoWithin with $centerSphere\n"
     ]
    },
    {
     "name": "stdout",
     "output_type": "stream",
     "text": [
      "25\n",
      "1003\n",
      "62\n",
      "1005\n",
      "79\n",
      "1007\n",
      "124\n",
      "1009\n",
      "153\n",
      "Run time was 429.0935 seconds\n"
     ]
    }
   ],
   "source": [
    "baseurl = 'https://www.ncdc.noaa.gov/cdo-web/api/v2/data?'\n",
    "mytoken = 'NVPWXeGxislWKqThiizoffNjnPtUtAcT'\n",
    "databaseid = 'GHCND'\n",
    "begindate = '2020-03-01'\n",
    "enddate = '2020-05-01'\n",
    "\n",
    "tic = time.perf_counter()\n",
    "weather = pd.DataFrame()\n",
    "for fip, codes in z.items():\n",
    "    print(fip)\n",
    "    fip_weather = pd.DataFrame()\n",
    "    for code in codes:\n",
    "        try:\n",
    "            newdf = get_weather('ZIP:'+str(code), databaseid,begindate,enddate,mytoken,baseurl)\n",
    "            fip_weather = fip_weather.append(newdf)\n",
    "        except:\n",
    "            continue\n",
    "    #average across the county\n",
    "    precip = fip_weather[fip_weather['datatype']=='PRCP'][['date','value']].rename(columns={'value':'precipitation'})\n",
    "    temp = fip_weather[fip_weather['datatype']=='TOBS'][['date','value']].rename(columns={'value':'temp'})\n",
    "    w = pd.merge(precip, temp, how ='outer', on ='date') \n",
    "    avgs = pd.merge(w.groupby('date', as_index=False)['precipitation'].mean(),\n",
    "                    w.groupby('date', as_index=False)['temp'].mean(),on='date')\n",
    "    avgs['FIPS']=fip\n",
    "    avgs = avgs.to_dict()\n",
    "    \n",
    "    #insert records into MongoDB\n",
    "    a = [{key:value[index] for key,value in avgs.items()}\n",
    "         for index in range(max(map(len,avgs.values())))]\n",
    "    records.insert_many(a)\n",
    "    print(records.count())\n",
    "    \n",
    "toc= time.perf_counter()\n",
    "print(f\"Run time was {toc - tic:0.4f} seconds\")"
   ]
  }
 ],
 "metadata": {
  "kernelspec": {
   "display_name": "Python 3",
   "language": "python",
   "name": "python3"
  },
  "language_info": {
   "codemirror_mode": {
    "name": "ipython",
    "version": 3
   },
   "file_extension": ".py",
   "mimetype": "text/x-python",
   "name": "python",
   "nbconvert_exporter": "python",
   "pygments_lexer": "ipython3",
   "version": "3.6.3"
  }
 },
 "nbformat": 4,
 "nbformat_minor": 4
}
