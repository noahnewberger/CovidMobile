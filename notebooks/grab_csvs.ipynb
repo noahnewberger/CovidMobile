{
 "cells": [
  {
   "cell_type": "code",
   "execution_count": null,
   "metadata": {},
   "outputs": [],
   "source": [
    "#Creates a loop to run through all states in country_codes.csv, running\n",
    "#mobius.py code to grab the csv file of that state's data, storing in data\n",
    "\n",
    "\n",
    "import pandas as pd\n",
    "import os\n",
    "#move to the mobility report folder as the new working directory\n",
    "home_dir = '/Users/samismalling/Documents/mobility-report-data-extractor-master'\n",
    "os.chdir(home_dir)\n",
    "\n",
    "#import country_codes.csv file:\n",
    "codes = pd.read_csv('/Users/samismalling/Documents/mobility-report-data-extractor-master/CovidMobile/country_codes.csv', header = None)\n",
    "\n",
    "#path names\n",
    "mobius = './mobius.py'\n",
    "output_folder = home_dir+'/CovidMobile/data'\n",
    "dates_file = home_dir+'/config/dates_lookup_2020_04_05.csv'\n",
    "\n",
    "for state in codes.iloc[5:6,0]:\n",
    "    #download pdf and svg files\n",
    "    os.system('python {} download {} 2020-04-05'.format(mobius, state))\n",
    "    \n",
    "    #change everything to new state\n",
    "    input_pdf = home_dir+'/pdfs/{}_2020-04-05.pdf'.format(state)\n",
    "    input_svg = home_dir+'/svgs/{}_2020-04-05.svg'.format(state)\n",
    "    \n",
    "    #extract csv file and put into data folder in CovidMobile\n",
    "    os.system('python {} full {} {} {} {}'.format(mobius, input_pdf, input_svg, output_folder, dates_file))\n"
   ]
  }
 ],
 "metadata": {
  "kernelspec": {
   "display_name": "Python 3",
   "language": "python",
   "name": "python3"
  },
  "language_info": {
   "codemirror_mode": {
    "name": "ipython",
    "version": 3
   },
   "file_extension": ".py",
   "mimetype": "text/x-python",
   "name": "python",
   "nbconvert_exporter": "python",
   "pygments_lexer": "ipython3",
   "version": "3.7.6"
  }
 },
 "nbformat": 4,
 "nbformat_minor": 4
}
