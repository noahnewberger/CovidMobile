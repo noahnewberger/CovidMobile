{
 "cells": [
  {
   "cell_type": "code",
   "execution_count": 1,
   "metadata": {
    "collapsed": true
   },
   "outputs": [],
   "source": [
    "import pandas as pd\n",
    "import numpy as np\n",
    "import matplotlib.pyplot as plt\n",
    "import seaborn as sns\n",
    "import os\n",
    "import sys\n",
    "from state_cleaner import *\n",
    "from datetime import datetime\n",
    "import requests\n",
    "import json\n",
    "\n",
    "%load_ext autoreload\n",
    "%autoreload 2\n",
    "%matplotlib inline"
   ]
  },
  {
   "cell_type": "code",
   "execution_count": 2,
   "metadata": {},
   "outputs": [
    {
     "data": {
      "text/plain": [
       "'C:\\\\Users\\\\Noah\\\\CovidMobile'"
      ]
     },
     "execution_count": 2,
     "metadata": {},
     "output_type": "execute_result"
    }
   ],
   "source": [
    "os.chdir('../..')\n",
    "os.chdir('CovidMobile')\n",
    "os.getcwd()"
   ]
  },
  {
   "cell_type": "markdown",
   "metadata": {},
   "source": [
    "# Census Data"
   ]
  },
  {
   "cell_type": "code",
   "execution_count": 3,
   "metadata": {
    "scrolled": true
   },
   "outputs": [
    {
     "name": "stderr",
     "output_type": "stream",
     "text": [
      "C:\\Users\\Noah\\Anaconda3\\lib\\site-packages\\ipykernel_launcher.py:3: ParserWarning: Falling back to the 'python' engine because the 'c' engine does not support regex separators (separators > 1 char and different from '\\s+' are interpreted as regex); you can avoid this warning by specifying engine='python'.\n",
      "  This is separate from the ipykernel package so we can avoid doing imports until\n"
     ]
    }
   ],
   "source": [
    "df_col_headers = pd.read_csv('data/DataDict.txt_2020-04-21', sep='\\t', header=None)\n",
    "df_county_data = pd.read_csv('data/DataSet.txt_2020-04-21', sep=',')\n",
    "df_county_names = pd.read_csv('data/FIPS_CountyName.txt_2020-04-21', sep='delimiter', header=None)"
   ]
  },
  {
   "cell_type": "code",
   "execution_count": 4,
   "metadata": {},
   "outputs": [
    {
     "data": {
      "text/html": [
       "<div>\n",
       "<style scoped>\n",
       "    .dataframe tbody tr th:only-of-type {\n",
       "        vertical-align: middle;\n",
       "    }\n",
       "\n",
       "    .dataframe tbody tr th {\n",
       "        vertical-align: top;\n",
       "    }\n",
       "\n",
       "    .dataframe thead th {\n",
       "        text-align: right;\n",
       "    }\n",
       "</style>\n",
       "<table border=\"1\" class=\"dataframe\">\n",
       "  <thead>\n",
       "    <tr style=\"text-align: right;\">\n",
       "      <th></th>\n",
       "      <th>0</th>\n",
       "    </tr>\n",
       "  </thead>\n",
       "  <tbody>\n",
       "    <tr>\n",
       "      <th>3190</th>\n",
       "      <td>56037 Sweetwater County, WY</td>\n",
       "    </tr>\n",
       "    <tr>\n",
       "      <th>3191</th>\n",
       "      <td>56039 Teton County, WY</td>\n",
       "    </tr>\n",
       "    <tr>\n",
       "      <th>3192</th>\n",
       "      <td>56041 Uinta County, WY</td>\n",
       "    </tr>\n",
       "    <tr>\n",
       "      <th>3193</th>\n",
       "      <td>56043 Washakie County, WY</td>\n",
       "    </tr>\n",
       "    <tr>\n",
       "      <th>3194</th>\n",
       "      <td>56045 Weston County, WY</td>\n",
       "    </tr>\n",
       "  </tbody>\n",
       "</table>\n",
       "</div>"
      ],
      "text/plain": [
       "                                0\n",
       "3190  56037 Sweetwater County, WY\n",
       "3191       56039 Teton County, WY\n",
       "3192       56041 Uinta County, WY\n",
       "3193    56043 Washakie County, WY\n",
       "3194      56045 Weston County, WY"
      ]
     },
     "execution_count": 4,
     "metadata": {},
     "output_type": "execute_result"
    }
   ],
   "source": [
    "df_county_names.tail()"
   ]
  },
  {
   "cell_type": "code",
   "execution_count": 5,
   "metadata": {},
   "outputs": [
    {
     "data": {
      "text/plain": [
       "((3195, 3),     FIPS          County State\n",
       " 0  00000   UNITED STATES  None\n",
       " 1  01000         ALABAMA  None\n",
       " 2  01001  Autauga County    AL\n",
       " 3  01003  Baldwin County    AL\n",
       " 4  01005  Barbour County    AL)"
      ]
     },
     "execution_count": 5,
     "metadata": {},
     "output_type": "execute_result"
    }
   ],
   "source": [
    "df_county_names = df_county_names[0].str.split(' ',n=1,expand=True)\n",
    "df_county_names = pd.concat([df_county_names[0],df_county_names[1].str.split(',',n=1,expand=True)],axis=1)\n",
    "df_county_names.columns = ['FIPS','County','State']\n",
    "df_county_names['State'] = df_county_names['State'].str.replace(' ', '')\n",
    "df_county_names.shape,df_county_names.head()"
   ]
  },
  {
   "cell_type": "code",
   "execution_count": 6,
   "metadata": {
    "scrolled": true
   },
   "outputs": [
    {
     "data": {
      "text/html": [
       "<div>\n",
       "<style scoped>\n",
       "    .dataframe tbody tr th:only-of-type {\n",
       "        vertical-align: middle;\n",
       "    }\n",
       "\n",
       "    .dataframe tbody tr th {\n",
       "        vertical-align: top;\n",
       "    }\n",
       "\n",
       "    .dataframe thead th {\n",
       "        text-align: right;\n",
       "    }\n",
       "</style>\n",
       "<table border=\"1\" class=\"dataframe\">\n",
       "  <thead>\n",
       "    <tr style=\"text-align: right;\">\n",
       "      <th></th>\n",
       "      <th>code</th>\n",
       "      <th>var_name</th>\n",
       "      <th>extra</th>\n",
       "    </tr>\n",
       "  </thead>\n",
       "  <tbody>\n",
       "    <tr>\n",
       "      <th>1</th>\n",
       "      <td>STATECOU</td>\n",
       "      <td>FIPS State and County code</td>\n",
       "      <td>None</td>\n",
       "    </tr>\n",
       "    <tr>\n",
       "      <th>2</th>\n",
       "      <td>PST045214</td>\n",
       "      <td>Population, 2014 estimate</td>\n",
       "      <td>ABS    0    318857056       86 318857056 CENSUS</td>\n",
       "    </tr>\n",
       "    <tr>\n",
       "      <th>3</th>\n",
       "      <td>PST045213</td>\n",
       "      <td>Population, 2013 estimate</td>\n",
       "      <td>ABS    0    316497531       89 316497531 CENSUS</td>\n",
       "    </tr>\n",
       "    <tr>\n",
       "      <th>4</th>\n",
       "      <td>PST040210</td>\n",
       "      <td>Population, 2010 (April 1) estimates base</td>\n",
       "      <td>ABS    0    308758105       82 308758105 CENSUS</td>\n",
       "    </tr>\n",
       "    <tr>\n",
       "      <th>5</th>\n",
       "      <td>PST120214</td>\n",
       "      <td>Population, percent change - April 1, 2010 to ...</td>\n",
       "      <td>PCT    1          3.3    -17.0      72.9 CENSUS</td>\n",
       "    </tr>\n",
       "  </tbody>\n",
       "</table>\n",
       "</div>"
      ],
      "text/plain": [
       "        code                                           var_name  \\\n",
       "1   STATECOU                         FIPS State and County code   \n",
       "2  PST045214                          Population, 2014 estimate   \n",
       "3  PST045213                          Population, 2013 estimate   \n",
       "4  PST040210          Population, 2010 (April 1) estimates base   \n",
       "5  PST120214  Population, percent change - April 1, 2010 to ...   \n",
       "\n",
       "                                             extra  \n",
       "1                                             None  \n",
       "2  ABS    0    318857056       86 318857056 CENSUS  \n",
       "3  ABS    0    316497531       89 316497531 CENSUS  \n",
       "4  ABS    0    308758105       82 308758105 CENSUS  \n",
       "5  PCT    1          3.3    -17.0      72.9 CENSUS  "
      ]
     },
     "execution_count": 6,
     "metadata": {},
     "output_type": "execute_result"
    }
   ],
   "source": [
    "df_col_headers = df_col_headers[0].str.split(' ',n=1,expand=True)\n",
    "df_col_headers = pd.concat([df_col_headers[0],df_col_headers[1].str.split('\\s+\\s+',n=1,expand=True)],axis=1)\n",
    "df_col_headers.columns = ['code','var_name','extra']\n",
    "df_col_headers.drop([0],inplace=True)\n",
    "df_col_headers.head()\n",
    "\n"
   ]
  },
  {
   "cell_type": "code",
   "execution_count": 7,
   "metadata": {
    "collapsed": true,
    "scrolled": true
   },
   "outputs": [],
   "source": [
    "df_county_data.columns = df_col_headers['var_name'].values"
   ]
  },
  {
   "cell_type": "code",
   "execution_count": 8,
   "metadata": {},
   "outputs": [
    {
     "data": {
      "text/html": [
       "<div>\n",
       "<style scoped>\n",
       "    .dataframe tbody tr th:only-of-type {\n",
       "        vertical-align: middle;\n",
       "    }\n",
       "\n",
       "    .dataframe tbody tr th {\n",
       "        vertical-align: top;\n",
       "    }\n",
       "\n",
       "    .dataframe thead th {\n",
       "        text-align: right;\n",
       "    }\n",
       "</style>\n",
       "<table border=\"1\" class=\"dataframe\">\n",
       "  <thead>\n",
       "    <tr style=\"text-align: right;\">\n",
       "      <th></th>\n",
       "      <th>FIPS State and County code</th>\n",
       "      <th>Population, 2014 estimate</th>\n",
       "      <th>Population, 2013 estimate</th>\n",
       "      <th>Population, 2010 (April 1) estimates base</th>\n",
       "      <th>Population, percent change - April 1, 2010 to July 1, 2014</th>\n",
       "      <th>Population, percent change - April 1, 2010 to July 1, 2013</th>\n",
       "      <th>Population, 2010</th>\n",
       "      <th>Persons under 5 years, percent, 2013</th>\n",
       "      <th>Persons under 18 years, percent, 2013</th>\n",
       "      <th>Persons 65 years and over, percent, 2013</th>\n",
       "      <th>...</th>\n",
       "      <th>Hispanic-owned firms, percent, 2007</th>\n",
       "      <th>Women-owned firms, percent, 2007</th>\n",
       "      <th>Manufacturers shipments, 2007 ($1,000)</th>\n",
       "      <th>Merchant wholesaler sales, 2007 ($1,000)</th>\n",
       "      <th>Retail sales, 2007 ($1,000)</th>\n",
       "      <th>Retail sales per capita, 2007</th>\n",
       "      <th>Accommodation and food services sales, 2007 ($1,000)</th>\n",
       "      <th>Building permits, 2014</th>\n",
       "      <th>Land area in square miles, 2010</th>\n",
       "      <th>Population per square mile, 2010</th>\n",
       "    </tr>\n",
       "  </thead>\n",
       "  <tbody>\n",
       "    <tr>\n",
       "      <th>0</th>\n",
       "      <td>0</td>\n",
       "      <td>318857056</td>\n",
       "      <td>316497531</td>\n",
       "      <td>308758105</td>\n",
       "      <td>3.3</td>\n",
       "      <td>2.5</td>\n",
       "      <td>308745538</td>\n",
       "      <td>6.3</td>\n",
       "      <td>23.3</td>\n",
       "      <td>14.1</td>\n",
       "      <td>...</td>\n",
       "      <td>8.3</td>\n",
       "      <td>28.8</td>\n",
       "      <td>5319456312</td>\n",
       "      <td>4174286516</td>\n",
       "      <td>3917663456</td>\n",
       "      <td>12990</td>\n",
       "      <td>613795732</td>\n",
       "      <td>1046363</td>\n",
       "      <td>3531905.43</td>\n",
       "      <td>87.4</td>\n",
       "    </tr>\n",
       "    <tr>\n",
       "      <th>1</th>\n",
       "      <td>1000</td>\n",
       "      <td>4849377</td>\n",
       "      <td>4833996</td>\n",
       "      <td>4780127</td>\n",
       "      <td>1.4</td>\n",
       "      <td>1.1</td>\n",
       "      <td>4779736</td>\n",
       "      <td>6.1</td>\n",
       "      <td>23.0</td>\n",
       "      <td>14.9</td>\n",
       "      <td>...</td>\n",
       "      <td>1.2</td>\n",
       "      <td>28.1</td>\n",
       "      <td>112858843</td>\n",
       "      <td>52252752</td>\n",
       "      <td>57344851</td>\n",
       "      <td>12364</td>\n",
       "      <td>6426342</td>\n",
       "      <td>13369</td>\n",
       "      <td>50645.33</td>\n",
       "      <td>94.4</td>\n",
       "    </tr>\n",
       "    <tr>\n",
       "      <th>2</th>\n",
       "      <td>1001</td>\n",
       "      <td>55395</td>\n",
       "      <td>55136</td>\n",
       "      <td>54571</td>\n",
       "      <td>1.5</td>\n",
       "      <td>1.0</td>\n",
       "      <td>54571</td>\n",
       "      <td>6.1</td>\n",
       "      <td>25.4</td>\n",
       "      <td>13.5</td>\n",
       "      <td>...</td>\n",
       "      <td>0.7</td>\n",
       "      <td>31.7</td>\n",
       "      <td>0</td>\n",
       "      <td>0</td>\n",
       "      <td>598175</td>\n",
       "      <td>12003</td>\n",
       "      <td>88157</td>\n",
       "      <td>131</td>\n",
       "      <td>594.44</td>\n",
       "      <td>91.8</td>\n",
       "    </tr>\n",
       "    <tr>\n",
       "      <th>3</th>\n",
       "      <td>1003</td>\n",
       "      <td>200111</td>\n",
       "      <td>195443</td>\n",
       "      <td>182265</td>\n",
       "      <td>9.8</td>\n",
       "      <td>7.2</td>\n",
       "      <td>182265</td>\n",
       "      <td>5.7</td>\n",
       "      <td>22.4</td>\n",
       "      <td>18.1</td>\n",
       "      <td>...</td>\n",
       "      <td>1.3</td>\n",
       "      <td>27.3</td>\n",
       "      <td>1410273</td>\n",
       "      <td>0</td>\n",
       "      <td>2966489</td>\n",
       "      <td>17166</td>\n",
       "      <td>436955</td>\n",
       "      <td>1384</td>\n",
       "      <td>1589.78</td>\n",
       "      <td>114.6</td>\n",
       "    </tr>\n",
       "    <tr>\n",
       "      <th>4</th>\n",
       "      <td>1005</td>\n",
       "      <td>26887</td>\n",
       "      <td>26978</td>\n",
       "      <td>27457</td>\n",
       "      <td>-2.1</td>\n",
       "      <td>-1.7</td>\n",
       "      <td>27457</td>\n",
       "      <td>5.8</td>\n",
       "      <td>21.1</td>\n",
       "      <td>15.9</td>\n",
       "      <td>...</td>\n",
       "      <td>0.0</td>\n",
       "      <td>27.0</td>\n",
       "      <td>0</td>\n",
       "      <td>0</td>\n",
       "      <td>188337</td>\n",
       "      <td>6334</td>\n",
       "      <td>0</td>\n",
       "      <td>8</td>\n",
       "      <td>884.88</td>\n",
       "      <td>31.0</td>\n",
       "    </tr>\n",
       "  </tbody>\n",
       "</table>\n",
       "<p>5 rows × 54 columns</p>\n",
       "</div>"
      ],
      "text/plain": [
       "    FIPS State and County code  Population, 2014 estimate  \\\n",
       "0                            0                  318857056   \n",
       "1                         1000                    4849377   \n",
       "2                         1001                      55395   \n",
       "3                         1003                     200111   \n",
       "4                         1005                      26887   \n",
       "\n",
       "   Population, 2013 estimate  Population, 2010 (April 1) estimates base  \\\n",
       "0                  316497531                                  308758105   \n",
       "1                    4833996                                    4780127   \n",
       "2                      55136                                      54571   \n",
       "3                     195443                                     182265   \n",
       "4                      26978                                      27457   \n",
       "\n",
       "   Population, percent change - April 1, 2010 to July 1, 2014  \\\n",
       "0                                                3.3            \n",
       "1                                                1.4            \n",
       "2                                                1.5            \n",
       "3                                                9.8            \n",
       "4                                               -2.1            \n",
       "\n",
       "   Population, percent change - April 1, 2010 to July 1, 2013  \\\n",
       "0                                                2.5            \n",
       "1                                                1.1            \n",
       "2                                                1.0            \n",
       "3                                                7.2            \n",
       "4                                               -1.7            \n",
       "\n",
       "   Population, 2010  Persons under 5 years, percent, 2013  \\\n",
       "0         308745538                                   6.3   \n",
       "1           4779736                                   6.1   \n",
       "2             54571                                   6.1   \n",
       "3            182265                                   5.7   \n",
       "4             27457                                   5.8   \n",
       "\n",
       "   Persons under 18 years, percent, 2013  \\\n",
       "0                                   23.3   \n",
       "1                                   23.0   \n",
       "2                                   25.4   \n",
       "3                                   22.4   \n",
       "4                                   21.1   \n",
       "\n",
       "   Persons 65 years and over, percent, 2013  ...  \\\n",
       "0                                      14.1  ...   \n",
       "1                                      14.9  ...   \n",
       "2                                      13.5  ...   \n",
       "3                                      18.1  ...   \n",
       "4                                      15.9  ...   \n",
       "\n",
       "   Hispanic-owned firms, percent, 2007  Women-owned firms, percent, 2007  \\\n",
       "0                                  8.3                              28.8   \n",
       "1                                  1.2                              28.1   \n",
       "2                                  0.7                              31.7   \n",
       "3                                  1.3                              27.3   \n",
       "4                                  0.0                              27.0   \n",
       "\n",
       "   Manufacturers shipments, 2007 ($1,000)  \\\n",
       "0                              5319456312   \n",
       "1                               112858843   \n",
       "2                                       0   \n",
       "3                                 1410273   \n",
       "4                                       0   \n",
       "\n",
       "   Merchant wholesaler sales, 2007 ($1,000)  Retail sales, 2007 ($1,000)  \\\n",
       "0                                4174286516                   3917663456   \n",
       "1                                  52252752                     57344851   \n",
       "2                                         0                       598175   \n",
       "3                                         0                      2966489   \n",
       "4                                         0                       188337   \n",
       "\n",
       "   Retail sales per capita, 2007  \\\n",
       "0                          12990   \n",
       "1                          12364   \n",
       "2                          12003   \n",
       "3                          17166   \n",
       "4                           6334   \n",
       "\n",
       "   Accommodation and food services sales, 2007 ($1,000)  \\\n",
       "0                                          613795732      \n",
       "1                                            6426342      \n",
       "2                                              88157      \n",
       "3                                             436955      \n",
       "4                                                  0      \n",
       "\n",
       "   Building permits, 2014  Land area in square miles, 2010  \\\n",
       "0                 1046363                       3531905.43   \n",
       "1                   13369                         50645.33   \n",
       "2                     131                           594.44   \n",
       "3                    1384                          1589.78   \n",
       "4                       8                           884.88   \n",
       "\n",
       "   Population per square mile, 2010  \n",
       "0                              87.4  \n",
       "1                              94.4  \n",
       "2                              91.8  \n",
       "3                             114.6  \n",
       "4                              31.0  \n",
       "\n",
       "[5 rows x 54 columns]"
      ]
     },
     "execution_count": 8,
     "metadata": {},
     "output_type": "execute_result"
    }
   ],
   "source": [
    "df_county_data.head()"
   ]
  },
  {
   "cell_type": "markdown",
   "metadata": {},
   "source": [
    "# Build Dataset"
   ]
  },
  {
   "cell_type": "code",
   "execution_count": 9,
   "metadata": {},
   "outputs": [
    {
     "data": {
      "text/plain": [
       "'C:\\\\Users\\\\Noah\\\\CovidMobile'"
      ]
     },
     "execution_count": 9,
     "metadata": {},
     "output_type": "execute_result"
    }
   ],
   "source": [
    "os.getcwd()"
   ]
  },
  {
   "cell_type": "code",
   "execution_count": 10,
   "metadata": {},
   "outputs": [
    {
     "name": "stderr",
     "output_type": "stream",
     "text": [
      "C:\\Users\\Noah\\Anaconda3\\lib\\site-packages\\IPython\\core\\interactiveshell.py:2698: DtypeWarning: Columns (3) have mixed types.Specify dtype option on import or set low_memory=False.\n",
      "  interactivity=interactivity, compiler=compiler, result=result)\n"
     ]
    }
   ],
   "source": [
    "full = pd.read_csv('data/Global_Mobility_Report.csv')\n",
    "full['source'] = 'google'\n",
    "\n",
    "full.rename(columns={'transit_stations_percent_change_from_baseline':'transit',\n",
    "                 'residential_percent_change_from_baseline':'homes',\n",
    "                 'grocery_and_pharmacy_percent_change_from_baseline':'food_drugs',\n",
    "                'retail_and_recreation_percent_change_from_baseline':'retail',\n",
    "                'workplaces_percent_change_from_baseline':'work',\n",
    "                'parks_percent_change_from_baseline':'park'},inplace=True)\n"
   ]
  },
  {
   "cell_type": "code",
   "execution_count": 11,
   "metadata": {},
   "outputs": [
    {
     "data": {
      "text/plain": [
       "array(['country_region_code', 'country_region', 'sub_region_1',\n",
       "       'sub_region_2', 'date', 'retail', 'food_drugs', 'park', 'transit',\n",
       "       'work', 'homes', 'source'], dtype=object)"
      ]
     },
     "execution_count": 11,
     "metadata": {},
     "output_type": "execute_result"
    }
   ],
   "source": [
    "full.columns.values"
   ]
  },
  {
   "cell_type": "code",
   "execution_count": 12,
   "metadata": {
    "collapsed": true
   },
   "outputs": [],
   "source": [
    "full = full[full['country_region_code']=='US'].rename(columns={'sub_region_1':'state','sub_region_2':'county'}) "
   ]
  },
  {
   "cell_type": "code",
   "execution_count": 13,
   "metadata": {
    "collapsed": true,
    "scrolled": true
   },
   "outputs": [],
   "source": [
    "full['state_abb'] = full['state'].apply(replace_acronym)\n",
    "full['county'] = np.where(full['county'].isnull(),full['state_abb'] ,full['county'] )"
   ]
  },
  {
   "cell_type": "code",
   "execution_count": 14,
   "metadata": {},
   "outputs": [
    {
     "name": "stdout",
     "output_type": "stream",
     "text": [
      "    FIPS          County State          Region\n",
      "0  00000   UNITED STATES    AL              AL\n",
      "1  01000         ALABAMA    AL              AL\n",
      "2  01001  Autauga County    AL  Autauga County\n",
      "3  01003  Baldwin County    AL  Baldwin County\n",
      "4  01005  Barbour County    AL  Barbour County\n"
     ]
    }
   ],
   "source": [
    "df_county_names['Region'] = np.where(df_county_names['State'].isnull(),np.nan,df_county_names['County'])\n",
    "df_county_names['State'] = df_county_names['State'].fillna(method='backfill')\n",
    "df_county_names['Region'] = np.where(df_county_names['Region'].isnull(),df_county_names['State'],df_county_names['Region'])\n",
    "print(df_county_names.head())\n",
    "df_county_names.drop([0],inplace=True)\n",
    "df_county_names.rename(columns={'State':'state_abb','Region':'county'},inplace=True)"
   ]
  },
  {
   "cell_type": "code",
   "execution_count": 15,
   "metadata": {
    "collapsed": true
   },
   "outputs": [],
   "source": [
    "replc_county = {'Anchorage' :'Anchorage Municipality',\n",
    "'Bethel' :'Bethel Census Area',\n",
    "'Fairbanks North Star' :'Fairbanks North Star Borough',\n",
    "'Juneau' : 'Juneau City and Borough',\n",
    "'Kenai Peninsula Borough' :'Kenai Peninsula Borough',\n",
    "'Ketchikan Gateway' :'Ketchikan Gateway Borough',\n",
    "'Kodiak Island':'Kodiak Island Borough',\n",
    "'Matanuska-Susitna':'Matanuska-Susitna Borough',\n",
    "'North Slope':'North Slope Borough',\n",
    "'Sitka':'Sitka City and Borough',\n",
    "'Southeast Fairbanks':'Southeast Fairbanks Census Area',\n",
    "'Valdez-Cordova':'Valdez-Cordova Census Area',\n",
    "'Doña Ana County':'Doa Ana'}"
   ]
  },
  {
   "cell_type": "code",
   "execution_count": 16,
   "metadata": {
    "collapsed": true
   },
   "outputs": [],
   "source": [
    "df_county_data.rename(columns={' FIPS State and County code':'FIPS'},inplace=True)\n",
    "df_county_data['FIPS'] = df_county_data['FIPS'].astype(float)\n",
    "df_county_names['county'] = df_county_names['county'].str.replace(' city','')\n",
    "full['county'] = full['county'].replace(replc_county)\n",
    "full_tog = full.merge(df_county_names[['FIPS','state_abb','county']],on=['state_abb','county'],how='left',indicator=True)\n",
    "full_tog['FIPS'] = full_tog['FIPS'].astype(float)\n",
    "#dropping old census data\n",
    "#full_tog = full_tog.merge(df_county_data,on=['FIPS'],how='left',indicator=True)"
   ]
  },
  {
   "cell_type": "code",
   "execution_count": 17,
   "metadata": {},
   "outputs": [
    {
     "data": {
      "text/plain": [
       "NM    1\n",
       "Name: county, dtype: int64"
      ]
     },
     "execution_count": 17,
     "metadata": {},
     "output_type": "execute_result"
    }
   ],
   "source": [
    "df_county_names[df_county_names['county']=='NM']['county'].value_counts()"
   ]
  },
  {
   "cell_type": "code",
   "execution_count": 18,
   "metadata": {},
   "outputs": [
    {
     "name": "stdout",
     "output_type": "stream",
     "text": [
      "both          223921\n",
      "left_only        166\n",
      "right_only         0\n",
      "Name: _merge, dtype: int64\n"
     ]
    }
   ],
   "source": [
    "print(full_tog['_merge'].value_counts())\n",
    "full_tog.drop(columns=['_merge'],inplace=True)"
   ]
  },
  {
   "cell_type": "code",
   "execution_count": 19,
   "metadata": {
    "collapsed": true
   },
   "outputs": [],
   "source": [
    "full_tog.date = pd.to_datetime(full_tog.date,errors='coerce') \n",
    "full_tog['geo']=np.where(full_tog['county']==full_tog['state_abb'],'state','county')"
   ]
  },
  {
   "cell_type": "markdown",
   "metadata": {},
   "source": [
    "# USDA"
   ]
  },
  {
   "cell_type": "code",
   "execution_count": 20,
   "metadata": {},
   "outputs": [
    {
     "name": "stdout",
     "output_type": "stream",
     "text": [
      "FIPS Code\n",
      "FIPStxt\n",
      "FIPStxt\n",
      "FIPStxt\n"
     ]
    }
   ],
   "source": [
    "files = [\"Education.csv\",\n",
    "\"PopulationEstimates.csv\",\n",
    "\"PovertyEstimates.csv\",\n",
    "\"Unemployment.csv\"]\n",
    "\n",
    "for i,f in enumerate(files):\n",
    "    df =pd.read_csv('data/{}'.format(f))\n",
    "    print(df.columns[0])\n",
    "    df.rename(columns={df.columns[0]:'FIPS'},inplace=True)\n",
    "    if i ==0:\n",
    "        usda = df.copy()\n",
    "        continue\n",
    "    else:\n",
    "        usda = usda.merge(df,on=['FIPS'])"
   ]
  },
  {
   "cell_type": "code",
   "execution_count": 21,
   "metadata": {
    "collapsed": true
   },
   "outputs": [],
   "source": [
    "usda = pd.concat([usda['FIPS'],usda.filter(like='2018')],axis=1)"
   ]
  },
  {
   "cell_type": "code",
   "execution_count": 22,
   "metadata": {
    "collapsed": true
   },
   "outputs": [],
   "source": [
    "full_tog = full_tog.merge(usda,on='FIPS',how='left') "
   ]
  },
  {
   "cell_type": "markdown",
   "metadata": {},
   "source": [
    "#### Second CSV File"
   ]
  },
  {
   "cell_type": "code",
   "execution_count": 23,
   "metadata": {},
   "outputs": [
    {
     "name": "stdout",
     "output_type": "stream",
     "text": [
      "ACCESS\n",
      "STORES\n",
      "RESTAURANTS\n",
      "ASSISTANCE\n",
      "INSECURITY\n"
     ]
    }
   ],
   "source": [
    "usda_full = pd.read_excel('./data/food_env_atlas_usda.xls', sheet_name = None)\n",
    "sheet_names = usda_full.keys()\n",
    "sheets2keep = ['ACCESS','STORES','RESTAURANTS','ASSISTANCE','INSECURITY']\n",
    "\n",
    "usda2 = usda_full['Supplemental Data - County']\n",
    "usda2.rename(columns={'FIPS ': 'FIPS'},inplace=True)\n",
    "#convert populations from string to numbers:\n",
    "for col in usda2.iloc[:,3:]:\n",
    "    usda2[col] = [int(x.replace(',' , '')) for x in usda2[col]]\n",
    "\n",
    "#add other helpful data\n",
    "for sheet_name in sheets2keep:\n",
    "    print(sheet_name)\n",
    "    usda2 = pd.merge(usda2, usda_full[sheet_name], on = 'FIPS', how = 'left')"
   ]
  },
  {
   "cell_type": "code",
   "execution_count": 24,
   "metadata": {
    "collapsed": true
   },
   "outputs": [],
   "source": [
    "#get rid of duplicate State and County data:\n",
    "usda2.iloc[:,~usda2.columns.duplicated()]\n",
    "\n",
    "#export to cleaned csv:\n",
    "usda2.to_csv('./data/clean_usda2.csv')"
   ]
  },
  {
   "cell_type": "markdown",
   "metadata": {},
   "source": [
    "# Neighboring Counties"
   ]
  },
  {
   "cell_type": "code",
   "execution_count": 25,
   "metadata": {
    "collapsed": true
   },
   "outputs": [],
   "source": [
    "def keep_one(tup):\n",
    "    col = tup[1]\n",
    "    if col == '':\n",
    "        col = tup[0]\n",
    "    return col"
   ]
  },
  {
   "cell_type": "code",
   "execution_count": 26,
   "metadata": {},
   "outputs": [
    {
     "name": "stdout",
     "output_type": "stream",
     "text": [
      "count    FIPS       0       1       2       3       4       5        6  \\\n",
      "0      1001.0  1001.0  1021.0  1047.0  1051.0  1085.0  1101.0      NaN   \n",
      "1      1003.0  1003.0  1025.0  1053.0  1097.0  1099.0  1129.0  12033.0   \n",
      "2      1005.0  1005.0  1011.0  1045.0  1067.0  1109.0  1113.0  13061.0   \n",
      "3      1007.0  1007.0  1021.0  1065.0  1073.0  1105.0  1117.0   1125.0   \n",
      "4      1009.0  1009.0  1043.0  1055.0  1073.0  1095.0  1115.0   1127.0   \n",
      "\n",
      "count        7        8   9  10  11  12  13  14  \n",
      "0          NaN      NaN NaN NaN NaN NaN NaN NaN  \n",
      "1          NaN      NaN NaN NaN NaN NaN NaN NaN  \n",
      "2      13239.0  13259.0 NaN NaN NaN NaN NaN NaN  \n",
      "3          NaN      NaN NaN NaN NaN NaN NaN NaN  \n",
      "4          NaN      NaN NaN NaN NaN NaN NaN NaN  \n"
     ]
    }
   ],
   "source": [
    "neighbors = pd.read_csv('data/county_adjacency.csv')\n",
    "\n",
    "\n",
    "neighbors['count'] = neighbors.groupby(['FIPS','county']).cumcount()\n",
    "neighbors =neighbors.pivot(index='FIPS',columns='count',values='nearby_FIPS')\n",
    "neighbors =neighbors.reset_index()\n",
    "print(neighbors.head())\n",
    "neighbors.columns = ['FIPS', 'neighbors1', 'neighbors2', 'neighbors3', 'neighbors4', 'neighbors5', 'neighbors6', 'neighbors7', 'neighbors8', 'neighbors9', 'neighbors10', 'neighbors11', 'neighbors12','neighbors13','neighbors14', 'neighbors15']"
   ]
  },
  {
   "cell_type": "code",
   "execution_count": 27,
   "metadata": {
    "collapsed": true
   },
   "outputs": [],
   "source": [
    "full_tog = full_tog.merge(neighbors, on=['FIPS'],how='left')"
   ]
  },
  {
   "cell_type": "markdown",
   "metadata": {},
   "source": [
    "# State Orders"
   ]
  },
  {
   "cell_type": "code",
   "execution_count": 28,
   "metadata": {},
   "outputs": [
    {
     "data": {
      "text/plain": [
       "37      N. Mariana Islands\n",
       "49     U.S. Virgin Islands\n",
       "Name: State/territory, dtype: object"
      ]
     },
     "execution_count": 28,
     "metadata": {},
     "output_type": "execute_result"
    }
   ],
   "source": [
    "orders = pd.read_csv('data/emergency_orders.csv')\n",
    "\n",
    "orders['soe'] = pd.to_datetime('2020 '  + orders['State of emergency declared'], format='%Y %B %d')\n",
    "orders['sah'] = pd.to_datetime('2020 '  + orders['Stay at home ordered'], format='%Y %B %d',errors='coerce')\n",
    "orders['school_year'] = np.where(orders['Schools']=='Yes (remainder of term)',1,0)\n",
    "orders['bars'] = orders['Bars & sit-down restaurants'].replace({'Yes':1,'Restricted':1,'No':0})\n",
    "orders['gather'] = np.where(orders['Gatherings banned'].str.contains('All'),1,0)\n",
    "orders['daycares'] =  orders['Daycares'].replace({'Yes':1,'Restricted':1,'No':0})\n",
    "orders['non_essential_retail'] =  orders['Non-essential retail'].replace({'Yes':1,'Restricted':1,'No':0,'Regional':0})\n",
    "orders['travel_restriction'] = orders['Out-of-state travel restrictions'].copy()\n",
    "orders['state_abb'] = orders['State/territory'].str.replace(' ','',1).apply(replace_acronym)\n",
    "orders[orders['state_abb'].isnull()]['State/territory']"
   ]
  },
  {
   "cell_type": "code",
   "execution_count": 29,
   "metadata": {
    "collapsed": true
   },
   "outputs": [],
   "source": [
    "cols = ['soe','sah','state_abb','school_year','bars','gather','Gatherings banned','daycares','non_essential_retail','travel_restriction']"
   ]
  },
  {
   "cell_type": "code",
   "execution_count": 30,
   "metadata": {
    "collapsed": true
   },
   "outputs": [],
   "source": [
    "full_tog = full_tog.merge(orders[cols],on=['state_abb'],how='left')"
   ]
  },
  {
   "cell_type": "markdown",
   "metadata": {},
   "source": [
    "# State Closures"
   ]
  },
  {
   "cell_type": "code",
   "execution_count": 31,
   "metadata": {
    "collapsed": true
   },
   "outputs": [],
   "source": [
    "actions = {'State Is Easing Social Distancing Measures':'state_ease',\n",
    "           'Stay At Home':'state_sah',\n",
    "           'Mandatory Quarantine|Mandatory Quarantine for Travelers':'state_mandate',\n",
    "           'non-essential|Non-Essential Business Closures':'state_non_ess',\n",
    "           'Large Gatherings Ban|Large Gathering Ban (announced 4/28)|Large Gatherings':'state_lgb',\n",
    "           'School Closures|School Closure':'state_sc',\n",
    "           'Bar/Restaurant Limits|Bar/Restaurant':'state_bar_res',\n",
    "           'Primary Election Postponement':'state_election',\n",
    "           'Public Health Emergency|Emergency Declaration|Disaster Proclamation|Peacetime Emergency|Proclamation of Disaster Emergency|Proclamation of Civil Emergency':'state_emergency',\n",
    "          'Executive Order mandating compliance with state guidance':'state_compliance',\n",
    "           'Preparedness Proclamation':'state_prepare'}"
   ]
  },
  {
   "cell_type": "code",
   "execution_count": 32,
   "metadata": {},
   "outputs": [
    {
     "name": "stdout",
     "output_type": "stream",
     "text": [
      "     Unnamed: 0                                Date  \\\n",
      "0             0                           3/13, 5/8   \n",
      "1             1  3/17, 3/19, 3/20, 3/26, 3/27, 4/28   \n",
      "2             2                                3/18   \n",
      "3             3                                3/23   \n",
      "4             4                           3/27, 4/3   \n",
      "..          ...                                 ...   \n",
      "436         436                                3/13   \n",
      "437         437               3/19, 3/27, 4/3, 4/28   \n",
      "438         438               3/20, 3/27, 4/3, 4/28   \n",
      "439         439                                3/27   \n",
      "440         440                           4/3, 4/29   \n",
      "\n",
      "                                           Description  Easing    State  \n",
      "0                            Public Health Emergency:      0.0  ALABAMA  \n",
      "1    School Closures, Large Gatherings Ban, Bar/Res...     0.0  ALABAMA  \n",
      "2                      Primary Election Postponement:      0.0  ALABAMA  \n",
      "3                                Section 1135 Waiver:      0.0  ALABAMA  \n",
      "4    Non-Essential Business Closures, Stay At Home ...     0.0  ALABAMA  \n",
      "..                                                 ...     ...      ...  \n",
      "436   Emergency Declaration, Public Health Emergency:      0.0  WYOMING  \n",
      "437           School Closures, Bar/Restaurant Limits:      0.0  WYOMING  \n",
      "438                             Large Gatherings Ban:      0.0  WYOMING  \n",
      "439                              Section 1135 Waiver:      0.0  WYOMING  \n",
      "440                Mandatory Quarantine for Travelers:     0.0  WYOMING  \n",
      "\n",
      "[441 rows x 5 columns]\n"
     ]
    },
    {
     "name": "stderr",
     "output_type": "stream",
     "text": [
      "C:\\Users\\Noah\\Anaconda3\\lib\\site-packages\\pandas\\core\\strings.py:1954: UserWarning: This pattern has match groups. To actually get the groups, use str.extract.\n",
      "  return func(self, *args, **kwargs)\n"
     ]
    }
   ],
   "source": [
    "\n",
    "close= pd.read_csv(\"data/closure_dates.csv\")\n",
    "print(close)\n",
    "close.drop(['Unnamed: 0'],axis=1,inplace=True)\n",
    "for x in actions.keys():\n",
    "    close[x] = np.where(close['Description'].str.lower().str.contains(x.lower()),1,0)\n",
    "close.drop_duplicates(inplace=True)\n",
    "    #close['chk'] = close.iloc[:,5:].sum(axis=1)\n",
    "#close.sort_values(by=['chk']).drop_duplicates(subset=['Description']).to_csv('chk.csv')\n",
    "\n",
    "\n",
    "close['first_date'] = close['Date'].str.split(',',expand=True).iloc[:,0]\n",
    "close['first_date'] = pd.to_datetime(close['first_date']+'/2020',errors='coerce')\n",
    "close.rename(columns=actions,inplace=True)\n",
    "close.rename(columns={'Easing':'ease'},inplace=True)\n",
    "\n",
    "for i in actions:\n",
    "    x = actions[i]\n",
    "    close[x] = np.where(close[x]==1,close['first_date'],np.datetime64('today'))\n",
    "lst  = [actions[x] for x in actions]\n",
    "\n",
    "close = close[['State']+lst+['ease']].copy()\n",
    "start = close[close['ease']==0].copy()\n",
    "ease = close[close['ease']==1].copy()\n",
    "fin =pd.DataFrame()\n",
    "for i,y in enumerate([start,ease]):\n",
    "    for x in lst:\n",
    "        fin = pd.concat([fin,y.groupby(['State'])[x].min()],axis=1)\n",
    "        fin.rename(columns={x:'{}_{}'.format(x,i)},inplace=True)\n",
    "upps = {x.upper():us_state_abbrev[x] for x in us_state_abbrev.keys()}\n",
    "\n",
    "def rep(x):\n",
    "    return upps[x]\n",
    "fin = fin.reset_index() \n",
    "fin['State'] = fin['index'].map(rep)\n",
    "fin.drop(['index'],axis=1,inplace=True)\n",
    "full_tog = full_tog.merge(fin,left_on=['state_abb'], right_on=['State'],how='left')"
   ]
  },
  {
   "cell_type": "markdown",
   "metadata": {},
   "source": [
    "# Covid Data (source: NYT)"
   ]
  },
  {
   "cell_type": "code",
   "execution_count": 34,
   "metadata": {
    "collapsed": true
   },
   "outputs": [],
   "source": [
    "lst_download = '2020-05-14'"
   ]
  },
  {
   "cell_type": "code",
   "execution_count": 35,
   "metadata": {},
   "outputs": [],
   "source": [
    "covid_county = pd.read_csv('data/{}_us-counties.csv'.format(lst_download),encoding = \"ISO-8859-1\")\n",
    "covid_state = pd.read_csv('data/{}_us-states.csv'.format(lst_download),encoding = \"ISO-8859-1\")"
   ]
  },
  {
   "cell_type": "code",
   "execution_count": 36,
   "metadata": {
    "scrolled": true
   },
   "outputs": [
    {
     "name": "stdout",
     "output_type": "stream",
     "text": [
      "(145377, 7)\n"
     ]
    },
    {
     "data": {
      "text/html": [
       "<div>\n",
       "<style scoped>\n",
       "    .dataframe tbody tr th:only-of-type {\n",
       "        vertical-align: middle;\n",
       "    }\n",
       "\n",
       "    .dataframe tbody tr th {\n",
       "        vertical-align: top;\n",
       "    }\n",
       "\n",
       "    .dataframe thead th {\n",
       "        text-align: right;\n",
       "    }\n",
       "</style>\n",
       "<table border=\"1\" class=\"dataframe\">\n",
       "  <thead>\n",
       "    <tr style=\"text-align: right;\">\n",
       "      <th></th>\n",
       "      <th>date</th>\n",
       "      <th>state</th>\n",
       "      <th>FIPS</th>\n",
       "      <th>cases</th>\n",
       "      <th>deaths</th>\n",
       "      <th>state_abb</th>\n",
       "      <th>county</th>\n",
       "      <th>first_case_date</th>\n",
       "    </tr>\n",
       "  </thead>\n",
       "  <tbody>\n",
       "    <tr>\n",
       "      <th>586</th>\n",
       "      <td>2020-03-13</td>\n",
       "      <td>Alabama</td>\n",
       "      <td>1000.0</td>\n",
       "      <td>6</td>\n",
       "      <td>0</td>\n",
       "      <td>AL</td>\n",
       "      <td>AL</td>\n",
       "      <td>2020-03-13</td>\n",
       "    </tr>\n",
       "    <tr>\n",
       "      <th>637</th>\n",
       "      <td>2020-03-14</td>\n",
       "      <td>Alabama</td>\n",
       "      <td>1000.0</td>\n",
       "      <td>12</td>\n",
       "      <td>0</td>\n",
       "      <td>AL</td>\n",
       "      <td>AL</td>\n",
       "      <td>2020-03-13</td>\n",
       "    </tr>\n",
       "    <tr>\n",
       "      <th>689</th>\n",
       "      <td>2020-03-15</td>\n",
       "      <td>Alabama</td>\n",
       "      <td>1000.0</td>\n",
       "      <td>23</td>\n",
       "      <td>0</td>\n",
       "      <td>AL</td>\n",
       "      <td>AL</td>\n",
       "      <td>2020-03-13</td>\n",
       "    </tr>\n",
       "    <tr>\n",
       "      <th>742</th>\n",
       "      <td>2020-03-16</td>\n",
       "      <td>Alabama</td>\n",
       "      <td>1000.0</td>\n",
       "      <td>29</td>\n",
       "      <td>0</td>\n",
       "      <td>AL</td>\n",
       "      <td>AL</td>\n",
       "      <td>2020-03-13</td>\n",
       "    </tr>\n",
       "    <tr>\n",
       "      <th>795</th>\n",
       "      <td>2020-03-17</td>\n",
       "      <td>Alabama</td>\n",
       "      <td>1000.0</td>\n",
       "      <td>39</td>\n",
       "      <td>0</td>\n",
       "      <td>AL</td>\n",
       "      <td>AL</td>\n",
       "      <td>2020-03-13</td>\n",
       "    </tr>\n",
       "    <tr>\n",
       "      <th>849</th>\n",
       "      <td>2020-03-18</td>\n",
       "      <td>Alabama</td>\n",
       "      <td>1000.0</td>\n",
       "      <td>51</td>\n",
       "      <td>0</td>\n",
       "      <td>AL</td>\n",
       "      <td>AL</td>\n",
       "      <td>2020-03-13</td>\n",
       "    </tr>\n",
       "    <tr>\n",
       "      <th>903</th>\n",
       "      <td>2020-03-19</td>\n",
       "      <td>Alabama</td>\n",
       "      <td>1000.0</td>\n",
       "      <td>78</td>\n",
       "      <td>0</td>\n",
       "      <td>AL</td>\n",
       "      <td>AL</td>\n",
       "      <td>2020-03-13</td>\n",
       "    </tr>\n",
       "    <tr>\n",
       "      <th>957</th>\n",
       "      <td>2020-03-20</td>\n",
       "      <td>Alabama</td>\n",
       "      <td>1000.0</td>\n",
       "      <td>106</td>\n",
       "      <td>0</td>\n",
       "      <td>AL</td>\n",
       "      <td>AL</td>\n",
       "      <td>2020-03-13</td>\n",
       "    </tr>\n",
       "    <tr>\n",
       "      <th>1011</th>\n",
       "      <td>2020-03-21</td>\n",
       "      <td>Alabama</td>\n",
       "      <td>1000.0</td>\n",
       "      <td>131</td>\n",
       "      <td>0</td>\n",
       "      <td>AL</td>\n",
       "      <td>AL</td>\n",
       "      <td>2020-03-13</td>\n",
       "    </tr>\n",
       "    <tr>\n",
       "      <th>1065</th>\n",
       "      <td>2020-03-22</td>\n",
       "      <td>Alabama</td>\n",
       "      <td>1000.0</td>\n",
       "      <td>157</td>\n",
       "      <td>0</td>\n",
       "      <td>AL</td>\n",
       "      <td>AL</td>\n",
       "      <td>2020-03-13</td>\n",
       "    </tr>\n",
       "    <tr>\n",
       "      <th>1119</th>\n",
       "      <td>2020-03-23</td>\n",
       "      <td>Alabama</td>\n",
       "      <td>1000.0</td>\n",
       "      <td>196</td>\n",
       "      <td>0</td>\n",
       "      <td>AL</td>\n",
       "      <td>AL</td>\n",
       "      <td>2020-03-13</td>\n",
       "    </tr>\n",
       "    <tr>\n",
       "      <th>1173</th>\n",
       "      <td>2020-03-24</td>\n",
       "      <td>Alabama</td>\n",
       "      <td>1000.0</td>\n",
       "      <td>242</td>\n",
       "      <td>0</td>\n",
       "      <td>AL</td>\n",
       "      <td>AL</td>\n",
       "      <td>2020-03-13</td>\n",
       "    </tr>\n",
       "    <tr>\n",
       "      <th>1227</th>\n",
       "      <td>2020-03-25</td>\n",
       "      <td>Alabama</td>\n",
       "      <td>1000.0</td>\n",
       "      <td>386</td>\n",
       "      <td>1</td>\n",
       "      <td>AL</td>\n",
       "      <td>AL</td>\n",
       "      <td>2020-03-13</td>\n",
       "    </tr>\n",
       "    <tr>\n",
       "      <th>1281</th>\n",
       "      <td>2020-03-26</td>\n",
       "      <td>Alabama</td>\n",
       "      <td>1000.0</td>\n",
       "      <td>538</td>\n",
       "      <td>3</td>\n",
       "      <td>AL</td>\n",
       "      <td>AL</td>\n",
       "      <td>2020-03-13</td>\n",
       "    </tr>\n",
       "    <tr>\n",
       "      <th>1335</th>\n",
       "      <td>2020-03-27</td>\n",
       "      <td>Alabama</td>\n",
       "      <td>1000.0</td>\n",
       "      <td>639</td>\n",
       "      <td>4</td>\n",
       "      <td>AL</td>\n",
       "      <td>AL</td>\n",
       "      <td>2020-03-13</td>\n",
       "    </tr>\n",
       "    <tr>\n",
       "      <th>1389</th>\n",
       "      <td>2020-03-28</td>\n",
       "      <td>Alabama</td>\n",
       "      <td>1000.0</td>\n",
       "      <td>720</td>\n",
       "      <td>4</td>\n",
       "      <td>AL</td>\n",
       "      <td>AL</td>\n",
       "      <td>2020-03-13</td>\n",
       "    </tr>\n",
       "    <tr>\n",
       "      <th>1444</th>\n",
       "      <td>2020-03-29</td>\n",
       "      <td>Alabama</td>\n",
       "      <td>1000.0</td>\n",
       "      <td>830</td>\n",
       "      <td>5</td>\n",
       "      <td>AL</td>\n",
       "      <td>AL</td>\n",
       "      <td>2020-03-13</td>\n",
       "    </tr>\n",
       "    <tr>\n",
       "      <th>1499</th>\n",
       "      <td>2020-03-30</td>\n",
       "      <td>Alabama</td>\n",
       "      <td>1000.0</td>\n",
       "      <td>947</td>\n",
       "      <td>11</td>\n",
       "      <td>AL</td>\n",
       "      <td>AL</td>\n",
       "      <td>2020-03-13</td>\n",
       "    </tr>\n",
       "    <tr>\n",
       "      <th>1554</th>\n",
       "      <td>2020-03-31</td>\n",
       "      <td>Alabama</td>\n",
       "      <td>1000.0</td>\n",
       "      <td>999</td>\n",
       "      <td>13</td>\n",
       "      <td>AL</td>\n",
       "      <td>AL</td>\n",
       "      <td>2020-03-13</td>\n",
       "    </tr>\n",
       "    <tr>\n",
       "      <th>1609</th>\n",
       "      <td>2020-04-01</td>\n",
       "      <td>Alabama</td>\n",
       "      <td>1000.0</td>\n",
       "      <td>1106</td>\n",
       "      <td>28</td>\n",
       "      <td>AL</td>\n",
       "      <td>AL</td>\n",
       "      <td>2020-03-13</td>\n",
       "    </tr>\n",
       "  </tbody>\n",
       "</table>\n",
       "</div>"
      ],
      "text/plain": [
       "           date    state    FIPS  cases  deaths state_abb county  \\\n",
       "586  2020-03-13  Alabama  1000.0      6       0        AL     AL   \n",
       "637  2020-03-14  Alabama  1000.0     12       0        AL     AL   \n",
       "689  2020-03-15  Alabama  1000.0     23       0        AL     AL   \n",
       "742  2020-03-16  Alabama  1000.0     29       0        AL     AL   \n",
       "795  2020-03-17  Alabama  1000.0     39       0        AL     AL   \n",
       "849  2020-03-18  Alabama  1000.0     51       0        AL     AL   \n",
       "903  2020-03-19  Alabama  1000.0     78       0        AL     AL   \n",
       "957  2020-03-20  Alabama  1000.0    106       0        AL     AL   \n",
       "1011 2020-03-21  Alabama  1000.0    131       0        AL     AL   \n",
       "1065 2020-03-22  Alabama  1000.0    157       0        AL     AL   \n",
       "1119 2020-03-23  Alabama  1000.0    196       0        AL     AL   \n",
       "1173 2020-03-24  Alabama  1000.0    242       0        AL     AL   \n",
       "1227 2020-03-25  Alabama  1000.0    386       1        AL     AL   \n",
       "1281 2020-03-26  Alabama  1000.0    538       3        AL     AL   \n",
       "1335 2020-03-27  Alabama  1000.0    639       4        AL     AL   \n",
       "1389 2020-03-28  Alabama  1000.0    720       4        AL     AL   \n",
       "1444 2020-03-29  Alabama  1000.0    830       5        AL     AL   \n",
       "1499 2020-03-30  Alabama  1000.0    947      11        AL     AL   \n",
       "1554 2020-03-31  Alabama  1000.0    999      13        AL     AL   \n",
       "1609 2020-04-01  Alabama  1000.0   1106      28        AL     AL   \n",
       "\n",
       "     first_case_date  \n",
       "586       2020-03-13  \n",
       "637       2020-03-13  \n",
       "689       2020-03-13  \n",
       "742       2020-03-13  \n",
       "795       2020-03-13  \n",
       "849       2020-03-13  \n",
       "903       2020-03-13  \n",
       "957       2020-03-13  \n",
       "1011      2020-03-13  \n",
       "1065      2020-03-13  \n",
       "1119      2020-03-13  \n",
       "1173      2020-03-13  \n",
       "1227      2020-03-13  \n",
       "1281      2020-03-13  \n",
       "1335      2020-03-13  \n",
       "1389      2020-03-13  \n",
       "1444      2020-03-13  \n",
       "1499      2020-03-13  \n",
       "1554      2020-03-13  \n",
       "1609      2020-03-13  "
      ]
     },
     "execution_count": 36,
     "metadata": {},
     "output_type": "execute_result"
    }
   ],
   "source": [
    "covid_state['state_abb'] = covid_state['state'].apply(replace_acronym)\n",
    "covid_state['county'] = covid_state['state_abb'].copy()\n",
    "covid_state['fips'] = covid_state['fips'] *1000.0\n",
    "covid_county['state_abb'] = covid_county['state'].apply(replace_acronym)\n",
    "covid = pd.concat([covid_state,covid_county],axis=0)\n",
    "covid.date = pd.to_datetime(covid.date,errors='coerce')\n",
    "covid.rename(columns={'fips':'FIPS'},inplace=True)\n",
    "covid['FIPS'] = covid['FIPS'].astype(float)\n",
    "print(covid.shape)\n",
    "covid.dropna(subset=['FIPS'],inplace=True)\n",
    "covid[covid['date']>=pd.to_datetime('2020-02-15')].shape\n",
    "covid['first_case_date']  = covid.groupby(['FIPS'])['date'].transform(min)\n",
    "covid.sort_values(by=['FIPS','date']).head(20) "
   ]
  },
  {
   "cell_type": "code",
   "execution_count": 37,
   "metadata": {
    "collapsed": true
   },
   "outputs": [],
   "source": [
    "full_data = full_tog.merge(covid,on=['date','FIPS'],how='left',indicator=True)"
   ]
  },
  {
   "cell_type": "code",
   "execution_count": 38,
   "metadata": {},
   "outputs": [
    {
     "data": {
      "text/plain": [
       "county    219937\n",
       "state       4233\n",
       "Name: geo, dtype: int64"
      ]
     },
     "execution_count": 38,
     "metadata": {},
     "output_type": "execute_result"
    }
   ],
   "source": [
    "full_data.geo.value_counts()"
   ]
  },
  {
   "cell_type": "code",
   "execution_count": 39,
   "metadata": {},
   "outputs": [
    {
     "name": "stderr",
     "output_type": "stream",
     "text": [
      "C:\\Users\\Noah\\Anaconda3\\lib\\site-packages\\ipykernel_launcher.py:1: FutureWarning: Indexing with multiple keys (implicitly converted to a tuple of keys) will be deprecated, use a list instead.\n",
      "  \"\"\"Entry point for launching an IPython kernel.\n"
     ]
    },
    {
     "data": {
      "text/plain": [
       "<matplotlib.axes._subplots.AxesSubplot at 0x19cbe503a20>"
      ]
     },
     "execution_count": 39,
     "metadata": {},
     "output_type": "execute_result"
    },
    {
     "data": {
      "image/png": "[encoded data removed]",
      "text/plain": [
       "<Figure size 1080x576 with 2 Axes>"
      ]
     },
     "metadata": {},
     "output_type": "display_data"
    }
   ],
   "source": [
    "plt_data = full_data.groupby(['geo','date'])['cases','deaths'].sum().reset_index()\n",
    "f, ax = plt.subplots(1,2,sharex=True,figsize=(15,8))\n",
    "sns.lineplot(x='date',y='cases',hue='geo',data=plt_data,ax=ax[0])\n",
    "sns.lineplot(x='date',y='deaths',hue='geo',data=plt_data,ax=ax[1])\n"
   ]
  },
  {
   "cell_type": "code",
   "execution_count": 40,
   "metadata": {},
   "outputs": [
    {
     "name": "stderr",
     "output_type": "stream",
     "text": [
      "C:\\Users\\Noah\\Anaconda3\\lib\\site-packages\\ipykernel_launcher.py:1: FutureWarning: Indexing with multiple keys (implicitly converted to a tuple of keys) will be deprecated, use a list instead.\n",
      "  \"\"\"Entry point for launching an IPython kernel.\n"
     ]
    },
    {
     "data": {
      "text/html": [
       "<div>\n",
       "<style scoped>\n",
       "    .dataframe tbody tr th:only-of-type {\n",
       "        vertical-align: middle;\n",
       "    }\n",
       "\n",
       "    .dataframe tbody tr th {\n",
       "        vertical-align: top;\n",
       "    }\n",
       "\n",
       "    .dataframe thead th {\n",
       "        text-align: right;\n",
       "    }\n",
       "</style>\n",
       "<table border=\"1\" class=\"dataframe\">\n",
       "  <thead>\n",
       "    <tr style=\"text-align: right;\">\n",
       "      <th></th>\n",
       "      <th>geo</th>\n",
       "      <th>date</th>\n",
       "      <th>cases</th>\n",
       "      <th>deaths</th>\n",
       "    </tr>\n",
       "  </thead>\n",
       "  <tbody>\n",
       "    <tr>\n",
       "      <th>0</th>\n",
       "      <td>county</td>\n",
       "      <td>2020-02-15</td>\n",
       "      <td>15.0</td>\n",
       "      <td>0.0</td>\n",
       "    </tr>\n",
       "    <tr>\n",
       "      <th>1</th>\n",
       "      <td>county</td>\n",
       "      <td>2020-02-16</td>\n",
       "      <td>15.0</td>\n",
       "      <td>0.0</td>\n",
       "    </tr>\n",
       "    <tr>\n",
       "      <th>2</th>\n",
       "      <td>county</td>\n",
       "      <td>2020-02-17</td>\n",
       "      <td>25.0</td>\n",
       "      <td>0.0</td>\n",
       "    </tr>\n",
       "    <tr>\n",
       "      <th>3</th>\n",
       "      <td>county</td>\n",
       "      <td>2020-02-18</td>\n",
       "      <td>25.0</td>\n",
       "      <td>0.0</td>\n",
       "    </tr>\n",
       "    <tr>\n",
       "      <th>4</th>\n",
       "      <td>county</td>\n",
       "      <td>2020-02-19</td>\n",
       "      <td>25.0</td>\n",
       "      <td>0.0</td>\n",
       "    </tr>\n",
       "    <tr>\n",
       "      <th>...</th>\n",
       "      <td>...</td>\n",
       "      <td>...</td>\n",
       "      <td>...</td>\n",
       "      <td>...</td>\n",
       "    </tr>\n",
       "    <tr>\n",
       "      <th>161</th>\n",
       "      <td>state</td>\n",
       "      <td>2020-05-03</td>\n",
       "      <td>1161990.0</td>\n",
       "      <td>67665.0</td>\n",
       "    </tr>\n",
       "    <tr>\n",
       "      <th>162</th>\n",
       "      <td>state</td>\n",
       "      <td>2020-05-04</td>\n",
       "      <td>1183846.0</td>\n",
       "      <td>68724.0</td>\n",
       "    </tr>\n",
       "    <tr>\n",
       "      <th>163</th>\n",
       "      <td>state</td>\n",
       "      <td>2020-05-05</td>\n",
       "      <td>1207504.0</td>\n",
       "      <td>70956.0</td>\n",
       "    </tr>\n",
       "    <tr>\n",
       "      <th>164</th>\n",
       "      <td>state</td>\n",
       "      <td>2020-05-06</td>\n",
       "      <td>1231964.0</td>\n",
       "      <td>73664.0</td>\n",
       "    </tr>\n",
       "    <tr>\n",
       "      <th>165</th>\n",
       "      <td>state</td>\n",
       "      <td>2020-05-07</td>\n",
       "      <td>1260713.0</td>\n",
       "      <td>75620.0</td>\n",
       "    </tr>\n",
       "  </tbody>\n",
       "</table>\n",
       "<p>166 rows × 4 columns</p>\n",
       "</div>"
      ],
      "text/plain": [
       "        geo       date      cases   deaths\n",
       "0    county 2020-02-15       15.0      0.0\n",
       "1    county 2020-02-16       15.0      0.0\n",
       "2    county 2020-02-17       25.0      0.0\n",
       "3    county 2020-02-18       25.0      0.0\n",
       "4    county 2020-02-19       25.0      0.0\n",
       "..      ...        ...        ...      ...\n",
       "161   state 2020-05-03  1161990.0  67665.0\n",
       "162   state 2020-05-04  1183846.0  68724.0\n",
       "163   state 2020-05-05  1207504.0  70956.0\n",
       "164   state 2020-05-06  1231964.0  73664.0\n",
       "165   state 2020-05-07  1260713.0  75620.0\n",
       "\n",
       "[166 rows x 4 columns]"
      ]
     },
     "execution_count": 40,
     "metadata": {},
     "output_type": "execute_result"
    }
   ],
   "source": [
    "full_data.groupby(['geo','date'])['cases','deaths'].sum().reset_index()"
   ]
  },
  {
   "cell_type": "code",
   "execution_count": 41,
   "metadata": {
    "collapsed": true
   },
   "outputs": [],
   "source": [
    "full_data.to_csv('data/compiled_{}.csv'.format(str(datetime.now().date())),index=False)"
   ]
  },
  {
   "cell_type": "markdown",
   "metadata": {},
   "source": [
    "# Tracking Counties"
   ]
  },
  {
   "cell_type": "code",
   "execution_count": 55,
   "metadata": {},
   "outputs": [],
   "source": [
    "orders = full_data[['state_x', 'state_abb_x', 'county_x','FIPS', 'soe','sah', 'state_ease_0', 'state_sah_0',\n",
    "       'state_mandate_0', 'state_non_ess_0', 'state_lgb_0', 'state_sc_0',\n",
    "       'state_bar_res_0', 'state_election_0', 'state_emergency_0',\n",
    "       'state_compliance_0', 'state_prepare_0', 'state_ease_1',\n",
    "       'state_sah_1', 'state_mandate_1', 'state_non_ess_1', 'state_lgb_1',\n",
    "       'state_sc_1', 'state_bar_res_1', 'state_election_1',\n",
    "       'state_emergency_1', 'state_compliance_1', 'state_prepare_1']].drop_duplicates()\n",
    "\n",
    "orders.rename(columns={'state_x':'state', 'state_abb_x':'state_abb', 'county_x':'county'},inplace=True)\n",
    "orders.to_csv('data/county_tracker.csv', index=False)"
   ]
  },
  {
   "cell_type": "markdown",
   "metadata": {},
   "source": [
    "# Lag mobility data"
   ]
  },
  {
   "cell_type": "code",
   "execution_count": 37,
   "metadata": {
    "scrolled": true
   },
   "outputs": [
    {
     "data": {
      "text/plain": [
       "array(['country_region_code', 'country_region', 'state_x', 'county_x',\n",
       "       'date', 'retail', 'food_drugs', 'park', 'transit', 'work', 'homes',\n",
       "       'source', 'state_abb_x', 'FIPS', 'geo', 'POP_ESTIMATE_2018',\n",
       "       'N_POP_CHG_2018', 'Births_2018', 'Deaths_2018', 'NATURAL_INC_2018',\n",
       "       'INTERNATIONAL_MIG_2018', 'DOMESTIC_MIG_2018', 'NET_MIG_2018',\n",
       "       'RESIDUAL_2018', 'GQ_ESTIMATES_2018', 'R_birth_2018',\n",
       "       'R_death_2018', 'R_NATURAL_INC_2018', 'R_INTERNATIONAL_MIG_2018',\n",
       "       'R_DOMESTIC_MIG_2018', 'R_NET_MIG_2018', 'POVALL_2018',\n",
       "       'CI90LBAll_2018', 'CI90UBALL_2018', 'PCTPOVALL_2018',\n",
       "       'CI90LBALLP_2018', 'CI90UBALLP_2018', 'POV017_2018',\n",
       "       'CI90LB017_2018', 'CI90UB017_2018', 'PCTPOV017_2018',\n",
       "       'CI90LB017P_2018', 'CI90UB017P_2018', 'POV517_2018',\n",
       "       'CI90LB517_2018', 'CI90UB517_2018', 'PCTPOV517_2018',\n",
       "       'CI90LB517P_2018', 'CI90UB517P_2018', 'MEDHHINC_2018',\n",
       "       'CI90LBINC_2018', 'CI90UBINC_2018', 'POV04_2018', 'CI90LB04_2018',\n",
       "       'CI90UB04_2018', 'PCTPOV04_2018', 'CI90LB04P_2018',\n",
       "       'CI90UB04P_2018', 'Civilian_labor_force_2018', 'Employed_2018',\n",
       "       'Unemployed_2018', 'Unemployment_rate_2018',\n",
       "       'Median_Household_Income_2018',\n",
       "       'Med_HH_Income_Percent_of_State_Total_2018', 'neighbors1',\n",
       "       'neighbors2', 'neighbors3', 'neighbors4', 'neighbors5',\n",
       "       'neighbors6', 'neighbors7', 'neighbors8', 'neighbors9',\n",
       "       'neighbors10', 'neighbors11', 'neighbors12', 'neighbors13',\n",
       "       'neighbors14', 'neighbors15', 'soe', 'sah', 'school_year', 'bars',\n",
       "       'gather', 'Gatherings banned', 'daycares', 'non_essential_retail',\n",
       "       'travel_restriction', 'state_y', 'cases', 'deaths', 'state_abb_y',\n",
       "       'county_y', 'first_case_date', '_merge'], dtype=object)"
      ]
     },
     "execution_count": 37,
     "metadata": {},
     "output_type": "execute_result"
    }
   ],
   "source": [
    "full_data.columns.values"
   ]
  },
  {
   "cell_type": "code",
   "execution_count": 58,
   "metadata": {
    "jupyter": {
     "outputs_hidden": true
    }
   },
   "outputs": [
    {
     "data": {
      "text/plain": [
       "1        NaN\n",
       "3        NaN\n",
       "5        NaN\n",
       "7        NaN\n",
       "9        NaN\n",
       "          ..\n",
       "127485   NaN\n",
       "127486   NaN\n",
       "127487   NaN\n",
       "127488   NaN\n",
       "127489   NaN\n",
       "Name: FIPS, Length: 166, dtype: float64"
      ]
     },
     "execution_count": 58,
     "metadata": {},
     "output_type": "execute_result"
    }
   ],
   "source": [
    "full_data[full_data[['FIPS','date']].duplicated()]['FIPS']"
   ]
  },
  {
   "cell_type": "markdown",
   "metadata": {},
   "source": [
    "# Weather Data from NOAA"
   ]
  },
  {
   "cell_type": "code",
   "execution_count": 3,
   "metadata": {
    "collapsed": true
   },
   "outputs": [],
   "source": [
    "fips_to_county = pd.read_csv('./data/ZIP-COUNTY-FIPS_2017-06.csv')\n",
    "parks = pd.read_csv('./data/parks_only.csv')"
   ]
  },
  {
   "cell_type": "code",
   "execution_count": 4,
   "metadata": {},
   "outputs": [
    {
     "data": {
      "text/html": [
       "<div>\n",
       "<style scoped>\n",
       "    .dataframe tbody tr th:only-of-type {\n",
       "        vertical-align: middle;\n",
       "    }\n",
       "\n",
       "    .dataframe tbody tr th {\n",
       "        vertical-align: top;\n",
       "    }\n",
       "\n",
       "    .dataframe thead th {\n",
       "        text-align: right;\n",
       "    }\n",
       "</style>\n",
       "<table border=\"1\" class=\"dataframe\">\n",
       "  <thead>\n",
       "    <tr style=\"text-align: right;\">\n",
       "      <th></th>\n",
       "      <th>ZIP</th>\n",
       "      <th>COUNTYNAME</th>\n",
       "      <th>STATE</th>\n",
       "      <th>STCOUNTYFP</th>\n",
       "      <th>CLASSFP</th>\n",
       "    </tr>\n",
       "  </thead>\n",
       "  <tbody>\n",
       "    <tr>\n",
       "      <th>0</th>\n",
       "      <td>36003</td>\n",
       "      <td>Autauga County</td>\n",
       "      <td>AL</td>\n",
       "      <td>1001</td>\n",
       "      <td>H1</td>\n",
       "    </tr>\n",
       "    <tr>\n",
       "      <th>1</th>\n",
       "      <td>36006</td>\n",
       "      <td>Autauga County</td>\n",
       "      <td>AL</td>\n",
       "      <td>1001</td>\n",
       "      <td>H1</td>\n",
       "    </tr>\n",
       "    <tr>\n",
       "      <th>2</th>\n",
       "      <td>36067</td>\n",
       "      <td>Autauga County</td>\n",
       "      <td>AL</td>\n",
       "      <td>1001</td>\n",
       "      <td>H1</td>\n",
       "    </tr>\n",
       "    <tr>\n",
       "      <th>3</th>\n",
       "      <td>36066</td>\n",
       "      <td>Autauga County</td>\n",
       "      <td>AL</td>\n",
       "      <td>1001</td>\n",
       "      <td>H1</td>\n",
       "    </tr>\n",
       "    <tr>\n",
       "      <th>4</th>\n",
       "      <td>36703</td>\n",
       "      <td>Autauga County</td>\n",
       "      <td>AL</td>\n",
       "      <td>1001</td>\n",
       "      <td>H1</td>\n",
       "    </tr>\n",
       "    <tr>\n",
       "      <th>5</th>\n",
       "      <td>36701</td>\n",
       "      <td>Autauga County</td>\n",
       "      <td>AL</td>\n",
       "      <td>1001</td>\n",
       "      <td>H1</td>\n",
       "    </tr>\n",
       "    <tr>\n",
       "      <th>6</th>\n",
       "      <td>36091</td>\n",
       "      <td>Autauga County</td>\n",
       "      <td>AL</td>\n",
       "      <td>1001</td>\n",
       "      <td>H1</td>\n",
       "    </tr>\n",
       "    <tr>\n",
       "      <th>7</th>\n",
       "      <td>36051</td>\n",
       "      <td>Autauga County</td>\n",
       "      <td>AL</td>\n",
       "      <td>1001</td>\n",
       "      <td>H1</td>\n",
       "    </tr>\n",
       "    <tr>\n",
       "      <th>8</th>\n",
       "      <td>36068</td>\n",
       "      <td>Autauga County</td>\n",
       "      <td>AL</td>\n",
       "      <td>1001</td>\n",
       "      <td>H1</td>\n",
       "    </tr>\n",
       "    <tr>\n",
       "      <th>9</th>\n",
       "      <td>36008</td>\n",
       "      <td>Autauga County</td>\n",
       "      <td>AL</td>\n",
       "      <td>1001</td>\n",
       "      <td>H1</td>\n",
       "    </tr>\n",
       "  </tbody>\n",
       "</table>\n",
       "</div>"
      ],
      "text/plain": [
       "     ZIP      COUNTYNAME STATE  STCOUNTYFP CLASSFP\n",
       "0  36003  Autauga County    AL        1001      H1\n",
       "1  36006  Autauga County    AL        1001      H1\n",
       "2  36067  Autauga County    AL        1001      H1\n",
       "3  36066  Autauga County    AL        1001      H1\n",
       "4  36703  Autauga County    AL        1001      H1\n",
       "5  36701  Autauga County    AL        1001      H1\n",
       "6  36091  Autauga County    AL        1001      H1\n",
       "7  36051  Autauga County    AL        1001      H1\n",
       "8  36068  Autauga County    AL        1001      H1\n",
       "9  36008  Autauga County    AL        1001      H1"
      ]
     },
     "execution_count": 4,
     "metadata": {},
     "output_type": "execute_result"
    }
   ],
   "source": [
    "fips_to_county[0:10]"
   ]
  },
  {
   "cell_type": "code",
   "execution_count": 71,
   "metadata": {},
   "outputs": [
    {
     "data": {
      "text/plain": [
       "956"
      ]
     },
     "execution_count": 71,
     "metadata": {},
     "output_type": "execute_result"
    }
   ],
   "source": [
    "fips = parks['FIPS'].unique()\n",
    "len(fips)"
   ]
  },
  {
   "cell_type": "code",
   "execution_count": 72,
   "metadata": {
    "collapsed": true
   },
   "outputs": [],
   "source": [
    "fips_to_zips = dict()\n",
    "for fip in fips:\n",
    "    fips_to_zips[fip] = list(fips_to_county[fips_to_county['STCOUNTYFP']==fip]['ZIP'])"
   ]
  },
  {
   "cell_type": "code",
   "execution_count": 73,
   "metadata": {},
   "outputs": [
    {
     "data": {
      "text/plain": [
       "956"
      ]
     },
     "execution_count": 73,
     "metadata": {},
     "output_type": "execute_result"
    }
   ],
   "source": [
    "len(fips_to_zips)"
   ]
  },
  {
   "cell_type": "code",
   "execution_count": 6,
   "metadata": {},
   "outputs": [
    {
     "data": {
      "text/plain": [
       "219"
      ]
     },
     "execution_count": 6,
     "metadata": {},
     "output_type": "execute_result"
    }
   ],
   "source": [
    "dc_zips = county_to_zips['District of Columbia']\n",
    "len(dc_zips)"
   ]
  },
  {
   "cell_type": "code",
   "execution_count": 7,
   "metadata": {
    "collapsed": true
   },
   "outputs": [],
   "source": [
    "def get_weather(locationid, datasetid, begin_date, end_date, mytoken, base_url):\n",
    "    token = {'token': mytoken}\n",
    "    \n",
    "    #passing as string instead of dict because NOAA API does not like percent encoding\n",
    "    params = 'datasetid='+str(datasetid)+'&'+'locationid='+str(locationid)+'&'+'startdate='+str(begin_date)+'&'+'enddate='+str(end_date)+'&'+'limit=25'+'&datatypeid=TOBS,PRCP'\n",
    "    \n",
    "    r = requests.get(base_url+params, headers=token)\n",
    "    #print(\"Request status code: \"+str(r.status_code))\n",
    "\n",
    "    try:\n",
    "        #results comes in json form. Convert to dataframe\n",
    "        df = pd.DataFrame.from_dict(r.json()['results'])\n",
    "        #print(\"Successfully retrieved \"+str(len(df['station'].unique()))+\" stations\")\n",
    "        dates = pd.to_datetime(df['date'])\n",
    "\n",
    "        return df\n",
    "    except:\n",
    "        pass"
   ]
  },
  {
   "cell_type": "code",
   "execution_count": 65,
   "metadata": {
    "collapsed": true
   },
   "outputs": [],
   "source": [
    "import itertools\n",
    "z = dict(itertools.islice(fips_to_zips.items(), 5))"
   ]
  },
  {
   "cell_type": "code",
   "execution_count": 45,
   "metadata": {},
   "outputs": [
    {
     "data": {
      "text/plain": [
       "['admin', 'config', 'local', 'mydb', 'noaaweather']"
      ]
     },
     "execution_count": 45,
     "metadata": {},
     "output_type": "execute_result"
    }
   ],
   "source": [
    "import json\n",
    "import pymongo\n",
    "import time\n",
    "from pprint import pprint\n",
    "\n",
    "conn=pymongo.MongoClient()\n",
    "db = conn.noaaweather\n",
    "records = db.records\n",
    "conn.list_database_names()"
   ]
  },
  {
   "cell_type": "code",
   "execution_count": 59,
   "metadata": {},
   "outputs": [
    {
     "data": {
      "text/plain": [
       "<pymongo.results.DeleteResult at 0x1a1dadb050>"
      ]
     },
     "execution_count": 59,
     "metadata": {},
     "output_type": "execute_result"
    }
   ],
   "source": [
    "records.delete_many({})"
   ]
  },
  {
   "cell_type": "code",
   "execution_count": 66,
   "metadata": {},
   "outputs": [
    {
     "name": "stdout",
     "output_type": "stream",
     "text": [
      "1001\n"
     ]
    },
    {
     "name": "stderr",
     "output_type": "stream",
     "text": [
      "/opt/anaconda3/lib/python3.7/site-packages/ipykernel_launcher.py:31: DeprecationWarning: count is deprecated. Use estimated_document_count or count_documents instead. Please note that $where must be replaced by $expr, $near must be replaced by $geoWithin with $center, and $nearSphere must be replaced by $geoWithin with $centerSphere\n"
     ]
    },
    {
     "name": "stdout",
     "output_type": "stream",
     "text": [
      "25\n",
      "1003\n",
      "62\n",
      "1005\n",
      "79\n",
      "1007\n",
      "124\n",
      "1009\n",
      "153\n",
      "Run time was 429.0935 seconds\n"
     ]
    }
   ],
   "source": [
    "baseurl = 'https://www.ncdc.noaa.gov/cdo-web/api/v2/data?'\n",
    "mytoken = 'NVPWXeGxislWKqThiizoffNjnPtUtAcT'\n",
    "databaseid = 'GHCND'\n",
    "begindate = '2020-03-01'\n",
    "enddate = '2020-05-01'\n",
    "\n",
    "tic = time.perf_counter()\n",
    "weather = pd.DataFrame()\n",
    "for fip, codes in z.items():\n",
    "    print(fip)\n",
    "    fip_weather = pd.DataFrame()\n",
    "    for code in codes:\n",
    "        try:\n",
    "            newdf = get_weather('ZIP:'+str(code), databaseid,begindate,enddate,mytoken,baseurl)\n",
    "            fip_weather = fip_weather.append(newdf)\n",
    "        except:\n",
    "            continue\n",
    "    #average across the county\n",
    "    precip = fip_weather[fip_weather['datatype']=='PRCP'][['date','value']].rename(columns={'value':'precipitation'})\n",
    "    temp = fip_weather[fip_weather['datatype']=='TOBS'][['date','value']].rename(columns={'value':'temp'})\n",
    "    w = pd.merge(precip, temp, how ='outer', on ='date') \n",
    "    avgs = pd.merge(w.groupby('date', as_index=False)['precipitation'].mean(),\n",
    "                    w.groupby('date', as_index=False)['temp'].mean(),on='date')\n",
    "    avgs['FIPS']=fip\n",
    "    avgs = avgs.to_dict()\n",
    "    \n",
    "    #insert records into MongoDB\n",
    "    a = [{key:value[index] for key,value in avgs.items()}\n",
    "         for index in range(max(map(len,avgs.values())))]\n",
    "    records.insert_many(a)\n",
    "    print(records.count())\n",
    "    \n",
    "toc= time.perf_counter()\n",
    "print(f\"Run time was {toc - tic:0.4f} seconds\")"
   ]
  }
 ],
 "metadata": {
  "kernelspec": {
   "display_name": "Python 3",
   "language": "python",
   "name": "python3"
  },
  "language_info": {
   "codemirror_mode": {
    "name": "ipython",
    "version": 3
   },
   "file_extension": ".py",
   "mimetype": "text/x-python",
   "name": "python",
   "nbconvert_exporter": "python",
   "pygments_lexer": "ipython3",
   "version": "3.6.3"
  }
 },
 "nbformat": 4,
 "nbformat_minor": 4
}
