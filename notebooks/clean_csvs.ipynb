{
 "cells": [
  {
   "cell_type": "code",
   "execution_count": 1,
   "metadata": {},
   "outputs": [],
   "source": [
    "import pandas as pd\n",
    "import numpy as np\n",
    "import matplotlib.pyplot as plt\n",
    "import os\n",
    "import sys"
   ]
  },
  {
   "cell_type": "code",
   "execution_count": 2,
   "metadata": {},
   "outputs": [
    {
     "data": {
      "text/plain": [
       "'C:\\\\Users\\\\newbergern\\\\Documents\\\\CovidMobile'"
      ]
     },
     "execution_count": 2,
     "metadata": {},
     "output_type": "execute_result"
    }
   ],
   "source": [
    "os.chdir('../..')\n",
    "os.chdir('CovidMobile')\n",
    "os.getcwd()"
   ]
  },
  {
   "cell_type": "code",
   "execution_count": 3,
   "metadata": {},
   "outputs": [],
   "source": [
    "df = pd.read_csv('data/US-New_York_2020-04-05.csv')"
   ]
  },
  {
   "cell_type": "code",
   "execution_count": 4,
   "metadata": {},
   "outputs": [
    {
     "name": "stdout",
     "output_type": "stream",
     "text": [
      "Index(['country', 'page_num', 'plot_num', 'region', 'plot_name', 'asterisk',\n",
      "       'date', 'value', 'headline'],\n",
      "      dtype='object')\n",
      "           page_num      plot_num         value\n",
      "count  15996.000000  15996.000000  12702.000000\n",
      "mean      17.491935    186.500000     -6.160900\n",
      "std        8.972905    107.390119     27.402269\n",
      "min        1.000000      1.000000    -85.986000\n",
      "25%       10.000000     93.750000    -24.738750\n",
      "50%       17.500000    186.500000      0.160500\n",
      "75%       25.000000    279.250000      8.602500\n",
      "max       33.000000    372.000000    186.111000\n"
     ]
    }
   ],
   "source": [
    "print(df.columns)\n",
    "print(df.describe())"
   ]
  },
  {
   "cell_type": "code",
   "execution_count": 5,
   "metadata": {},
   "outputs": [
    {
     "data": {
      "text/plain": [
       "False    11524\n",
       "True      4472\n",
       "Name: asterisk, dtype: int64"
      ]
     },
     "execution_count": 5,
     "metadata": {},
     "output_type": "execute_result"
    }
   ],
   "source": [
    "df['asterisk'].value_counts()"
   ]
  },
  {
   "cell_type": "code",
   "execution_count": 6,
   "metadata": {},
   "outputs": [
    {
     "data": {
      "text/plain": [
       "plot_name            asterisk\n",
       "Grocery & pharmacy   False       2666\n",
       "Parks                False        860\n",
       "                     True        1806\n",
       "Residential          False       1333\n",
       "                     True        1333\n",
       "Retail & recreation  False       2666\n",
       "Transit stations     False       1333\n",
       "                     True        1333\n",
       "Workplace            False       2623\n",
       "Workplaces           False         43\n",
       "Name: country, dtype: int64"
      ]
     },
     "execution_count": 6,
     "metadata": {},
     "output_type": "execute_result"
    }
   ],
   "source": [
    "df.groupby(['plot_name','asterisk'])['country'].count()"
   ]
  },
  {
   "cell_type": "code",
   "execution_count": 7,
   "metadata": {},
   "outputs": [],
   "source": [
    "df.replace('Workplaces','Workplace',inplace=True)"
   ]
  },
  {
   "cell_type": "code",
   "execution_count": 8,
   "metadata": {},
   "outputs": [
    {
     "data": {
      "text/plain": [
       "plot_name            asterisk\n",
       "Grocery & pharmacy   False       2666\n",
       "Parks                False        860\n",
       "                     True        1806\n",
       "Residential          False       1333\n",
       "                     True        1333\n",
       "Retail & recreation  False       2666\n",
       "Transit stations     False       1333\n",
       "                     True        1333\n",
       "Workplace            False       2666\n",
       "Name: country, dtype: int64"
      ]
     },
     "execution_count": 8,
     "metadata": {},
     "output_type": "execute_result"
    }
   ],
   "source": [
    "df.groupby(['plot_name','asterisk'])['country'].count()"
   ]
  },
  {
   "cell_type": "code",
   "execution_count": null,
   "metadata": {},
   "outputs": [],
   "source": []
  }
 ],
 "metadata": {
  "kernelspec": {
   "display_name": "Python 3",
   "language": "python",
   "name": "python3"
  },
  "language_info": {
   "codemirror_mode": {
    "name": "ipython",
    "version": 3
   },
   "file_extension": ".py",
   "mimetype": "text/x-python",
   "name": "python",
   "nbconvert_exporter": "python",
   "pygments_lexer": "ipython3",
   "version": "3.7.3"
  }
 },
 "nbformat": 4,
 "nbformat_minor": 2
}
