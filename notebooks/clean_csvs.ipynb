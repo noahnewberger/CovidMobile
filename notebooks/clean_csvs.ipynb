{
 "cells": [
  {
   "cell_type": "code",
   "execution_count": 1,
   "metadata": {
    "collapsed": true
   },
   "outputs": [],
   "source": [
    "import pandas as pd\n",
    "import numpy as np\n",
    "import matplotlib.pyplot as plt\n",
    "import seaborn as sns\n",
    "import os\n",
    "import sys\n",
    "from state_cleaner import *\n",
    "import datetime\n",
    "\n",
    "%load_ext autoreload\n",
    "%autoreload 2\n",
    "%matplotlib inline"
   ]
  },
  {
   "cell_type": "code",
   "execution_count": 2,
   "metadata": {},
   "outputs": [
    {
     "data": {
      "text/plain": [
       "'C:\\\\Users\\\\Noah\\\\CovidMobile'"
      ]
     },
     "execution_count": 2,
     "metadata": {},
     "output_type": "execute_result"
    }
   ],
   "source": [
    "os.chdir('../..')\n",
    "os.chdir('CovidMobile')\n",
    "os.getcwd()"
   ]
  },
  {
   "cell_type": "markdown",
   "metadata": {},
   "source": [
    "# Census Data"
   ]
  },
  {
   "cell_type": "code",
   "execution_count": 3,
   "metadata": {
    "scrolled": true
   },
   "outputs": [
    {
     "name": "stderr",
     "output_type": "stream",
     "text": [
      "C:\\Users\\Noah\\Anaconda3\\lib\\site-packages\\ipykernel_launcher.py:3: ParserWarning: Falling back to the 'python' engine because the 'c' engine does not support regex separators (separators > 1 char and different from '\\s+' are interpreted as regex); you can avoid this warning by specifying engine='python'.\n",
      "  This is separate from the ipykernel package so we can avoid doing imports until\n"
     ]
    }
   ],
   "source": [
    "df_col_headers = pd.read_csv('data/DataDict.txt_2020-04-16', sep='\\t', header=None)\n",
    "df_county_data = pd.read_csv('data/DataSet.txt_2020-04-16', sep=',')\n",
    "df_county_names = pd.read_csv('data/FIPS_CountyName.txt_2020-04-16', sep='delimiter', header=None)"
   ]
  },
  {
   "cell_type": "code",
   "execution_count": 4,
   "metadata": {},
   "outputs": [
    {
     "data": {
      "text/html": [
       "<div>\n",
       "<style scoped>\n",
       "    .dataframe tbody tr th:only-of-type {\n",
       "        vertical-align: middle;\n",
       "    }\n",
       "\n",
       "    .dataframe tbody tr th {\n",
       "        vertical-align: top;\n",
       "    }\n",
       "\n",
       "    .dataframe thead th {\n",
       "        text-align: right;\n",
       "    }\n",
       "</style>\n",
       "<table border=\"1\" class=\"dataframe\">\n",
       "  <thead>\n",
       "    <tr style=\"text-align: right;\">\n",
       "      <th></th>\n",
       "      <th>0</th>\n",
       "    </tr>\n",
       "  </thead>\n",
       "  <tbody>\n",
       "    <tr>\n",
       "      <th>3190</th>\n",
       "      <td>56037 Sweetwater County, WY</td>\n",
       "    </tr>\n",
       "    <tr>\n",
       "      <th>3191</th>\n",
       "      <td>56039 Teton County, WY</td>\n",
       "    </tr>\n",
       "    <tr>\n",
       "      <th>3192</th>\n",
       "      <td>56041 Uinta County, WY</td>\n",
       "    </tr>\n",
       "    <tr>\n",
       "      <th>3193</th>\n",
       "      <td>56043 Washakie County, WY</td>\n",
       "    </tr>\n",
       "    <tr>\n",
       "      <th>3194</th>\n",
       "      <td>56045 Weston County, WY</td>\n",
       "    </tr>\n",
       "  </tbody>\n",
       "</table>\n",
       "</div>"
      ],
      "text/plain": [
       "                                0\n",
       "3190  56037 Sweetwater County, WY\n",
       "3191       56039 Teton County, WY\n",
       "3192       56041 Uinta County, WY\n",
       "3193    56043 Washakie County, WY\n",
       "3194      56045 Weston County, WY"
      ]
     },
     "execution_count": 4,
     "metadata": {},
     "output_type": "execute_result"
    }
   ],
   "source": [
    "df_county_names.tail()"
   ]
  },
  {
   "cell_type": "code",
   "execution_count": 5,
   "metadata": {},
   "outputs": [
    {
     "data": {
      "text/plain": [
       "((3195, 3),     FIPS          County State\n",
       " 0  00000   UNITED STATES  None\n",
       " 1  01000         ALABAMA  None\n",
       " 2  01001  Autauga County    AL\n",
       " 3  01003  Baldwin County    AL\n",
       " 4  01005  Barbour County    AL)"
      ]
     },
     "execution_count": 5,
     "metadata": {},
     "output_type": "execute_result"
    }
   ],
   "source": [
    "df_county_names = df_county_names[0].str.split(' ',n=1,expand=True)\n",
    "df_county_names = pd.concat([df_county_names[0],df_county_names[1].str.split(',',n=1,expand=True)],axis=1)\n",
    "df_county_names.columns = ['FIPS','County','State']\n",
    "df_county_names['State'] = df_county_names['State'].str.replace(' ', '')\n",
    "df_county_names.shape,df_county_names.head()"
   ]
  },
  {
   "cell_type": "code",
   "execution_count": 6,
   "metadata": {},
   "outputs": [
    {
     "data": {
      "text/plain": [
       "((3195, 54),\n",
       "    fips  PST045214  PST045213  PST040210  PST120214  PST120213  POP010210  \\\n",
       " 0     0  318857056  316497531  308758105        3.3        2.5  308745538   \n",
       " 1  1000    4849377    4833996    4780127        1.4        1.1    4779736   \n",
       " 2  1001      55395      55136      54571        1.5        1.0      54571   \n",
       " 3  1003     200111     195443     182265        9.8        7.2     182265   \n",
       " 4  1005      26887      26978      27457       -2.1       -1.7      27457   \n",
       " \n",
       "    AGE135213  AGE295213  AGE775213  ...  SBO415207  SBO015207   MAN450207  \\\n",
       " 0        6.3       23.3       14.1  ...        8.3       28.8  5319456312   \n",
       " 1        6.1       23.0       14.9  ...        1.2       28.1   112858843   \n",
       " 2        6.1       25.4       13.5  ...        0.7       31.7           0   \n",
       " 3        5.7       22.4       18.1  ...        1.3       27.3     1410273   \n",
       " 4        5.8       21.1       15.9  ...        0.0       27.0           0   \n",
       " \n",
       "     WTN220207   RTN130207  RTN131207  AFN120207  BPS030214   LND110210  \\\n",
       " 0  4174286516  3917663456      12990  613795732    1046363  3531905.43   \n",
       " 1    52252752    57344851      12364    6426342      13369    50645.33   \n",
       " 2           0      598175      12003      88157        131      594.44   \n",
       " 3           0     2966489      17166     436955       1384     1589.78   \n",
       " 4           0      188337       6334          0          8      884.88   \n",
       " \n",
       "    POP060210  \n",
       " 0       87.4  \n",
       " 1       94.4  \n",
       " 2       91.8  \n",
       " 3      114.6  \n",
       " 4       31.0  \n",
       " \n",
       " [5 rows x 54 columns])"
      ]
     },
     "execution_count": 6,
     "metadata": {},
     "output_type": "execute_result"
    }
   ],
   "source": [
    "df_county_data.shape,df_county_data.head()"
   ]
  },
  {
   "cell_type": "code",
   "execution_count": 7,
   "metadata": {
    "scrolled": true
   },
   "outputs": [
    {
     "data": {
      "text/html": [
       "<div>\n",
       "<style scoped>\n",
       "    .dataframe tbody tr th:only-of-type {\n",
       "        vertical-align: middle;\n",
       "    }\n",
       "\n",
       "    .dataframe tbody tr th {\n",
       "        vertical-align: top;\n",
       "    }\n",
       "\n",
       "    .dataframe thead th {\n",
       "        text-align: right;\n",
       "    }\n",
       "</style>\n",
       "<table border=\"1\" class=\"dataframe\">\n",
       "  <thead>\n",
       "    <tr style=\"text-align: right;\">\n",
       "      <th></th>\n",
       "      <th>code</th>\n",
       "      <th>var_name</th>\n",
       "      <th>extra</th>\n",
       "    </tr>\n",
       "  </thead>\n",
       "  <tbody>\n",
       "    <tr>\n",
       "      <th>1</th>\n",
       "      <td>STATECOU</td>\n",
       "      <td>FIPS State and County code</td>\n",
       "      <td>None</td>\n",
       "    </tr>\n",
       "    <tr>\n",
       "      <th>2</th>\n",
       "      <td>PST045214</td>\n",
       "      <td>Population, 2014 estimate</td>\n",
       "      <td>ABS    0    318857056       86 318857056 CENSUS</td>\n",
       "    </tr>\n",
       "    <tr>\n",
       "      <th>3</th>\n",
       "      <td>PST045213</td>\n",
       "      <td>Population, 2013 estimate</td>\n",
       "      <td>ABS    0    316497531       89 316497531 CENSUS</td>\n",
       "    </tr>\n",
       "    <tr>\n",
       "      <th>4</th>\n",
       "      <td>PST040210</td>\n",
       "      <td>Population, 2010 (April 1) estimates base</td>\n",
       "      <td>ABS    0    308758105       82 308758105 CENSUS</td>\n",
       "    </tr>\n",
       "    <tr>\n",
       "      <th>5</th>\n",
       "      <td>PST120214</td>\n",
       "      <td>Population, percent change - April 1, 2010 to ...</td>\n",
       "      <td>PCT    1          3.3    -17.0      72.9 CENSUS</td>\n",
       "    </tr>\n",
       "  </tbody>\n",
       "</table>\n",
       "</div>"
      ],
      "text/plain": [
       "        code                                           var_name  \\\n",
       "1   STATECOU                         FIPS State and County code   \n",
       "2  PST045214                          Population, 2014 estimate   \n",
       "3  PST045213                          Population, 2013 estimate   \n",
       "4  PST040210          Population, 2010 (April 1) estimates base   \n",
       "5  PST120214  Population, percent change - April 1, 2010 to ...   \n",
       "\n",
       "                                             extra  \n",
       "1                                             None  \n",
       "2  ABS    0    318857056       86 318857056 CENSUS  \n",
       "3  ABS    0    316497531       89 316497531 CENSUS  \n",
       "4  ABS    0    308758105       82 308758105 CENSUS  \n",
       "5  PCT    1          3.3    -17.0      72.9 CENSUS  "
      ]
     },
     "execution_count": 7,
     "metadata": {},
     "output_type": "execute_result"
    }
   ],
   "source": [
    "df_col_headers = df_col_headers[0].str.split(' ',n=1,expand=True)\n",
    "df_col_headers = pd.concat([df_col_headers[0],df_col_headers[1].str.split('\\s+\\s+',n=1,expand=True)],axis=1)\n",
    "df_col_headers.columns = ['code','var_name','extra']\n",
    "df_col_headers.drop([0],inplace=True)\n",
    "df_col_headers.head()\n",
    "\n"
   ]
  },
  {
   "cell_type": "code",
   "execution_count": 8,
   "metadata": {
    "collapsed": true,
    "scrolled": true
   },
   "outputs": [],
   "source": [
    "df_county_data.columns = df_col_headers['var_name'].values"
   ]
  },
  {
   "cell_type": "code",
   "execution_count": 9,
   "metadata": {},
   "outputs": [
    {
     "data": {
      "text/html": [
       "<div>\n",
       "<style scoped>\n",
       "    .dataframe tbody tr th:only-of-type {\n",
       "        vertical-align: middle;\n",
       "    }\n",
       "\n",
       "    .dataframe tbody tr th {\n",
       "        vertical-align: top;\n",
       "    }\n",
       "\n",
       "    .dataframe thead th {\n",
       "        text-align: right;\n",
       "    }\n",
       "</style>\n",
       "<table border=\"1\" class=\"dataframe\">\n",
       "  <thead>\n",
       "    <tr style=\"text-align: right;\">\n",
       "      <th></th>\n",
       "      <th>FIPS State and County code</th>\n",
       "      <th>Population, 2014 estimate</th>\n",
       "      <th>Population, 2013 estimate</th>\n",
       "      <th>Population, 2010 (April 1) estimates base</th>\n",
       "      <th>Population, percent change - April 1, 2010 to July 1, 2014</th>\n",
       "      <th>Population, percent change - April 1, 2010 to July 1, 2013</th>\n",
       "      <th>Population, 2010</th>\n",
       "      <th>Persons under 5 years, percent, 2013</th>\n",
       "      <th>Persons under 18 years, percent, 2013</th>\n",
       "      <th>Persons 65 years and over, percent, 2013</th>\n",
       "      <th>...</th>\n",
       "      <th>Hispanic-owned firms, percent, 2007</th>\n",
       "      <th>Women-owned firms, percent, 2007</th>\n",
       "      <th>Manufacturers shipments, 2007 ($1,000)</th>\n",
       "      <th>Merchant wholesaler sales, 2007 ($1,000)</th>\n",
       "      <th>Retail sales, 2007 ($1,000)</th>\n",
       "      <th>Retail sales per capita, 2007</th>\n",
       "      <th>Accommodation and food services sales, 2007 ($1,000)</th>\n",
       "      <th>Building permits, 2014</th>\n",
       "      <th>Land area in square miles, 2010</th>\n",
       "      <th>Population per square mile, 2010</th>\n",
       "    </tr>\n",
       "  </thead>\n",
       "  <tbody>\n",
       "    <tr>\n",
       "      <th>0</th>\n",
       "      <td>0</td>\n",
       "      <td>318857056</td>\n",
       "      <td>316497531</td>\n",
       "      <td>308758105</td>\n",
       "      <td>3.3</td>\n",
       "      <td>2.5</td>\n",
       "      <td>308745538</td>\n",
       "      <td>6.3</td>\n",
       "      <td>23.3</td>\n",
       "      <td>14.1</td>\n",
       "      <td>...</td>\n",
       "      <td>8.3</td>\n",
       "      <td>28.8</td>\n",
       "      <td>5319456312</td>\n",
       "      <td>4174286516</td>\n",
       "      <td>3917663456</td>\n",
       "      <td>12990</td>\n",
       "      <td>613795732</td>\n",
       "      <td>1046363</td>\n",
       "      <td>3531905.43</td>\n",
       "      <td>87.4</td>\n",
       "    </tr>\n",
       "    <tr>\n",
       "      <th>1</th>\n",
       "      <td>1000</td>\n",
       "      <td>4849377</td>\n",
       "      <td>4833996</td>\n",
       "      <td>4780127</td>\n",
       "      <td>1.4</td>\n",
       "      <td>1.1</td>\n",
       "      <td>4779736</td>\n",
       "      <td>6.1</td>\n",
       "      <td>23.0</td>\n",
       "      <td>14.9</td>\n",
       "      <td>...</td>\n",
       "      <td>1.2</td>\n",
       "      <td>28.1</td>\n",
       "      <td>112858843</td>\n",
       "      <td>52252752</td>\n",
       "      <td>57344851</td>\n",
       "      <td>12364</td>\n",
       "      <td>6426342</td>\n",
       "      <td>13369</td>\n",
       "      <td>50645.33</td>\n",
       "      <td>94.4</td>\n",
       "    </tr>\n",
       "    <tr>\n",
       "      <th>2</th>\n",
       "      <td>1001</td>\n",
       "      <td>55395</td>\n",
       "      <td>55136</td>\n",
       "      <td>54571</td>\n",
       "      <td>1.5</td>\n",
       "      <td>1.0</td>\n",
       "      <td>54571</td>\n",
       "      <td>6.1</td>\n",
       "      <td>25.4</td>\n",
       "      <td>13.5</td>\n",
       "      <td>...</td>\n",
       "      <td>0.7</td>\n",
       "      <td>31.7</td>\n",
       "      <td>0</td>\n",
       "      <td>0</td>\n",
       "      <td>598175</td>\n",
       "      <td>12003</td>\n",
       "      <td>88157</td>\n",
       "      <td>131</td>\n",
       "      <td>594.44</td>\n",
       "      <td>91.8</td>\n",
       "    </tr>\n",
       "    <tr>\n",
       "      <th>3</th>\n",
       "      <td>1003</td>\n",
       "      <td>200111</td>\n",
       "      <td>195443</td>\n",
       "      <td>182265</td>\n",
       "      <td>9.8</td>\n",
       "      <td>7.2</td>\n",
       "      <td>182265</td>\n",
       "      <td>5.7</td>\n",
       "      <td>22.4</td>\n",
       "      <td>18.1</td>\n",
       "      <td>...</td>\n",
       "      <td>1.3</td>\n",
       "      <td>27.3</td>\n",
       "      <td>1410273</td>\n",
       "      <td>0</td>\n",
       "      <td>2966489</td>\n",
       "      <td>17166</td>\n",
       "      <td>436955</td>\n",
       "      <td>1384</td>\n",
       "      <td>1589.78</td>\n",
       "      <td>114.6</td>\n",
       "    </tr>\n",
       "    <tr>\n",
       "      <th>4</th>\n",
       "      <td>1005</td>\n",
       "      <td>26887</td>\n",
       "      <td>26978</td>\n",
       "      <td>27457</td>\n",
       "      <td>-2.1</td>\n",
       "      <td>-1.7</td>\n",
       "      <td>27457</td>\n",
       "      <td>5.8</td>\n",
       "      <td>21.1</td>\n",
       "      <td>15.9</td>\n",
       "      <td>...</td>\n",
       "      <td>0.0</td>\n",
       "      <td>27.0</td>\n",
       "      <td>0</td>\n",
       "      <td>0</td>\n",
       "      <td>188337</td>\n",
       "      <td>6334</td>\n",
       "      <td>0</td>\n",
       "      <td>8</td>\n",
       "      <td>884.88</td>\n",
       "      <td>31.0</td>\n",
       "    </tr>\n",
       "  </tbody>\n",
       "</table>\n",
       "<p>5 rows × 54 columns</p>\n",
       "</div>"
      ],
      "text/plain": [
       "    FIPS State and County code  Population, 2014 estimate  \\\n",
       "0                            0                  318857056   \n",
       "1                         1000                    4849377   \n",
       "2                         1001                      55395   \n",
       "3                         1003                     200111   \n",
       "4                         1005                      26887   \n",
       "\n",
       "   Population, 2013 estimate  Population, 2010 (April 1) estimates base  \\\n",
       "0                  316497531                                  308758105   \n",
       "1                    4833996                                    4780127   \n",
       "2                      55136                                      54571   \n",
       "3                     195443                                     182265   \n",
       "4                      26978                                      27457   \n",
       "\n",
       "   Population, percent change - April 1, 2010 to July 1, 2014  \\\n",
       "0                                                3.3            \n",
       "1                                                1.4            \n",
       "2                                                1.5            \n",
       "3                                                9.8            \n",
       "4                                               -2.1            \n",
       "\n",
       "   Population, percent change - April 1, 2010 to July 1, 2013  \\\n",
       "0                                                2.5            \n",
       "1                                                1.1            \n",
       "2                                                1.0            \n",
       "3                                                7.2            \n",
       "4                                               -1.7            \n",
       "\n",
       "   Population, 2010  Persons under 5 years, percent, 2013  \\\n",
       "0         308745538                                   6.3   \n",
       "1           4779736                                   6.1   \n",
       "2             54571                                   6.1   \n",
       "3            182265                                   5.7   \n",
       "4             27457                                   5.8   \n",
       "\n",
       "   Persons under 18 years, percent, 2013  \\\n",
       "0                                   23.3   \n",
       "1                                   23.0   \n",
       "2                                   25.4   \n",
       "3                                   22.4   \n",
       "4                                   21.1   \n",
       "\n",
       "   Persons 65 years and over, percent, 2013  ...  \\\n",
       "0                                      14.1  ...   \n",
       "1                                      14.9  ...   \n",
       "2                                      13.5  ...   \n",
       "3                                      18.1  ...   \n",
       "4                                      15.9  ...   \n",
       "\n",
       "   Hispanic-owned firms, percent, 2007  Women-owned firms, percent, 2007  \\\n",
       "0                                  8.3                              28.8   \n",
       "1                                  1.2                              28.1   \n",
       "2                                  0.7                              31.7   \n",
       "3                                  1.3                              27.3   \n",
       "4                                  0.0                              27.0   \n",
       "\n",
       "   Manufacturers shipments, 2007 ($1,000)  \\\n",
       "0                              5319456312   \n",
       "1                               112858843   \n",
       "2                                       0   \n",
       "3                                 1410273   \n",
       "4                                       0   \n",
       "\n",
       "   Merchant wholesaler sales, 2007 ($1,000)  Retail sales, 2007 ($1,000)  \\\n",
       "0                                4174286516                   3917663456   \n",
       "1                                  52252752                     57344851   \n",
       "2                                         0                       598175   \n",
       "3                                         0                      2966489   \n",
       "4                                         0                       188337   \n",
       "\n",
       "   Retail sales per capita, 2007  \\\n",
       "0                          12990   \n",
       "1                          12364   \n",
       "2                          12003   \n",
       "3                          17166   \n",
       "4                           6334   \n",
       "\n",
       "   Accommodation and food services sales, 2007 ($1,000)  \\\n",
       "0                                          613795732      \n",
       "1                                            6426342      \n",
       "2                                              88157      \n",
       "3                                             436955      \n",
       "4                                                  0      \n",
       "\n",
       "   Building permits, 2014  Land area in square miles, 2010  \\\n",
       "0                 1046363                       3531905.43   \n",
       "1                   13369                         50645.33   \n",
       "2                     131                           594.44   \n",
       "3                    1384                          1589.78   \n",
       "4                       8                           884.88   \n",
       "\n",
       "   Population per square mile, 2010  \n",
       "0                              87.4  \n",
       "1                              94.4  \n",
       "2                              91.8  \n",
       "3                             114.6  \n",
       "4                              31.0  \n",
       "\n",
       "[5 rows x 54 columns]"
      ]
     },
     "execution_count": 9,
     "metadata": {},
     "output_type": "execute_result"
    }
   ],
   "source": [
    "df_county_data.head()"
   ]
  },
  {
   "cell_type": "markdown",
   "metadata": {},
   "source": [
    "# Build Dataset"
   ]
  },
  {
   "cell_type": "code",
   "execution_count": 10,
   "metadata": {
    "collapsed": true
   },
   "outputs": [],
   "source": [
    "first = 'data/US-'\n",
    "last = '_2020-04-05.csv'"
   ]
  },
  {
   "cell_type": "code",
   "execution_count": 11,
   "metadata": {},
   "outputs": [
    {
     "data": {
      "text/plain": [
       "'C:\\\\Users\\\\Noah\\\\CovidMobile'"
      ]
     },
     "execution_count": 11,
     "metadata": {},
     "output_type": "execute_result"
    }
   ],
   "source": [
    "os.getcwd()"
   ]
  },
  {
   "cell_type": "code",
   "execution_count": 12,
   "metadata": {
    "scrolled": true
   },
   "outputs": [
    {
     "name": "stdout",
     "output_type": "stream",
     "text": [
      "data/US-Alabama_2020-04-05.csv\n",
      "data/US-Alaska_2020-04-05.csv\n",
      "data/US-Arizona_2020-04-05.csv\n",
      "data/US-Arkansas_2020-04-05.csv\n",
      "data/US-California_2020-04-05.csv\n",
      "data/US-Connecticut_2020-04-05.csv\n",
      "data/US-Delaware_2020-04-05.csv\n",
      "data/US-District_of_Columbia_2020-04-05.csv\n",
      "data/US-Florida_2020-04-05.csv\n",
      "data/US-Georgia_2020-04-05.csv\n",
      "data/US-Hawaii_2020-04-05.csv\n",
      "data/US-Idaho_2020-04-05.csv\n",
      "data/US-Illinois_2020-04-05.csv\n",
      "data/US-Indiana_2020-04-05.csv\n",
      "data/US-Iowa_2020-04-05.csv\n",
      "data/US-Kansas_2020-04-05.csv\n",
      "data/US-Kentucky_2020-04-05.csv\n",
      "data/US-Louisiana_2020-04-05.csv\n",
      "data/US-Maine_2020-04-05.csv\n",
      "data/US-Maryland_2020-04-05.csv\n",
      "data/US-Massachusetts_2020-04-05.csv\n",
      "data/US-Minnesota_2020-04-05.csv\n",
      "data/US-Mississippi_2020-04-05.csv\n",
      "data/US-Missouri_2020-04-05.csv\n",
      "data/US-Montana_2020-04-05.csv\n",
      "data/US-Nebraska_2020-04-05.csv\n",
      "data/US-Nevada_2020-04-05.csv\n",
      "data/US-New_York_2020-04-05.csv\n",
      "data/US-Ohio_2020-04-05.csv\n",
      "data/US-Oklahoma_2020-04-05.csv\n",
      "data/US-Oregon_2020-04-05.csv\n",
      "data/US-Pennsylvania_2020-04-05.csv\n",
      "data/US-Tennessee_2020-04-05.csv\n",
      "data/US-Texas_2020-04-05.csv\n",
      "data/US-Utah_2020-04-05.csv\n",
      "data/US-Vermont_2020-04-05.csv\n",
      "data/US-Virginia_2020-04-05.csv\n",
      "data/US-Washington_2020-04-05.csv\n",
      "data/US-Wisconsin_2020-04-05.csv\n",
      "data/US-Wyoming_2020-04-05.csv\n"
     ]
    }
   ],
   "source": [
    "full = pd.DataFrame()\n",
    "for x in us_state_abbrev.keys():\n",
    "    file = x.replace(' ','_')\n",
    "    \n",
    "    file = first+file+last\n",
    "    try:\n",
    "        current = pd.read_csv(file)\n",
    "        current.drop(columns=['page_num','plot_num'],inplace=True)\n",
    "        current.replace({'Transit stations':'transit',\n",
    "                         'Residential':'homes',\n",
    "                         'Grocery & pharmacy':'food_drugs',\n",
    "                        'Retail & recreation':'shop',\n",
    "                        'Workplace':'work',\n",
    "                        'Workplaces':'work',\n",
    "                        'Parks':'park'},inplace=True)\n",
    "        \n",
    "        data = pd.pivot_table(current,index=['country','region','date'],columns='plot_name',values=['asterisk','headline','value'])\n",
    "        data.columns = list(map(\"_\".join, data.columns))\n",
    "        data = data.reset_index()\n",
    "        data['source'] = 'google'\n",
    "        data.reset_index().head()\n",
    "        full = full.append(data)\n",
    "        print(file)\n",
    "    except:\n",
    "        pass"
   ]
  },
  {
   "cell_type": "code",
   "execution_count": 13,
   "metadata": {},
   "outputs": [
    {
     "data": {
      "text/plain": [
       "Washington County    1161\n",
       "Jefferson County      946\n",
       "Franklin County       903\n",
       "Jackson County        774\n",
       "Madison County        774\n",
       "                     ... \n",
       "Isanti County          43\n",
       "Madison Parish         43\n",
       "Uinta County           43\n",
       "Bracken County         43\n",
       "Ontario County         43\n",
       "Name: region, Length: 1502, dtype: int64"
      ]
     },
     "execution_count": 13,
     "metadata": {},
     "output_type": "execute_result"
    }
   ],
   "source": [
    "full.region.value_counts()"
   ]
  },
  {
   "cell_type": "code",
   "execution_count": 14,
   "metadata": {
    "collapsed": true,
    "scrolled": true
   },
   "outputs": [],
   "source": [
    "full['State'] = full['country'].apply(replace_acronym)\n",
    "full['Region'] = full['region'].apply(replace_acronym)\n",
    "full['Region'] = np.where(full['Region'].isnull(),full['region'] ,full['Region'] )"
   ]
  },
  {
   "cell_type": "code",
   "execution_count": 15,
   "metadata": {},
   "outputs": [
    {
     "data": {
      "text/plain": [
       "Washington County    1161\n",
       "Jefferson County      946\n",
       "Franklin County       903\n",
       "Jackson County        774\n",
       "Madison County        774\n",
       "                     ... \n",
       "Madison Parish         43\n",
       "Uinta County           43\n",
       "Bracken County         43\n",
       "Loudoun County         43\n",
       "Ontario County         43\n",
       "Name: Region, Length: 1502, dtype: int64"
      ]
     },
     "execution_count": 15,
     "metadata": {},
     "output_type": "execute_result"
    }
   ],
   "source": [
    "full.Region.value_counts()"
   ]
  },
  {
   "cell_type": "code",
   "execution_count": 16,
   "metadata": {
    "collapsed": true
   },
   "outputs": [],
   "source": [
    "df_county_names['Region'] = np.where(df_county_names['State'].isnull(),np.nan,df_county_names['County'])\n",
    "df_county_names['State'] = df_county_names['State'].fillna(method='backfill')\n",
    "df_county_names['Region'] = np.where(df_county_names['Region'].isnull(),df_county_names['State'],df_county_names['Region'])\n",
    "df_county_names.head()\n",
    "df_county_names.drop([0],inplace=True)"
   ]
  },
  {
   "cell_type": "code",
   "execution_count": 17,
   "metadata": {
    "collapsed": true
   },
   "outputs": [],
   "source": [
    "df_county_data.rename(columns={' FIPS State and County code':'FIPS'},inplace=True)\n",
    "df_county_data['FIPS'] = df_county_data['FIPS'].astype(float)\n",
    "full_tog = full.merge(df_county_names[['FIPS','State','Region']],on=['State','Region'],how='left')\n",
    "full_tog['FIPS'] = full_tog['FIPS'].astype(float)\n",
    "full_tog = full_tog.merge(df_county_data,on=['FIPS'],how='left',indicator=True)"
   ]
  },
  {
   "cell_type": "code",
   "execution_count": 18,
   "metadata": {},
   "outputs": [
    {
     "name": "stdout",
     "output_type": "stream",
     "text": [
      "both          101394\n",
      "left_only       2193\n",
      "right_only         0\n",
      "Name: _merge, dtype: int64\n"
     ]
    }
   ],
   "source": [
    "print(full_tog['_merge'].value_counts())\n",
    "full_tog.drop(columns=['_merge'],inplace=True)"
   ]
  },
  {
   "cell_type": "code",
   "execution_count": 19,
   "metadata": {
    "collapsed": true
   },
   "outputs": [],
   "source": [
    "full_tog.date = pd.to_datetime(full_tog.date,errors='coerce') \n",
    "full_tog['geo']=np.where(full_tog['country']==full_tog['region'],'state','county')"
   ]
  },
  {
   "cell_type": "markdown",
   "metadata": {},
   "source": [
    "# Covid Data (source: NYT)"
   ]
  },
  {
   "cell_type": "code",
   "execution_count": 20,
   "metadata": {
    "collapsed": true
   },
   "outputs": [],
   "source": [
    "covid_county = pd.read_csv('data/us-counties.csv_{}'.format(str(datetime.datetime.now().date())),encoding = \"ISO-8859-1\")\n",
    "covid_state = pd.read_csv('data/us-states.csv_{}'.format(str(datetime.datetime.now().date())),encoding = \"ISO-8859-1\")"
   ]
  },
  {
   "cell_type": "code",
   "execution_count": 21,
   "metadata": {},
   "outputs": [
    {
     "name": "stdout",
     "output_type": "stream",
     "text": [
      "(67204, 6)\n"
     ]
    },
    {
     "data": {
      "text/plain": [
       "(65922, 6)"
      ]
     },
     "execution_count": 21,
     "metadata": {},
     "output_type": "execute_result"
    }
   ],
   "source": [
    "covid_state['state'] = covid_state['state'].apply(replace_acronym)\n",
    "covid_state['county'] = covid_state['state'].copy()\n",
    "covid_state['fips'] = covid_state['fips'] *1000.0\n",
    "covid_county['state'] = covid_county['state'].apply(replace_acronym)\n",
    "covid = pd.concat([covid_state,covid_county],axis=0)\n",
    "covid.date = pd.to_datetime(covid.date,errors='coerce')\n",
    "covid.rename(columns={'fips':'FIPS'},inplace=True)\n",
    "covid['FIPS'] = covid['FIPS'].astype(float)\n",
    "covid.groupby(['FIPS']).first()\n",
    "print(covid.shape)\n",
    "covid.dropna(subset=['FIPS'],inplace=True)\n",
    "covid[covid['date']>=pd.to_datetime('2020-02-23')].shape"
   ]
  },
  {
   "cell_type": "code",
   "execution_count": 22,
   "metadata": {},
   "outputs": [
    {
     "data": {
      "text/html": [
       "<div>\n",
       "<style scoped>\n",
       "    .dataframe tbody tr th:only-of-type {\n",
       "        vertical-align: middle;\n",
       "    }\n",
       "\n",
       "    .dataframe tbody tr th {\n",
       "        vertical-align: top;\n",
       "    }\n",
       "\n",
       "    .dataframe thead th {\n",
       "        text-align: right;\n",
       "    }\n",
       "</style>\n",
       "<table border=\"1\" class=\"dataframe\">\n",
       "  <thead>\n",
       "    <tr style=\"text-align: right;\">\n",
       "      <th></th>\n",
       "      <th>country</th>\n",
       "      <th>region</th>\n",
       "      <th>date</th>\n",
       "      <th>asterisk_food_drugs</th>\n",
       "      <th>asterisk_homes</th>\n",
       "      <th>asterisk_park</th>\n",
       "      <th>asterisk_shop</th>\n",
       "      <th>asterisk_transit</th>\n",
       "      <th>asterisk_work</th>\n",
       "      <th>value_food_drugs</th>\n",
       "      <th>...</th>\n",
       "      <th>Women-owned firms, percent, 2007</th>\n",
       "      <th>Manufacturers shipments, 2007 ($1,000)</th>\n",
       "      <th>Merchant wholesaler sales, 2007 ($1,000)</th>\n",
       "      <th>Retail sales, 2007 ($1,000)</th>\n",
       "      <th>Retail sales per capita, 2007</th>\n",
       "      <th>Accommodation and food services sales, 2007 ($1,000)</th>\n",
       "      <th>Building permits, 2014</th>\n",
       "      <th>Land area in square miles, 2010</th>\n",
       "      <th>Population per square mile, 2010</th>\n",
       "      <th>geo</th>\n",
       "    </tr>\n",
       "  </thead>\n",
       "  <tbody>\n",
       "    <tr>\n",
       "      <th>0</th>\n",
       "      <td>Alabama</td>\n",
       "      <td>Alabama</td>\n",
       "      <td>2020-02-23</td>\n",
       "      <td>False</td>\n",
       "      <td>False</td>\n",
       "      <td>False</td>\n",
       "      <td>False</td>\n",
       "      <td>False</td>\n",
       "      <td>False</td>\n",
       "      <td>2.099</td>\n",
       "      <td>...</td>\n",
       "      <td>28.1</td>\n",
       "      <td>112858843.0</td>\n",
       "      <td>52252752.0</td>\n",
       "      <td>57344851.0</td>\n",
       "      <td>12364.0</td>\n",
       "      <td>6426342.0</td>\n",
       "      <td>13369.0</td>\n",
       "      <td>50645.33</td>\n",
       "      <td>94.4</td>\n",
       "      <td>state</td>\n",
       "    </tr>\n",
       "    <tr>\n",
       "      <th>1</th>\n",
       "      <td>Alabama</td>\n",
       "      <td>Alabama</td>\n",
       "      <td>2020-02-24</td>\n",
       "      <td>False</td>\n",
       "      <td>False</td>\n",
       "      <td>False</td>\n",
       "      <td>False</td>\n",
       "      <td>False</td>\n",
       "      <td>False</td>\n",
       "      <td>-2.676</td>\n",
       "      <td>...</td>\n",
       "      <td>28.1</td>\n",
       "      <td>112858843.0</td>\n",
       "      <td>52252752.0</td>\n",
       "      <td>57344851.0</td>\n",
       "      <td>12364.0</td>\n",
       "      <td>6426342.0</td>\n",
       "      <td>13369.0</td>\n",
       "      <td>50645.33</td>\n",
       "      <td>94.4</td>\n",
       "      <td>state</td>\n",
       "    </tr>\n",
       "    <tr>\n",
       "      <th>2</th>\n",
       "      <td>Alabama</td>\n",
       "      <td>Alabama</td>\n",
       "      <td>2020-02-25</td>\n",
       "      <td>False</td>\n",
       "      <td>False</td>\n",
       "      <td>False</td>\n",
       "      <td>False</td>\n",
       "      <td>False</td>\n",
       "      <td>False</td>\n",
       "      <td>2.794</td>\n",
       "      <td>...</td>\n",
       "      <td>28.1</td>\n",
       "      <td>112858843.0</td>\n",
       "      <td>52252752.0</td>\n",
       "      <td>57344851.0</td>\n",
       "      <td>12364.0</td>\n",
       "      <td>6426342.0</td>\n",
       "      <td>13369.0</td>\n",
       "      <td>50645.33</td>\n",
       "      <td>94.4</td>\n",
       "      <td>state</td>\n",
       "    </tr>\n",
       "    <tr>\n",
       "      <th>3</th>\n",
       "      <td>Alabama</td>\n",
       "      <td>Alabama</td>\n",
       "      <td>2020-02-26</td>\n",
       "      <td>False</td>\n",
       "      <td>False</td>\n",
       "      <td>False</td>\n",
       "      <td>False</td>\n",
       "      <td>False</td>\n",
       "      <td>False</td>\n",
       "      <td>4.907</td>\n",
       "      <td>...</td>\n",
       "      <td>28.1</td>\n",
       "      <td>112858843.0</td>\n",
       "      <td>52252752.0</td>\n",
       "      <td>57344851.0</td>\n",
       "      <td>12364.0</td>\n",
       "      <td>6426342.0</td>\n",
       "      <td>13369.0</td>\n",
       "      <td>50645.33</td>\n",
       "      <td>94.4</td>\n",
       "      <td>state</td>\n",
       "    </tr>\n",
       "    <tr>\n",
       "      <th>4</th>\n",
       "      <td>Alabama</td>\n",
       "      <td>Alabama</td>\n",
       "      <td>2020-02-27</td>\n",
       "      <td>False</td>\n",
       "      <td>False</td>\n",
       "      <td>False</td>\n",
       "      <td>False</td>\n",
       "      <td>False</td>\n",
       "      <td>False</td>\n",
       "      <td>5.662</td>\n",
       "      <td>...</td>\n",
       "      <td>28.1</td>\n",
       "      <td>112858843.0</td>\n",
       "      <td>52252752.0</td>\n",
       "      <td>57344851.0</td>\n",
       "      <td>12364.0</td>\n",
       "      <td>6426342.0</td>\n",
       "      <td>13369.0</td>\n",
       "      <td>50645.33</td>\n",
       "      <td>94.4</td>\n",
       "      <td>state</td>\n",
       "    </tr>\n",
       "  </tbody>\n",
       "</table>\n",
       "<p>5 rows × 73 columns</p>\n",
       "</div>"
      ],
      "text/plain": [
       "   country   region       date  asterisk_food_drugs  asterisk_homes  \\\n",
       "0  Alabama  Alabama 2020-02-23                False           False   \n",
       "1  Alabama  Alabama 2020-02-24                False           False   \n",
       "2  Alabama  Alabama 2020-02-25                False           False   \n",
       "3  Alabama  Alabama 2020-02-26                False           False   \n",
       "4  Alabama  Alabama 2020-02-27                False           False   \n",
       "\n",
       "   asterisk_park  asterisk_shop  asterisk_transit  asterisk_work  \\\n",
       "0          False          False             False          False   \n",
       "1          False          False             False          False   \n",
       "2          False          False             False          False   \n",
       "3          False          False             False          False   \n",
       "4          False          False             False          False   \n",
       "\n",
       "   value_food_drugs  ...  Women-owned firms, percent, 2007  \\\n",
       "0             2.099  ...                              28.1   \n",
       "1            -2.676  ...                              28.1   \n",
       "2             2.794  ...                              28.1   \n",
       "3             4.907  ...                              28.1   \n",
       "4             5.662  ...                              28.1   \n",
       "\n",
       "   Manufacturers shipments, 2007 ($1,000)  \\\n",
       "0                             112858843.0   \n",
       "1                             112858843.0   \n",
       "2                             112858843.0   \n",
       "3                             112858843.0   \n",
       "4                             112858843.0   \n",
       "\n",
       "   Merchant wholesaler sales, 2007 ($1,000)  Retail sales, 2007 ($1,000)  \\\n",
       "0                                52252752.0                   57344851.0   \n",
       "1                                52252752.0                   57344851.0   \n",
       "2                                52252752.0                   57344851.0   \n",
       "3                                52252752.0                   57344851.0   \n",
       "4                                52252752.0                   57344851.0   \n",
       "\n",
       "   Retail sales per capita, 2007  \\\n",
       "0                        12364.0   \n",
       "1                        12364.0   \n",
       "2                        12364.0   \n",
       "3                        12364.0   \n",
       "4                        12364.0   \n",
       "\n",
       "  Accommodation and food services sales, 2007 ($1,000) Building permits, 2014  \\\n",
       "0                                          6426342.0                  13369.0   \n",
       "1                                          6426342.0                  13369.0   \n",
       "2                                          6426342.0                  13369.0   \n",
       "3                                          6426342.0                  13369.0   \n",
       "4                                          6426342.0                  13369.0   \n",
       "\n",
       "  Land area in square miles, 2010  Population per square mile, 2010    geo  \n",
       "0                        50645.33                              94.4  state  \n",
       "1                        50645.33                              94.4  state  \n",
       "2                        50645.33                              94.4  state  \n",
       "3                        50645.33                              94.4  state  \n",
       "4                        50645.33                              94.4  state  \n",
       "\n",
       "[5 rows x 73 columns]"
      ]
     },
     "execution_count": 22,
     "metadata": {},
     "output_type": "execute_result"
    }
   ],
   "source": [
    "full_tog.head()"
   ]
  },
  {
   "cell_type": "code",
   "execution_count": 23,
   "metadata": {},
   "outputs": [
    {
     "data": {
      "text/plain": [
       "(103587, 73)"
      ]
     },
     "execution_count": 23,
     "metadata": {},
     "output_type": "execute_result"
    }
   ],
   "source": [
    "full_tog.shape"
   ]
  },
  {
   "cell_type": "code",
   "execution_count": 33,
   "metadata": {
    "collapsed": true
   },
   "outputs": [],
   "source": [
    "full_data = full_tog.merge(covid,on=['date','FIPS'],how='left',indicator=True)"
   ]
  },
  {
   "cell_type": "code",
   "execution_count": 34,
   "metadata": {},
   "outputs": [
    {
     "name": "stdout",
     "output_type": "stream",
     "text": [
      "(103587, 78)\n",
      "left_only     74346\n",
      "both          29241\n",
      "right_only        0\n",
      "Name: _merge, dtype: int64\n"
     ]
    }
   ],
   "source": [
    "print(full_data.shape)\n",
    "print(full_data['_merge'].value_counts())\n"
   ]
  },
  {
   "cell_type": "code",
   "execution_count": 35,
   "metadata": {
    "scrolled": false
   },
   "outputs": [
    {
     "name": "stderr",
     "output_type": "stream",
     "text": [
      "C:\\Users\\Noah\\Anaconda3\\lib\\site-packages\\ipykernel_launcher.py:1: FutureWarning: Indexing with multiple keys (implicitly converted to a tuple of keys) will be deprecated, use a list instead.\n",
      "  \"\"\"Entry point for launching an IPython kernel.\n"
     ]
    },
    {
     "data": {
      "text/plain": [
       "<matplotlib.axes._subplots.AxesSubplot at 0x22f81e67c50>"
      ]
     },
     "execution_count": 35,
     "metadata": {},
     "output_type": "execute_result"
    },
    {
     "data": {
      "image/png": "[encoded data removed]",
      "text/plain": [
       "<Figure size 1080x576 with 2 Axes>"
      ]
     },
     "metadata": {},
     "output_type": "display_data"
    }
   ],
   "source": [
    "plt_data = full_data.groupby(['geo','date'])['cases','deaths'].sum().reset_index()\n",
    "f, ax = plt.subplots(1,2,sharex=True,figsize=(15,8))\n",
    "sns.lineplot(x='date',y='cases',hue='geo',data=plt_data,ax=ax[0])\n",
    "sns.lineplot(x='date',y='deaths',hue='geo',data=plt_data,ax=ax[1])\n"
   ]
  },
  {
   "cell_type": "markdown",
   "metadata": {},
   "source": [
    "# Lag mobility data"
   ]
  },
  {
   "cell_type": "code",
   "execution_count": 36,
   "metadata": {
    "collapsed": true
   },
   "outputs": [],
   "source": [
    "full_data.to_csv('data/compiled_{}'.format(str(datetime.datetime.now().date())),index=False)"
   ]
  },
  {
   "cell_type": "code",
   "execution_count": 37,
   "metadata": {
    "scrolled": true
   },
   "outputs": [
    {
     "data": {
      "text/plain": [
       "array(['country', 'region', 'date', 'asterisk_food_drugs',\n",
       "       'asterisk_homes', 'asterisk_park', 'asterisk_shop',\n",
       "       'asterisk_transit', 'asterisk_work', 'value_food_drugs',\n",
       "       'value_homes', 'value_park', 'value_shop', 'value_transit',\n",
       "       'value_work', 'source', 'State', 'Region', 'FIPS',\n",
       "       'Population, 2014 estimate', 'Population, 2013 estimate',\n",
       "       'Population, 2010 (April 1) estimates base',\n",
       "       'Population, percent change - April 1, 2010 to July 1, 2014',\n",
       "       'Population, percent change - April 1, 2010 to July 1, 2013',\n",
       "       'Population, 2010', 'Persons under 5 years, percent, 2013',\n",
       "       'Persons under 18 years, percent, 2013',\n",
       "       'Persons 65 years and over, percent, 2013',\n",
       "       'Female persons, percent, 2013', 'White alone, percent, 2013',\n",
       "       'Black or African American alone, percent, 2013',\n",
       "       'American Indian and Alaska Native alone, percent, 2013',\n",
       "       'Asian alone, percent, 2013',\n",
       "       'Native Hawaiian and Other Pacific Islander alone, percent, 2013',\n",
       "       'Two or More Races, percent, 2013',\n",
       "       'Hispanic or Latino, percent, 2013',\n",
       "       'White alone, not Hispanic or Latino, percent, 2013',\n",
       "       'Living in same house 1 year & over, percent, 2009-2013',\n",
       "       'Foreign born persons, percent, 2009-2013',\n",
       "       'Language other than English spoken at home, pct age 5+, 2009-2013',\n",
       "       'High school graduate or higher, percent of persons age 25+, 2009-2013',\n",
       "       \"Bachelor's degree or higher, percent of persons age 25+, 2009-2013\",\n",
       "       'Veterans, 2009-2013',\n",
       "       'Mean travel time to work (minutes), workers age 16+, 2009-2013',\n",
       "       'Housing units, 2014', 'Homeownership rate, 2009-2013',\n",
       "       'Housing units in multi-unit structures, percent, 2009-2013',\n",
       "       'Median value of owner-occupied housing units, 2009-2013',\n",
       "       'Households, 2009-2013', 'Persons per household, 2009-2013',\n",
       "       'Per capita money income in past 12 months (2013 dollars), 2009-2013',\n",
       "       'Median household income, 2009-2013',\n",
       "       'Persons below poverty level, percent, 2009-2013',\n",
       "       'Private nonfarm establishments, 2013',\n",
       "       'Private nonfarm employment,',\n",
       "       'Private nonfarm employment, percent change, 2012-2013',\n",
       "       'Nonemployer establishments, 2013', 'Total number of firms, 2007',\n",
       "       'Black-owned firms, percent, 2007',\n",
       "       'American Indian- and Alaska Native-owned firms, percent, 2007',\n",
       "       'Asian-owned firms, percent, 2007',\n",
       "       'Native Hawaiian- and Other Pacific Islander-owned firms, percent, 2007',\n",
       "       'Hispanic-owned firms, percent, 2007',\n",
       "       'Women-owned firms, percent, 2007',\n",
       "       'Manufacturers shipments, 2007 ($1,000)',\n",
       "       'Merchant wholesaler sales, 2007 ($1,000)',\n",
       "       'Retail sales, 2007 ($1,000)', 'Retail sales per capita, 2007',\n",
       "       'Accommodation and food services sales, 2007 ($1,000)',\n",
       "       'Building permits, 2014', 'Land area in square miles, 2010',\n",
       "       'Population per square mile, 2010', 'geo', 'state', 'cases',\n",
       "       'deaths', 'county', '_merge'], dtype=object)"
      ]
     },
     "execution_count": 37,
     "metadata": {},
     "output_type": "execute_result"
    }
   ],
   "source": [
    "full_data.columns.values"
   ]
  },
  {
   "cell_type": "code",
   "execution_count": null,
   "metadata": {
    "collapsed": true
   },
   "outputs": [],
   "source": []
  }
 ],
 "metadata": {
  "kernelspec": {
   "display_name": "Python 3",
   "language": "python",
   "name": "python3"
  },
  "language_info": {
   "codemirror_mode": {
    "name": "ipython",
    "version": 3
   },
   "file_extension": ".py",
   "mimetype": "text/x-python",
   "name": "python",
   "nbconvert_exporter": "python",
   "pygments_lexer": "ipython3",
   "version": "3.6.3"
  }
 },
 "nbformat": 4,
 "nbformat_minor": 2
}
