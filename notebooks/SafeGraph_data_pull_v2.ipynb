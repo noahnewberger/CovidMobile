{
 "cells": [
  {
   "cell_type": "markdown",
   "metadata": {},
   "source": [
    "## Grab SafeGraph Social Distancing/Mobility data from AWS "
   ]
  },
  {
   "cell_type": "code",
   "execution_count": 1,
   "metadata": {},
   "outputs": [],
   "source": [
    "from bs4 import BeautifulSoup as bs\n",
    "from bs4 import Tag, NavigableString\n",
    "import re\n",
    "import requests as r\n",
    "import pandas as pd\n",
    "import numpy as np\n",
    "from datetime import datetime\n",
    "import csv\n",
    "import os\n",
    "import sys\n",
    "from state_cleaner import *\n",
    "from selenium import webdriver\n",
    "import matplotlib.pyplot as plt\n",
    "import math\n",
    "import statistics\n",
    "%load_ext autoreload\n",
    "%autoreload 2\n",
    "%matplotlib inline"
   ]
  },
  {
   "cell_type": "code",
   "execution_count": 2,
   "metadata": {},
   "outputs": [
    {
     "data": {
      "text/plain": [
       "'C:\\\\Users\\\\Noah\\\\CovidMobile'"
      ]
     },
     "execution_count": 2,
     "metadata": {},
     "output_type": "execute_result"
    }
   ],
   "source": [
    "os.chdir('../..')\n",
    "os.chdir('CovidMobile')\n",
    "os.getcwd()"
   ]
  },
  {
   "cell_type": "code",
   "execution_count": 3,
   "metadata": {
    "collapsed": true
   },
   "outputs": [],
   "source": [
    "#Configure the aws profile **check the slack for new access keys weekly!\n",
    "#! aws configure --profile safegraph"
   ]
  },
  {
   "cell_type": "code",
   "execution_count": 4,
   "metadata": {
    "collapsed": true
   },
   "outputs": [],
   "source": [
    "#Downloads all current available data social distancing data: *takes a while to run\n",
    "#! aws s3 sync s3://sg-c19-response/social-distancing/v2/ ./SafeGraph_data --profile safegraph\n",
    "# aws s3 sync s3://sg-c19-response/social-distancing/v2/ ./SafeGraph_data --profile safegraph --exclude \"*\" --include \"*2020-05-*\""
   ]
  },
  {
   "cell_type": "code",
   "execution_count": 5,
   "metadata": {},
   "outputs": [
    {
     "name": "stderr",
     "output_type": "stream",
     "text": [
      "C:\\Users\\Noah\\Anaconda3\\lib\\site-packages\\IPython\\core\\interactiveshell.py:2698: DtypeWarning: Columns (3) have mixed types.Specify dtype option on import or set low_memory=False.\n",
      "  interactivity=interactivity, compiler=compiler, result=result)\n"
     ]
    }
   ],
   "source": [
    "full_df = pd.read_csv('data/Global_Mobility_Report.csv')"
   ]
  },
  {
   "cell_type": "code",
   "execution_count": 6,
   "metadata": {},
   "outputs": [
    {
     "name": "stdout",
     "output_type": "stream",
     "text": [
      "2020-02-15 2020-05-21\n"
     ]
    }
   ],
   "source": [
    "print(full_df['date'].min(), full_df['date'].max())"
   ]
  },
  {
   "cell_type": "code",
   "execution_count": 7,
   "metadata": {
    "collapsed": true
   },
   "outputs": [],
   "source": [
    "#Create list of dates to loop through\n",
    "dates_obj = list(pd.date_range(start=full_df['date'].min(),end='2020-05-25'))\n",
    "dates_slashes = [x.strftime(\"%Y/%m/%d\") for x in dates_obj]\n",
    "dates_dashes = [x.strftime(\"%Y-%m-%d\") for x in dates_obj]"
   ]
  },
  {
   "cell_type": "code",
   "execution_count": 8,
   "metadata": {
    "collapsed": true
   },
   "outputs": [],
   "source": [
    "sdm_df = pd.DataFrame()"
   ]
  },
  {
   "cell_type": "code",
   "execution_count": 9,
   "metadata": {
    "scrolled": true
   },
   "outputs": [
    {
     "name": "stdout",
     "output_type": "stream",
     "text": [
      "2020/02/15\n",
      "2020/02/16\n",
      "2020/02/17\n",
      "2020/02/18\n",
      "2020/02/19\n",
      "2020/02/20\n",
      "2020/02/21\n",
      "2020/02/22\n",
      "2020/02/23\n",
      "2020/02/24\n",
      "2020/02/25\n",
      "2020/02/26\n",
      "2020/02/27\n",
      "2020/02/28\n",
      "2020/02/29\n",
      "2020/03/01\n",
      "2020/03/02\n",
      "2020/03/03\n",
      "2020/03/04\n",
      "2020/03/05\n",
      "2020/03/06\n",
      "2020/03/07\n",
      "2020/03/08\n",
      "2020/03/09\n",
      "2020/03/10\n",
      "2020/03/11\n",
      "2020/03/12\n",
      "2020/03/13\n",
      "2020/03/14\n",
      "2020/03/15\n",
      "2020/03/16\n",
      "2020/03/17\n",
      "2020/03/18\n",
      "2020/03/19\n",
      "2020/03/20\n",
      "2020/03/21\n",
      "2020/03/22\n",
      "2020/03/23\n",
      "2020/03/24\n",
      "2020/03/25\n",
      "2020/03/26\n",
      "2020/03/27\n",
      "2020/03/28\n",
      "2020/03/29\n",
      "2020/03/30\n",
      "2020/03/31\n",
      "2020/04/01\n",
      "2020/04/02\n",
      "2020/04/03\n",
      "2020/04/04\n",
      "2020/04/05\n",
      "2020/04/06\n",
      "2020/04/07\n",
      "2020/04/08\n",
      "2020/04/09\n",
      "2020/04/10\n",
      "2020/04/11\n",
      "2020/04/12\n",
      "2020/04/13\n",
      "2020/04/14\n",
      "2020/04/15\n",
      "2020/04/16\n",
      "2020/04/17\n",
      "2020/04/18\n",
      "2020/04/19\n",
      "2020/04/20\n",
      "2020/04/21\n",
      "2020/04/22\n",
      "2020/04/23\n",
      "2020/04/24\n",
      "2020/04/25\n",
      "2020/04/26\n",
      "2020/04/27\n",
      "2020/04/28\n",
      "2020/04/29\n",
      "2020/04/30\n",
      "2020/05/01\n",
      "2020/05/02\n",
      "2020/05/03\n",
      "2020/05/04\n",
      "2020/05/05\n",
      "2020/05/06\n",
      "2020/05/07\n",
      "2020/05/08\n",
      "2020/05/09\n",
      "2020/05/10\n",
      "2020/05/11\n",
      "2020/05/12\n",
      "2020/05/13\n",
      "2020/05/14\n",
      "2020/05/15\n",
      "2020/05/16\n",
      "2020/05/17\n",
      "2020/05/18\n",
      "2020/05/19\n",
      "2020/05/20\n",
      "2020/05/21\n",
      "2020/05/22\n",
      "2020/05/23\n",
      "2020/05/24\n",
      "2020/05/25\n"
     ]
    }
   ],
   "source": [
    "#Read in all of the csvs for each date:\n",
    "for date1, date2 in zip(dates_slashes, dates_dashes):\n",
    "    df = pd.read_csv(\"SafeGraph_data/{}/{}-social-distancing.csv.gz\".format(date1,date2),converters={'origin_census_block_group': str})\n",
    "    df = df[[\"origin_census_block_group\", \"date_range_start\", \"date_range_end\", \n",
    "                                 \"device_count\", \"completely_home_device_count\", \"part_time_work_behavior_devices\", \n",
    "                                 \"full_time_work_behavior_devices\"]]\n",
    "    df['FIPS'] = df.origin_census_block_group.str.slice(start=0, stop=5) # county is the first 5 digits of the CBG\n",
    "    df['date'] = df.date_range_start.str.slice(start=0, stop=10)\n",
    "    \n",
    "    sdm_columns = ['device_count', 'completely_home_device_count','part_time_work_behavior_devices', 'full_time_work_behavior_devices']\n",
    "    df_by_county = df.groupby(['FIPS', 'date'])[sdm_columns].sum().reset_index()\n",
    "    \n",
    "    sdm_df = sdm_df.append(df_by_county)\n",
    "    print(date1)"
   ]
  },
  {
   "cell_type": "code",
   "execution_count": 12,
   "metadata": {
    "collapsed": true
   },
   "outputs": [],
   "source": [
    "# convert numerical columns\n",
    "sdm_df= sdm_df.astype({'device_count':'int','completely_home_device_count':'int'})"
   ]
  },
  {
   "cell_type": "code",
   "execution_count": 13,
   "metadata": {},
   "outputs": [
    {
     "data": {
      "text/html": [
       "<div>\n",
       "<style scoped>\n",
       "    .dataframe tbody tr th:only-of-type {\n",
       "        vertical-align: middle;\n",
       "    }\n",
       "\n",
       "    .dataframe tbody tr th {\n",
       "        vertical-align: top;\n",
       "    }\n",
       "\n",
       "    .dataframe thead th {\n",
       "        text-align: right;\n",
       "    }\n",
       "</style>\n",
       "<table border=\"1\" class=\"dataframe\">\n",
       "  <thead>\n",
       "    <tr style=\"text-align: right;\">\n",
       "      <th></th>\n",
       "      <th>FIPS</th>\n",
       "      <th>date</th>\n",
       "      <th>device_count</th>\n",
       "      <th>completely_home_device_count</th>\n",
       "      <th>part_time_work_behavior_devices</th>\n",
       "      <th>full_time_work_behavior_devices</th>\n",
       "      <th>leaving_home</th>\n",
       "      <th>pct_leaving_home</th>\n",
       "      <th>pct_social_distancing</th>\n",
       "    </tr>\n",
       "  </thead>\n",
       "  <tbody>\n",
       "    <tr>\n",
       "      <th>0</th>\n",
       "      <td>01001</td>\n",
       "      <td>2020-02-15</td>\n",
       "      <td>5708</td>\n",
       "      <td>1152</td>\n",
       "      <td>622</td>\n",
       "      <td>180</td>\n",
       "      <td>4556</td>\n",
       "      <td>0.798178</td>\n",
       "      <td>0.234815</td>\n",
       "    </tr>\n",
       "    <tr>\n",
       "      <th>1</th>\n",
       "      <td>01003</td>\n",
       "      <td>2020-02-15</td>\n",
       "      <td>23843</td>\n",
       "      <td>5359</td>\n",
       "      <td>2408</td>\n",
       "      <td>806</td>\n",
       "      <td>18484</td>\n",
       "      <td>0.775238</td>\n",
       "      <td>0.259780</td>\n",
       "    </tr>\n",
       "    <tr>\n",
       "      <th>2</th>\n",
       "      <td>01005</td>\n",
       "      <td>2020-02-15</td>\n",
       "      <td>1761</td>\n",
       "      <td>415</td>\n",
       "      <td>194</td>\n",
       "      <td>68</td>\n",
       "      <td>1346</td>\n",
       "      <td>0.764338</td>\n",
       "      <td>0.276851</td>\n",
       "    </tr>\n",
       "    <tr>\n",
       "      <th>3</th>\n",
       "      <td>01007</td>\n",
       "      <td>2020-02-15</td>\n",
       "      <td>2156</td>\n",
       "      <td>450</td>\n",
       "      <td>235</td>\n",
       "      <td>55</td>\n",
       "      <td>1706</td>\n",
       "      <td>0.791280</td>\n",
       "      <td>0.241158</td>\n",
       "    </tr>\n",
       "    <tr>\n",
       "      <th>4</th>\n",
       "      <td>01009</td>\n",
       "      <td>2020-02-15</td>\n",
       "      <td>6555</td>\n",
       "      <td>1242</td>\n",
       "      <td>727</td>\n",
       "      <td>251</td>\n",
       "      <td>5313</td>\n",
       "      <td>0.810526</td>\n",
       "      <td>0.222700</td>\n",
       "    </tr>\n",
       "  </tbody>\n",
       "</table>\n",
       "</div>"
      ],
      "text/plain": [
       "    FIPS        date  device_count  completely_home_device_count  \\\n",
       "0  01001  2020-02-15          5708                          1152   \n",
       "1  01003  2020-02-15         23843                          5359   \n",
       "2  01005  2020-02-15          1761                           415   \n",
       "3  01007  2020-02-15          2156                           450   \n",
       "4  01009  2020-02-15          6555                          1242   \n",
       "\n",
       "   part_time_work_behavior_devices  full_time_work_behavior_devices  \\\n",
       "0                              622                              180   \n",
       "1                             2408                              806   \n",
       "2                              194                               68   \n",
       "3                              235                               55   \n",
       "4                              727                              251   \n",
       "\n",
       "   leaving_home  pct_leaving_home  pct_social_distancing  \n",
       "0          4556          0.798178               0.234815  \n",
       "1         18484          0.775238               0.259780  \n",
       "2          1346          0.764338               0.276851  \n",
       "3          1706          0.791280               0.241158  \n",
       "4          5313          0.810526               0.222700  "
      ]
     },
     "execution_count": 13,
     "metadata": {},
     "output_type": "execute_result"
    }
   ],
   "source": [
    "# compute new metrics\n",
    "sdm_df['leaving_home'] = sdm_df['device_count'] - sdm_df['completely_home_device_count']\n",
    "sdm_df['pct_leaving_home'] = sdm_df['leaving_home'] / sdm_df['device_count'] \n",
    "\n",
    "sdm_df['pct_social_distancing'] = sdm_df['completely_home_device_count']/(sdm_df['device_count']-sdm_df['full_time_work_behavior_devices']-sdm_df['part_time_work_behavior_devices'])\n",
    "  \n",
    "sdm_df.head()"
   ]
  },
  {
   "cell_type": "code",
   "execution_count": 14,
   "metadata": {
    "collapsed": true
   },
   "outputs": [],
   "source": [
    "sdm_df = sdm_df.sort_values(by=['FIPS','date'])\n",
    "sdm_df = sdm_df.astype({'FIPS':'float64'})"
   ]
  },
  {
   "cell_type": "markdown",
   "metadata": {},
   "source": [
    "## Get SafeGraph Census data, using their Google Drive folder"
   ]
  },
  {
   "cell_type": "markdown",
   "metadata": {},
   "source": [
    "Data kept in SafeGraph_data folder in GitHub, it is in .gitignore\n",
    "\n",
    "Information about each csv can be found here: https://www.safegraph.com/blog/beginners-guide-to-census\n",
    "\n"
   ]
  },
  {
   "cell_type": "code",
   "execution_count": 15,
   "metadata": {},
   "outputs": [],
   "source": [
    "counties = pd.read_csv('SafeGraph_data/safegraph_open_census_data/metadata/cbg_fips_codes.csv',\n",
    "               converters={'state_fips': lambda x: str(x),'county_fips': lambda x: str(x) })\n",
    "counties['FIPS'] = counties['state_fips'].astype(str)+counties['county_fips'].astype(str)\n",
    "counties['FIPS'] = counties['FIPS'].astype(float)\n",
    "counties = counties[['FIPS','county','state']]"
   ]
  },
  {
   "cell_type": "code",
   "execution_count": 16,
   "metadata": {},
   "outputs": [
    {
     "data": {
      "text/html": [
       "<div>\n",
       "<style scoped>\n",
       "    .dataframe tbody tr th:only-of-type {\n",
       "        vertical-align: middle;\n",
       "    }\n",
       "\n",
       "    .dataframe tbody tr th {\n",
       "        vertical-align: top;\n",
       "    }\n",
       "\n",
       "    .dataframe thead th {\n",
       "        text-align: right;\n",
       "    }\n",
       "</style>\n",
       "<table border=\"1\" class=\"dataframe\">\n",
       "  <thead>\n",
       "    <tr style=\"text-align: right;\">\n",
       "      <th></th>\n",
       "      <th>FIPS</th>\n",
       "      <th>county</th>\n",
       "      <th>state</th>\n",
       "    </tr>\n",
       "  </thead>\n",
       "  <tbody>\n",
       "    <tr>\n",
       "      <th>0</th>\n",
       "      <td>1001.0</td>\n",
       "      <td>Autauga County</td>\n",
       "      <td>AL</td>\n",
       "    </tr>\n",
       "    <tr>\n",
       "      <th>1</th>\n",
       "      <td>1003.0</td>\n",
       "      <td>Baldwin County</td>\n",
       "      <td>AL</td>\n",
       "    </tr>\n",
       "    <tr>\n",
       "      <th>2</th>\n",
       "      <td>1005.0</td>\n",
       "      <td>Barbour County</td>\n",
       "      <td>AL</td>\n",
       "    </tr>\n",
       "    <tr>\n",
       "      <th>3</th>\n",
       "      <td>1007.0</td>\n",
       "      <td>Bibb County</td>\n",
       "      <td>AL</td>\n",
       "    </tr>\n",
       "    <tr>\n",
       "      <th>4</th>\n",
       "      <td>1009.0</td>\n",
       "      <td>Blount County</td>\n",
       "      <td>AL</td>\n",
       "    </tr>\n",
       "  </tbody>\n",
       "</table>\n",
       "</div>"
      ],
      "text/plain": [
       "     FIPS          county state\n",
       "0  1001.0  Autauga County    AL\n",
       "1  1003.0  Baldwin County    AL\n",
       "2  1005.0  Barbour County    AL\n",
       "3  1007.0     Bibb County    AL\n",
       "4  1009.0   Blount County    AL"
      ]
     },
     "execution_count": 16,
     "metadata": {},
     "output_type": "execute_result"
    }
   ],
   "source": [
    "counties.head()"
   ]
  },
  {
   "cell_type": "markdown",
   "metadata": {},
   "source": [
    "Latitudes and longitudes are simply averaged given that the distance between them is small. To compare this method to another conversion method, see code at the bottom of the notebook."
   ]
  },
  {
   "cell_type": "code",
   "execution_count": 17,
   "metadata": {
    "collapsed": true
   },
   "outputs": [],
   "source": [
    "codes = pd.read_csv('SafeGraph_data/safegraph_open_census_data/metadata/cbg_geographic_data.csv',\n",
    "                   converters={'census_block_group': lambda x: str(x)})\n",
    "codes= codes.astype({'census_block_group':'str'})\n",
    "codes['FIPS'] = codes.census_block_group.str.slice(start=0, stop=5)\n",
    "codes= codes.astype({'FIPS':'str'})\n",
    "\n",
    "codes = (codes.groupby('FIPS', as_index=False)\n",
    "         .agg({'latitude':'mean', 'longitude':'mean','amount_land':'sum'}))\n",
    "codes['amount_land'] = codes['amount_land']/1e6 #convert to square km from square m\n",
    "codes['FIPS'] =  codes['FIPS'].astype(float)"
   ]
  },
  {
   "cell_type": "code",
   "execution_count": 18,
   "metadata": {},
   "outputs": [
    {
     "data": {
      "text/html": [
       "<div>\n",
       "<style scoped>\n",
       "    .dataframe tbody tr th:only-of-type {\n",
       "        vertical-align: middle;\n",
       "    }\n",
       "\n",
       "    .dataframe tbody tr th {\n",
       "        vertical-align: top;\n",
       "    }\n",
       "\n",
       "    .dataframe thead th {\n",
       "        text-align: right;\n",
       "    }\n",
       "</style>\n",
       "<table border=\"1\" class=\"dataframe\">\n",
       "  <thead>\n",
       "    <tr style=\"text-align: right;\">\n",
       "      <th></th>\n",
       "      <th>FIPS</th>\n",
       "      <th>latitude</th>\n",
       "      <th>longitude</th>\n",
       "      <th>amount_land</th>\n",
       "    </tr>\n",
       "  </thead>\n",
       "  <tbody>\n",
       "    <tr>\n",
       "      <th>0</th>\n",
       "      <td>1001.0</td>\n",
       "      <td>32.501547</td>\n",
       "      <td>-86.515629</td>\n",
       "      <td>1539.609015</td>\n",
       "    </tr>\n",
       "    <tr>\n",
       "      <th>1</th>\n",
       "      <td>1003.0</td>\n",
       "      <td>30.552078</td>\n",
       "      <td>-87.754456</td>\n",
       "      <td>4117.584019</td>\n",
       "    </tr>\n",
       "    <tr>\n",
       "      <th>2</th>\n",
       "      <td>1005.0</td>\n",
       "      <td>31.855184</td>\n",
       "      <td>-85.317696</td>\n",
       "      <td>2291.818680</td>\n",
       "    </tr>\n",
       "    <tr>\n",
       "      <th>3</th>\n",
       "      <td>1007.0</td>\n",
       "      <td>33.017042</td>\n",
       "      <td>-87.139093</td>\n",
       "      <td>1612.481559</td>\n",
       "    </tr>\n",
       "    <tr>\n",
       "      <th>4</th>\n",
       "      <td>1009.0</td>\n",
       "      <td>33.973449</td>\n",
       "      <td>-86.574490</td>\n",
       "      <td>1670.041875</td>\n",
       "    </tr>\n",
       "  </tbody>\n",
       "</table>\n",
       "</div>"
      ],
      "text/plain": [
       "     FIPS   latitude  longitude  amount_land\n",
       "0  1001.0  32.501547 -86.515629  1539.609015\n",
       "1  1003.0  30.552078 -87.754456  4117.584019\n",
       "2  1005.0  31.855184 -85.317696  2291.818680\n",
       "3  1007.0  33.017042 -87.139093  1612.481559\n",
       "4  1009.0  33.973449 -86.574490  1670.041875"
      ]
     },
     "execution_count": 18,
     "metadata": {},
     "output_type": "execute_result"
    }
   ],
   "source": [
    "codes.head()"
   ]
  },
  {
   "cell_type": "code",
   "execution_count": 19,
   "metadata": {},
   "outputs": [
    {
     "data": {
      "text/html": [
       "<div>\n",
       "<style scoped>\n",
       "    .dataframe tbody tr th:only-of-type {\n",
       "        vertical-align: middle;\n",
       "    }\n",
       "\n",
       "    .dataframe tbody tr th {\n",
       "        vertical-align: top;\n",
       "    }\n",
       "\n",
       "    .dataframe thead th {\n",
       "        text-align: right;\n",
       "    }\n",
       "</style>\n",
       "<table border=\"1\" class=\"dataframe\">\n",
       "  <thead>\n",
       "    <tr style=\"text-align: right;\">\n",
       "      <th></th>\n",
       "      <th>FIPS</th>\n",
       "      <th>county</th>\n",
       "      <th>state</th>\n",
       "      <th>latitude</th>\n",
       "      <th>longitude</th>\n",
       "      <th>amount_land</th>\n",
       "    </tr>\n",
       "  </thead>\n",
       "  <tbody>\n",
       "    <tr>\n",
       "      <th>0</th>\n",
       "      <td>1001.0</td>\n",
       "      <td>Autauga County</td>\n",
       "      <td>AL</td>\n",
       "      <td>32.501547</td>\n",
       "      <td>-86.515629</td>\n",
       "      <td>1539.609015</td>\n",
       "    </tr>\n",
       "    <tr>\n",
       "      <th>1</th>\n",
       "      <td>1003.0</td>\n",
       "      <td>Baldwin County</td>\n",
       "      <td>AL</td>\n",
       "      <td>30.552078</td>\n",
       "      <td>-87.754456</td>\n",
       "      <td>4117.584019</td>\n",
       "    </tr>\n",
       "    <tr>\n",
       "      <th>2</th>\n",
       "      <td>1005.0</td>\n",
       "      <td>Barbour County</td>\n",
       "      <td>AL</td>\n",
       "      <td>31.855184</td>\n",
       "      <td>-85.317696</td>\n",
       "      <td>2291.818680</td>\n",
       "    </tr>\n",
       "    <tr>\n",
       "      <th>3</th>\n",
       "      <td>1007.0</td>\n",
       "      <td>Bibb County</td>\n",
       "      <td>AL</td>\n",
       "      <td>33.017042</td>\n",
       "      <td>-87.139093</td>\n",
       "      <td>1612.481559</td>\n",
       "    </tr>\n",
       "    <tr>\n",
       "      <th>4</th>\n",
       "      <td>1009.0</td>\n",
       "      <td>Blount County</td>\n",
       "      <td>AL</td>\n",
       "      <td>33.973449</td>\n",
       "      <td>-86.574490</td>\n",
       "      <td>1670.041875</td>\n",
       "    </tr>\n",
       "  </tbody>\n",
       "</table>\n",
       "</div>"
      ],
      "text/plain": [
       "     FIPS          county state   latitude  longitude  amount_land\n",
       "0  1001.0  Autauga County    AL  32.501547 -86.515629  1539.609015\n",
       "1  1003.0  Baldwin County    AL  30.552078 -87.754456  4117.584019\n",
       "2  1005.0  Barbour County    AL  31.855184 -85.317696  2291.818680\n",
       "3  1007.0     Bibb County    AL  33.017042 -87.139093  1612.481559\n",
       "4  1009.0   Blount County    AL  33.973449 -86.574490  1670.041875"
      ]
     },
     "execution_count": 19,
     "metadata": {},
     "output_type": "execute_result"
    }
   ],
   "source": [
    "#this keeps in two counties which don't have state/county names in the dataset\n",
    "counties_and_location = counties.merge(codes, on = 'FIPS',how = 'right') \n",
    "counties_and_location.head()"
   ]
  },
  {
   "cell_type": "code",
   "execution_count": 20,
   "metadata": {},
   "outputs": [
    {
     "data": {
      "text/html": [
       "<div>\n",
       "<style scoped>\n",
       "    .dataframe tbody tr th:only-of-type {\n",
       "        vertical-align: middle;\n",
       "    }\n",
       "\n",
       "    .dataframe tbody tr th {\n",
       "        vertical-align: top;\n",
       "    }\n",
       "\n",
       "    .dataframe thead th {\n",
       "        text-align: right;\n",
       "    }\n",
       "</style>\n",
       "<table border=\"1\" class=\"dataframe\">\n",
       "  <thead>\n",
       "    <tr style=\"text-align: right;\">\n",
       "      <th></th>\n",
       "      <th>FIPS</th>\n",
       "      <th>county</th>\n",
       "      <th>state</th>\n",
       "      <th>latitude</th>\n",
       "      <th>longitude</th>\n",
       "      <th>amount_land</th>\n",
       "    </tr>\n",
       "  </thead>\n",
       "  <tbody>\n",
       "    <tr>\n",
       "      <th>3218</th>\n",
       "      <td>2158.0</td>\n",
       "      <td>NaN</td>\n",
       "      <td>NaN</td>\n",
       "      <td>62.238849</td>\n",
       "      <td>-163.313760</td>\n",
       "      <td>44240.523937</td>\n",
       "    </tr>\n",
       "    <tr>\n",
       "      <th>3219</th>\n",
       "      <td>46102.0</td>\n",
       "      <td>NaN</td>\n",
       "      <td>NaN</td>\n",
       "      <td>43.210922</td>\n",
       "      <td>-102.525551</td>\n",
       "      <td>5422.847813</td>\n",
       "    </tr>\n",
       "  </tbody>\n",
       "</table>\n",
       "</div>"
      ],
      "text/plain": [
       "         FIPS county state   latitude   longitude   amount_land\n",
       "3218   2158.0    NaN   NaN  62.238849 -163.313760  44240.523937\n",
       "3219  46102.0    NaN   NaN  43.210922 -102.525551   5422.847813"
      ]
     },
     "execution_count": 20,
     "metadata": {},
     "output_type": "execute_result"
    }
   ],
   "source": [
    "counties_and_location[counties_and_location['state'].isnull()]"
   ]
  },
  {
   "cell_type": "code",
   "execution_count": 21,
   "metadata": {
    "collapsed": true
   },
   "outputs": [],
   "source": [
    "def read_cbg_file(filename):\n",
    "    ###Reads in specific SafeGraph file name and groups data by county FIP\n",
    "    df = pd.read_csv('SafeGraph_data/safegraph_open_census_data/data/{}'.format(filename),\n",
    "                     converters={'census_block_group': lambda x: str(x)})\n",
    "    df = df.astype({'census_block_group':'str'})\n",
    "    df['FIPS'] = df.census_block_group.str.slice(start=0, stop=5)\n",
    "    df = df.groupby(['FIPS']).sum().reset_index()\n",
    "    \n",
    "    return df"
   ]
  },
  {
   "cell_type": "code",
   "execution_count": 22,
   "metadata": {
    "collapsed": true
   },
   "outputs": [],
   "source": [
    "sg_pop = read_cbg_file('cbg_b01.csv')"
   ]
  },
  {
   "cell_type": "code",
   "execution_count": 23,
   "metadata": {
    "collapsed": true
   },
   "outputs": [],
   "source": [
    "sg_income = read_cbg_file('cbg_b19.csv')"
   ]
  },
  {
   "cell_type": "code",
   "execution_count": 24,
   "metadata": {
    "collapsed": true
   },
   "outputs": [],
   "source": [
    "sg_race = read_cbg_file('cbg_b02.csv')"
   ]
  },
  {
   "cell_type": "code",
   "execution_count": 25,
   "metadata": {
    "collapsed": true
   },
   "outputs": [],
   "source": [
    "sg_emp_status = read_cbg_file('cbg_b23.csv')"
   ]
  },
  {
   "cell_type": "code",
   "execution_count": 26,
   "metadata": {
    "collapsed": true
   },
   "outputs": [],
   "source": [
    "sg_emp_type = read_cbg_file('cbg_c24.csv')"
   ]
  },
  {
   "cell_type": "markdown",
   "metadata": {},
   "source": [
    "Demographics we want to pull and corresponding table id:\n",
    "- Total Population: B01001e1\n",
    "- Median Household Income: B19013e1\n",
    "- Per Capita Income: B19301e1\n",
    "- percent elderly (65+): \n",
    "  - Total population: B01001e1\n",
    "  - Population of males 65+ is the sum of B01001e20, B01001e21, B01001e22, B01001e23, B01001e24, B01001e25\n",
    "  - Population of females 65+ is the sum of B01001e44, B01001e45, B01001e46, B01001e47, B01001e48, B01001e49\n",
    "  - Percent elderly  = (pop of males, females 65+)/total population"
   ]
  },
  {
   "cell_type": "code",
   "execution_count": 27,
   "metadata": {
    "collapsed": true
   },
   "outputs": [],
   "source": [
    "#Create demographics, add population and percent elderly:\n",
    "dgs = sg_pop[['FIPS','B01001e1']]\n",
    "dgs = dgs.rename(columns = {'B01001e1':'population'})\n",
    "dgs['ln_population'] = np.log(dgs['population'])\n",
    "dgs['perc_elderly'] = (sg_pop['B01001e20']+sg_pop['B01001e21']+sg_pop['B01001e22']\n",
    "                           +sg_pop['B01001e23']+sg_pop['B01001e24']+ sg_pop['B01001e25']\n",
    "                           +sg_pop['B01001e44']+sg_pop['B01001e45']+sg_pop['B01001e46']\n",
    "                           +sg_pop['B01001e47']+sg_pop['B01001e48']+sg_pop['B01001e49'])/dgs['population']"
   ]
  },
  {
   "cell_type": "code",
   "execution_count": 28,
   "metadata": {},
   "outputs": [
    {
     "data": {
      "text/html": [
       "<div>\n",
       "<style scoped>\n",
       "    .dataframe tbody tr th:only-of-type {\n",
       "        vertical-align: middle;\n",
       "    }\n",
       "\n",
       "    .dataframe tbody tr th {\n",
       "        vertical-align: top;\n",
       "    }\n",
       "\n",
       "    .dataframe thead th {\n",
       "        text-align: right;\n",
       "    }\n",
       "</style>\n",
       "<table border=\"1\" class=\"dataframe\">\n",
       "  <thead>\n",
       "    <tr style=\"text-align: right;\">\n",
       "      <th></th>\n",
       "      <th>FIPS</th>\n",
       "      <th>population</th>\n",
       "      <th>ln_population</th>\n",
       "      <th>perc_elderly</th>\n",
       "    </tr>\n",
       "  </thead>\n",
       "  <tbody>\n",
       "    <tr>\n",
       "      <th>0</th>\n",
       "      <td>01001</td>\n",
       "      <td>55049</td>\n",
       "      <td>10.915979</td>\n",
       "      <td>0.139785</td>\n",
       "    </tr>\n",
       "    <tr>\n",
       "      <th>1</th>\n",
       "      <td>01003</td>\n",
       "      <td>199510</td>\n",
       "      <td>12.203620</td>\n",
       "      <td>0.187149</td>\n",
       "    </tr>\n",
       "    <tr>\n",
       "      <th>2</th>\n",
       "      <td>01005</td>\n",
       "      <td>26614</td>\n",
       "      <td>10.189193</td>\n",
       "      <td>0.165289</td>\n",
       "    </tr>\n",
       "    <tr>\n",
       "      <th>3</th>\n",
       "      <td>01007</td>\n",
       "      <td>22572</td>\n",
       "      <td>10.024465</td>\n",
       "      <td>0.148857</td>\n",
       "    </tr>\n",
       "    <tr>\n",
       "      <th>4</th>\n",
       "      <td>01009</td>\n",
       "      <td>57704</td>\n",
       "      <td>10.963082</td>\n",
       "      <td>0.171929</td>\n",
       "    </tr>\n",
       "  </tbody>\n",
       "</table>\n",
       "</div>"
      ],
      "text/plain": [
       "    FIPS  population  ln_population  perc_elderly\n",
       "0  01001       55049      10.915979      0.139785\n",
       "1  01003      199510      12.203620      0.187149\n",
       "2  01005       26614      10.189193      0.165289\n",
       "3  01007       22572      10.024465      0.148857\n",
       "4  01009       57704      10.963082      0.171929"
      ]
     },
     "execution_count": 28,
     "metadata": {},
     "output_type": "execute_result"
    }
   ],
   "source": [
    "dgs.head()"
   ]
  },
  {
   "cell_type": "code",
   "execution_count": 29,
   "metadata": {
    "collapsed": true
   },
   "outputs": [],
   "source": [
    "#Income metrics:\n",
    "dgs['med_hh_income'] = sg_income['B19013e1']\n",
    "dgs['per_cap_income'] = sg_income['B19301e1']"
   ]
  },
  {
   "cell_type": "markdown",
   "metadata": {},
   "source": [
    "Race demographics (percentages of each race category): percentage groups less than 1% are moved to 'Other'\n",
    " - Total race population: B02001e1\n",
    " - White: B02001e2\n",
    " - Black or African American: B02001e3\n",
    " - Asian American: B02001e5\n",
    " - Native American or Alaskan Indian: B02001e4\n",
    " - Other =  the remaining percentage "
   ]
  },
  {
   "cell_type": "code",
   "execution_count": 30,
   "metadata": {
    "collapsed": true
   },
   "outputs": [],
   "source": [
    "#Race demographics:\n",
    "dgs['perc_white'] = sg_race['B02001e2']/sg_race['B02001e1']\n",
    "dgs['perc_african_american'] = sg_race['B02001e3']/sg_race['B02001e1']\n",
    "dgs['perc_asian'] = sg_race['B02001e5']/sg_race['B02001e1']\n",
    "dgs['perc_native_american'] = sg_race['B02001e4']/sg_race['B02001e1']\n",
    "dgs['perc_other_race'] = 1-dgs['perc_white']-dgs['perc_african_american']-dgs['perc_asian']-dgs['perc_native_american']"
   ]
  },
  {
   "cell_type": "markdown",
   "metadata": {},
   "source": [
    "Employment Status: \n",
    "- Total pop 16+: B23025e1\n",
    "- Employed: B23025e4\n",
    "- Unemployed:B23025e5"
   ]
  },
  {
   "cell_type": "code",
   "execution_count": 31,
   "metadata": {
    "collapsed": true
   },
   "outputs": [],
   "source": [
    "dgs['perc_employed'] = sg_emp_status['B23025e4']/sg_emp_status['B23025e1']\n",
    "dgs['perc_unemployed'] = sg_emp_status['B23025e5']/sg_emp_status['B23025e1']"
   ]
  },
  {
   "cell_type": "markdown",
   "metadata": {},
   "source": [
    "Employment Type:\n",
    "- Total pop, 16+: B24080e1\n",
    "- Self Employed in not own incorporated business: B24080e10 + B24080e20 \n",
    "- Unpaid family workers: B24080e11 + B24080e21\n",
    "- Private for-profit salary workers: \n",
    "  - Employee of Private company: B24080e14 + B24080e4\n",
    "  - Self-employed in own incorporated business: B24080e15 + B24080e5\n",
    "- Private non-profit workers: B24080e16 + B24080e6\n",
    "- Government workers (local, state, federal): B24080e17 + B24080e18 + B24080e19 + B24080e7 + B24080e8 + B24080e9"
   ]
  },
  {
   "cell_type": "code",
   "execution_count": 32,
   "metadata": {
    "collapsed": true
   },
   "outputs": [],
   "source": [
    "dgs['perc_self_employed_not_own'] = (sg_emp_type['B24080e10']+sg_emp_type['B24080e20'])/sg_emp_type['B24080e1']\n",
    "dgs['perc_self_employed_own'] = (sg_emp_type['B24080e15']+sg_emp_type['B24080e5'])/sg_emp_type['B24080e1']\n",
    "dgs['perc_unpaid_fam_workers'] = (sg_emp_type['B24080e11']+sg_emp_type['B24080e21'])/sg_emp_type['B24080e1']\n",
    "dgs['perc_private_employees'] = (sg_emp_type['B24080e14']+sg_emp_type['B24080e4'])/sg_emp_type['B24080e1']\n",
    "dgs['perc_private_non_profit'] = (sg_emp_type['B24080e16']+sg_emp_type['B24080e6'])/sg_emp_type['B24080e1']\n",
    "dgs['perc_govt_workers'] = (sg_emp_type['B24080e17']+sg_emp_type['B24080e18']++sg_emp_type['B24080e19']\n",
    "                           +sg_emp_type['B24080e7']+sg_emp_type['B24080e8']+sg_emp_type['B24080e9'])/sg_emp_type['B24080e1']"
   ]
  },
  {
   "cell_type": "code",
   "execution_count": 33,
   "metadata": {},
   "outputs": [
    {
     "data": {
      "text/html": [
       "<div>\n",
       "<style scoped>\n",
       "    .dataframe tbody tr th:only-of-type {\n",
       "        vertical-align: middle;\n",
       "    }\n",
       "\n",
       "    .dataframe tbody tr th {\n",
       "        vertical-align: top;\n",
       "    }\n",
       "\n",
       "    .dataframe thead th {\n",
       "        text-align: right;\n",
       "    }\n",
       "</style>\n",
       "<table border=\"1\" class=\"dataframe\">\n",
       "  <thead>\n",
       "    <tr style=\"text-align: right;\">\n",
       "      <th></th>\n",
       "      <th>FIPS</th>\n",
       "      <th>county</th>\n",
       "      <th>state</th>\n",
       "      <th>latitude</th>\n",
       "      <th>longitude</th>\n",
       "      <th>amount_land</th>\n",
       "      <th>population</th>\n",
       "      <th>ln_population</th>\n",
       "      <th>perc_elderly</th>\n",
       "      <th>med_hh_income</th>\n",
       "      <th>...</th>\n",
       "      <th>perc_native_american</th>\n",
       "      <th>perc_other_race</th>\n",
       "      <th>perc_employed</th>\n",
       "      <th>perc_unemployed</th>\n",
       "      <th>perc_self_employed_not_own</th>\n",
       "      <th>perc_self_employed_own</th>\n",
       "      <th>perc_unpaid_fam_workers</th>\n",
       "      <th>perc_private_employees</th>\n",
       "      <th>perc_private_non_profit</th>\n",
       "      <th>perc_govt_workers</th>\n",
       "    </tr>\n",
       "  </thead>\n",
       "  <tbody>\n",
       "    <tr>\n",
       "      <th>0</th>\n",
       "      <td>1001.0</td>\n",
       "      <td>Autauga County</td>\n",
       "      <td>AL</td>\n",
       "      <td>32.501547</td>\n",
       "      <td>-86.515629</td>\n",
       "      <td>1539.609015</td>\n",
       "      <td>55049</td>\n",
       "      <td>10.915979</td>\n",
       "      <td>0.139785</td>\n",
       "      <td>1578457.0</td>\n",
       "      <td>...</td>\n",
       "      <td>0.004105</td>\n",
       "      <td>0.034006</td>\n",
       "      <td>0.568037</td>\n",
       "      <td>0.033644</td>\n",
       "      <td>0.056137</td>\n",
       "      <td>0.023370</td>\n",
       "      <td>0.000000</td>\n",
       "      <td>0.640178</td>\n",
       "      <td>0.068296</td>\n",
       "      <td>0.212019</td>\n",
       "    </tr>\n",
       "    <tr>\n",
       "      <th>1</th>\n",
       "      <td>1003.0</td>\n",
       "      <td>Baldwin County</td>\n",
       "      <td>AL</td>\n",
       "      <td>30.552078</td>\n",
       "      <td>-87.754456</td>\n",
       "      <td>4117.584019</td>\n",
       "      <td>199510</td>\n",
       "      <td>12.203620</td>\n",
       "      <td>0.187149</td>\n",
       "      <td>4571570.0</td>\n",
       "      <td>...</td>\n",
       "      <td>0.006792</td>\n",
       "      <td>0.028981</td>\n",
       "      <td>0.547426</td>\n",
       "      <td>0.036725</td>\n",
       "      <td>0.058665</td>\n",
       "      <td>0.052215</td>\n",
       "      <td>0.001857</td>\n",
       "      <td>0.695304</td>\n",
       "      <td>0.065730</td>\n",
       "      <td>0.126229</td>\n",
       "    </tr>\n",
       "    <tr>\n",
       "      <th>2</th>\n",
       "      <td>1005.0</td>\n",
       "      <td>Barbour County</td>\n",
       "      <td>AL</td>\n",
       "      <td>31.855184</td>\n",
       "      <td>-85.317696</td>\n",
       "      <td>2291.818680</td>\n",
       "      <td>26614</td>\n",
       "      <td>10.189193</td>\n",
       "      <td>0.165289</td>\n",
       "      <td>777500.0</td>\n",
       "      <td>...</td>\n",
       "      <td>0.001728</td>\n",
       "      <td>0.047080</td>\n",
       "      <td>0.418747</td>\n",
       "      <td>0.061604</td>\n",
       "      <td>0.069498</td>\n",
       "      <td>0.032470</td>\n",
       "      <td>0.002002</td>\n",
       "      <td>0.662404</td>\n",
       "      <td>0.042366</td>\n",
       "      <td>0.191260</td>\n",
       "    </tr>\n",
       "    <tr>\n",
       "      <th>3</th>\n",
       "      <td>1007.0</td>\n",
       "      <td>Bibb County</td>\n",
       "      <td>AL</td>\n",
       "      <td>33.017042</td>\n",
       "      <td>-87.139093</td>\n",
       "      <td>1612.481559</td>\n",
       "      <td>22572</td>\n",
       "      <td>10.024465</td>\n",
       "      <td>0.148857</td>\n",
       "      <td>632309.0</td>\n",
       "      <td>...</td>\n",
       "      <td>0.003589</td>\n",
       "      <td>0.014133</td>\n",
       "      <td>0.451665</td>\n",
       "      <td>0.034764</td>\n",
       "      <td>0.059373</td>\n",
       "      <td>0.006703</td>\n",
       "      <td>0.003352</td>\n",
       "      <td>0.703974</td>\n",
       "      <td>0.056021</td>\n",
       "      <td>0.170577</td>\n",
       "    </tr>\n",
       "    <tr>\n",
       "      <th>4</th>\n",
       "      <td>1009.0</td>\n",
       "      <td>Blount County</td>\n",
       "      <td>AL</td>\n",
       "      <td>33.973449</td>\n",
       "      <td>-86.574490</td>\n",
       "      <td>1670.041875</td>\n",
       "      <td>57704</td>\n",
       "      <td>10.963082</td>\n",
       "      <td>0.171929</td>\n",
       "      <td>1656471.0</td>\n",
       "      <td>...</td>\n",
       "      <td>0.003483</td>\n",
       "      <td>0.024834</td>\n",
       "      <td>0.469342</td>\n",
       "      <td>0.029713</td>\n",
       "      <td>0.036586</td>\n",
       "      <td>0.030936</td>\n",
       "      <td>0.004955</td>\n",
       "      <td>0.742741</td>\n",
       "      <td>0.059742</td>\n",
       "      <td>0.125041</td>\n",
       "    </tr>\n",
       "  </tbody>\n",
       "</table>\n",
       "<p>5 rows × 24 columns</p>\n",
       "</div>"
      ],
      "text/plain": [
       "     FIPS          county state   latitude  longitude  amount_land  \\\n",
       "0  1001.0  Autauga County    AL  32.501547 -86.515629  1539.609015   \n",
       "1  1003.0  Baldwin County    AL  30.552078 -87.754456  4117.584019   \n",
       "2  1005.0  Barbour County    AL  31.855184 -85.317696  2291.818680   \n",
       "3  1007.0     Bibb County    AL  33.017042 -87.139093  1612.481559   \n",
       "4  1009.0   Blount County    AL  33.973449 -86.574490  1670.041875   \n",
       "\n",
       "   population  ln_population  perc_elderly  med_hh_income  ...  \\\n",
       "0       55049      10.915979      0.139785      1578457.0  ...   \n",
       "1      199510      12.203620      0.187149      4571570.0  ...   \n",
       "2       26614      10.189193      0.165289       777500.0  ...   \n",
       "3       22572      10.024465      0.148857       632309.0  ...   \n",
       "4       57704      10.963082      0.171929      1656471.0  ...   \n",
       "\n",
       "   perc_native_american  perc_other_race  perc_employed  perc_unemployed  \\\n",
       "0              0.004105         0.034006       0.568037         0.033644   \n",
       "1              0.006792         0.028981       0.547426         0.036725   \n",
       "2              0.001728         0.047080       0.418747         0.061604   \n",
       "3              0.003589         0.014133       0.451665         0.034764   \n",
       "4              0.003483         0.024834       0.469342         0.029713   \n",
       "\n",
       "   perc_self_employed_not_own  perc_self_employed_own  \\\n",
       "0                    0.056137                0.023370   \n",
       "1                    0.058665                0.052215   \n",
       "2                    0.069498                0.032470   \n",
       "3                    0.059373                0.006703   \n",
       "4                    0.036586                0.030936   \n",
       "\n",
       "   perc_unpaid_fam_workers  perc_private_employees  perc_private_non_profit  \\\n",
       "0                 0.000000                0.640178                 0.068296   \n",
       "1                 0.001857                0.695304                 0.065730   \n",
       "2                 0.002002                0.662404                 0.042366   \n",
       "3                 0.003352                0.703974                 0.056021   \n",
       "4                 0.004955                0.742741                 0.059742   \n",
       "\n",
       "   perc_govt_workers  \n",
       "0           0.212019  \n",
       "1           0.126229  \n",
       "2           0.191260  \n",
       "3           0.170577  \n",
       "4           0.125041  \n",
       "\n",
       "[5 rows x 24 columns]"
      ]
     },
     "execution_count": 33,
     "metadata": {},
     "output_type": "execute_result"
    }
   ],
   "source": [
    "#Merge with longitudes and latitudes:\n",
    "dgs['FIPS'] = dgs['FIPS'].astype(float) \n",
    "full_dgs = counties_and_location.merge(dgs, on = 'FIPS')\n",
    "full_dgs.head()"
   ]
  },
  {
   "cell_type": "code",
   "execution_count": 36,
   "metadata": {
    "collapsed": true
   },
   "outputs": [],
   "source": [
    "sdm_df_all = sdm_df.merge(full_dgs, on =['FIPS'])"
   ]
  },
  {
   "cell_type": "code",
   "execution_count": 37,
   "metadata": {
    "collapsed": true
   },
   "outputs": [],
   "source": [
    "sdm_df_all.to_csv('data/safegraph_data_{}.csv'.format(str(datetime.now().date()))) "
   ]
  },
  {
   "cell_type": "markdown",
   "metadata": {},
   "source": [
    "### Checking longitude and latitude average calculations with conversion to cartesian coords:"
   ]
  },
  {
   "cell_type": "markdown",
   "metadata": {},
   "source": [
    "*If you want to run this, take out the group_by line bringing in the codes df\n",
    "\n",
    "This runs for San Bernardino County, the county with the largest area in the US. The latitudes and longitudes are the same to three digits using the conversion way and also doing averages, so the averaging method was used."
   ]
  },
  {
   "cell_type": "code",
   "execution_count": 35,
   "metadata": {
    "collapsed": true,
    "jupyter": {
     "outputs_hidden": true
    }
   },
   "outputs": [],
   "source": [
    "coords_df = pd.DataFrame()\n",
    "coords_df['latitude'] = codes['latitude'][codes['FIPS']=='06071']\n",
    "coords_df['longitude'] = codes['longitude'][codes['FIPS']=='06071']\n",
    "\n",
    "lats = list(codes['latitude'][codes['FIPS']=='06071'])\n",
    "lons = list(codes['longitude'][codes['FIPS']=='06071'])"
   ]
  },
  {
   "cell_type": "code",
   "execution_count": 36,
   "metadata": {
    "collapsed": true,
    "jupyter": {
     "outputs_hidden": true
    }
   },
   "outputs": [],
   "source": [
    "x = 0.0\n",
    "y = 0.0\n",
    "z = 0.0\n",
    "\n",
    "for i, coord in coords_df.iterrows():\n",
    "    latitude = math.radians(coord.latitude)\n",
    "    longitude = math.radians(coord.longitude)\n",
    "\n",
    "    x += math.cos(latitude) * math.cos(longitude)\n",
    "    y += math.cos(latitude) * math.sin(longitude)\n",
    "    z += math.sin(latitude)\n",
    "\n",
    "total = len(coords_df)\n",
    "\n",
    "x = x / total\n",
    "y = y / total\n",
    "z = z / total\n",
    "\n",
    "central_longitude = math.atan2(y, x)\n",
    "central_square_root = math.sqrt(x * x + y * y)\n",
    "central_latitude = math.atan2(z, central_square_root)\n",
    "\n",
    "mean_location = {\n",
    "    'latitude': math.degrees(central_latitude),\n",
    "    'longitude': math.degrees(central_longitude)\n",
    "    }"
   ]
  },
  {
   "cell_type": "code",
   "execution_count": 37,
   "metadata": {},
   "outputs": [
    {
     "data": {
      "text/plain": [
       "{'latitude': 34.18227596007321, 'longitude': -117.32819489532969}"
      ]
     },
     "execution_count": 37,
     "metadata": {},
     "output_type": "execute_result"
    }
   ],
   "source": [
    "mean_location"
   ]
  },
  {
   "cell_type": "code",
   "execution_count": 38,
   "metadata": {},
   "outputs": [
    {
     "data": {
      "text/plain": [
       "(34.18227596007321, -117.32819489532969)"
      ]
     },
     "execution_count": 38,
     "metadata": {},
     "output_type": "execute_result"
    }
   ],
   "source": [
    "(sum(lats)/len(lats), sum(lons)/len(lons))"
   ]
  },
  {
   "cell_type": "code",
   "execution_count": null,
   "metadata": {
    "collapsed": true,
    "jupyter": {
     "outputs_hidden": true
    }
   },
   "outputs": [],
   "source": []
  }
 ],
 "metadata": {
  "kernelspec": {
   "display_name": "Python 3",
   "language": "python",
   "name": "python3"
  },
  "language_info": {
   "codemirror_mode": {
    "name": "ipython",
    "version": 3
   },
   "file_extension": ".py",
   "mimetype": "text/x-python",
   "name": "python",
   "nbconvert_exporter": "python",
   "pygments_lexer": "ipython3",
   "version": "3.6.3"
  }
 },
 "nbformat": 4,
 "nbformat_minor": 4
}
