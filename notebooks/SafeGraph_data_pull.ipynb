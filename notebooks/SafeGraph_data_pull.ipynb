{
 "cells": [
  {
   "cell_type": "markdown",
   "metadata": {},
   "source": [
    "## Grab SafeGraph data from AWS "
   ]
  },
  {
   "cell_type": "markdown",
   "metadata": {},
   "source": [
    "#### code from ryan@safegraph.com"
   ]
  },
  {
   "cell_type": "code",
   "execution_count": 27,
   "metadata": {},
   "outputs": [
    {
     "name": "stdout",
     "output_type": "stream",
     "text": [
      "The autoreload extension is already loaded. To reload it, use:\n",
      "  %reload_ext autoreload\n"
     ]
    }
   ],
   "source": [
    "from bs4 import BeautifulSoup as bs\n",
    "from bs4 import Tag, NavigableString\n",
    "import re\n",
    "import requests as r\n",
    "import pandas as pd\n",
    "import numpy as np\n",
    "from datetime import datetime\n",
    "import csv\n",
    "import os\n",
    "import sys\n",
    "from state_cleaner import *\n",
    "from selenium import webdriver\n",
    "import matplotlib.pyplot as plt\n",
    "%load_ext autoreload\n",
    "%autoreload 2\n",
    "%matplotlib inline"
   ]
  },
  {
   "cell_type": "code",
   "execution_count": 2,
   "metadata": {},
   "outputs": [
    {
     "data": {
      "text/plain": [
       "'/Users/samismalling/Documents/mobility-report-data-extractor-master/CovidMobile'"
      ]
     },
     "execution_count": 2,
     "metadata": {},
     "output_type": "execute_result"
    }
   ],
   "source": [
    "os.chdir('../..')\n",
    "os.chdir('CovidMobile')\n",
    "os.getcwd()"
   ]
  },
  {
   "cell_type": "code",
   "execution_count": 10,
   "metadata": {},
   "outputs": [
    {
     "name": "stdout",
     "output_type": "stream",
     "text": [
      "/Users/samismalling/Documents/mobility-report-data-extractor-master/CovidMobile/notebooks\n"
     ]
    }
   ],
   "source": [
    "#Configure the aws profile **check the slack for new access keys weekly!\n",
    "#! aws configure --profile safegraph"
   ]
  },
  {
   "cell_type": "code",
   "execution_count": null,
   "metadata": {},
   "outputs": [],
   "source": [
    "#Downloads all current available data social distancing data: *takes a while to run\n",
    "#! aws s3 sync s3://sg-c19-response/social-distancing/v2/ /Users/samismalling/Documents/mobility-report-data-extractor-master/CovidMobile/SafeGraph_data --profile safegraph"
   ]
  },
  {
   "cell_type": "code",
   "execution_count": 3,
   "metadata": {},
   "outputs": [],
   "source": [
    "full_df = pd.read_csv('/Users/samismalling/Documents/mobility-report-data-extractor-master/CovidMobile/data/compiled_2020-05-14.csv')"
   ]
  },
  {
   "cell_type": "code",
   "execution_count": 4,
   "metadata": {},
   "outputs": [
    {
     "name": "stdout",
     "output_type": "stream",
     "text": [
      "2020-02-15 2020-05-07\n"
     ]
    }
   ],
   "source": [
    "print(full_df['date'].min(), full_df['date'].max())"
   ]
  },
  {
   "cell_type": "code",
   "execution_count": 15,
   "metadata": {},
   "outputs": [],
   "source": [
    "#Create list of dates to loop through\n",
    "dates_obj = list(pd.date_range(start=full_df['date'].min(),end=full_df['date'].max()))\n",
    "dates_slashes = [x.strftime(\"%Y/%m/%d\") for x in dates_obj]\n",
    "dates_dashes = [x.strftime(\"%Y-%m-%d\") for x in dates_obj]\n",
    "\n",
    "d_s = dates_slashes[round(len(dates_slashes)/2):]\n",
    "d_d = dates_dashes[round(len(dates_dashes)/2):]\n"
   ]
  },
  {
   "cell_type": "code",
   "execution_count": 13,
   "metadata": {},
   "outputs": [],
   "source": [
    "sdm_df = pd.DataFrame()"
   ]
  },
  {
   "cell_type": "code",
   "execution_count": 16,
   "metadata": {},
   "outputs": [
    {
     "name": "stdout",
     "output_type": "stream",
     "text": [
      "2020/03/28\n",
      "2020/03/29\n",
      "2020/03/30\n",
      "2020/03/31\n",
      "2020/04/01\n",
      "2020/04/02\n",
      "2020/04/03\n",
      "2020/04/04\n",
      "2020/04/05\n",
      "2020/04/06\n",
      "2020/04/07\n",
      "2020/04/08\n",
      "2020/04/09\n",
      "2020/04/10\n",
      "2020/04/11\n",
      "2020/04/12\n",
      "2020/04/13\n",
      "2020/04/14\n",
      "2020/04/15\n",
      "2020/04/16\n",
      "2020/04/17\n",
      "2020/04/18\n",
      "2020/04/19\n",
      "2020/04/20\n",
      "2020/04/21\n",
      "2020/04/22\n",
      "2020/04/23\n",
      "2020/04/24\n",
      "2020/04/25\n",
      "2020/04/26\n",
      "2020/04/27\n",
      "2020/04/28\n",
      "2020/04/29\n",
      "2020/04/30\n",
      "2020/05/01\n",
      "2020/05/02\n",
      "2020/05/03\n",
      "2020/05/04\n",
      "2020/05/05\n",
      "2020/05/06\n",
      "2020/05/07\n"
     ]
    }
   ],
   "source": [
    "#Read in all of the csvs for each date:\n",
    "for date1, date2 in zip(d_s, d_d):\n",
    "    df = pd.read_csv(\"/Users/samismalling/Documents/SafeGraph_data/{}/{}-social-distancing.csv.gz\".format(date1,date2))\n",
    "    df = df[[\"origin_census_block_group\", \"date_range_start\", \"date_range_end\", \n",
    "                                 \"device_count\", \"completely_home_device_count\", \"part_time_work_behavior_devices\", \n",
    "                                 \"full_time_work_behavior_devices\"]]\n",
    "    \n",
    "    df = df.astype({'origin_census_block_group':'str'})\n",
    "    df['county_fips'] = df.origin_census_block_group.str.slice(start=0, stop=5) # county is the first 5 digits of the CBG\n",
    "    df['date_start'] = df.date_range_start.str.slice(start=0, stop=10)\n",
    "    \n",
    "    sdm_columns = ['device_count', 'completely_home_device_count','part_time_work_behavior_devices', 'full_time_work_behavior_devices']\n",
    "    geo_groupby= 'county_fips'\n",
    "    df_by_county = df.groupby([geo_groupby, 'date_start'])[sdm_columns].sum().sort_values(by=[geo_groupby, 'date_start'], ascending=True).reset_index()\n",
    "    \n",
    "    sdm_df = sdm_df.append(df_by_county)\n",
    "    print(date1)"
   ]
  },
  {
   "cell_type": "code",
   "execution_count": 18,
   "metadata": {},
   "outputs": [],
   "source": [
    "# convert numerical columns\n",
    "sdm_df= sdm_df.astype({'device_count':'int','completely_home_device_count':'int'})"
   ]
  },
  {
   "cell_type": "code",
   "execution_count": 21,
   "metadata": {},
   "outputs": [
    {
     "data": {
      "text/html": [
       "<div>\n",
       "<style scoped>\n",
       "    .dataframe tbody tr th:only-of-type {\n",
       "        vertical-align: middle;\n",
       "    }\n",
       "\n",
       "    .dataframe tbody tr th {\n",
       "        vertical-align: top;\n",
       "    }\n",
       "\n",
       "    .dataframe thead th {\n",
       "        text-align: right;\n",
       "    }\n",
       "</style>\n",
       "<table border=\"1\" class=\"dataframe\">\n",
       "  <thead>\n",
       "    <tr style=\"text-align: right;\">\n",
       "      <th></th>\n",
       "      <th>county_fips</th>\n",
       "      <th>date_start</th>\n",
       "      <th>device_count</th>\n",
       "      <th>completely_home_device_count</th>\n",
       "      <th>part_time_work_behavior_devices</th>\n",
       "      <th>full_time_work_behavior_devices</th>\n",
       "      <th>leaving_home</th>\n",
       "      <th>pct_leaving_home</th>\n",
       "    </tr>\n",
       "  </thead>\n",
       "  <tbody>\n",
       "    <tr>\n",
       "      <th>0</th>\n",
       "      <td>10001</td>\n",
       "      <td>2020-02-15</td>\n",
       "      <td>12286</td>\n",
       "      <td>3445</td>\n",
       "      <td>676</td>\n",
       "      <td>196</td>\n",
       "      <td>8841</td>\n",
       "      <td>71.959954</td>\n",
       "    </tr>\n",
       "    <tr>\n",
       "      <th>1</th>\n",
       "      <td>10003</td>\n",
       "      <td>2020-02-15</td>\n",
       "      <td>31356</td>\n",
       "      <td>8501</td>\n",
       "      <td>1695</td>\n",
       "      <td>658</td>\n",
       "      <td>22855</td>\n",
       "      <td>72.888761</td>\n",
       "    </tr>\n",
       "    <tr>\n",
       "      <th>2</th>\n",
       "      <td>10005</td>\n",
       "      <td>2020-02-15</td>\n",
       "      <td>14123</td>\n",
       "      <td>3694</td>\n",
       "      <td>834</td>\n",
       "      <td>278</td>\n",
       "      <td>10429</td>\n",
       "      <td>73.844084</td>\n",
       "    </tr>\n",
       "    <tr>\n",
       "      <th>3</th>\n",
       "      <td>10010</td>\n",
       "      <td>2020-02-15</td>\n",
       "      <td>5708</td>\n",
       "      <td>1152</td>\n",
       "      <td>622</td>\n",
       "      <td>180</td>\n",
       "      <td>4556</td>\n",
       "      <td>79.817800</td>\n",
       "    </tr>\n",
       "    <tr>\n",
       "      <th>4</th>\n",
       "      <td>10030</td>\n",
       "      <td>2020-02-15</td>\n",
       "      <td>23838</td>\n",
       "      <td>5358</td>\n",
       "      <td>2407</td>\n",
       "      <td>805</td>\n",
       "      <td>18480</td>\n",
       "      <td>77.523282</td>\n",
       "    </tr>\n",
       "  </tbody>\n",
       "</table>\n",
       "</div>"
      ],
      "text/plain": [
       "  county_fips  date_start  device_count  completely_home_device_count  \\\n",
       "0       10001  2020-02-15         12286                          3445   \n",
       "1       10003  2020-02-15         31356                          8501   \n",
       "2       10005  2020-02-15         14123                          3694   \n",
       "3       10010  2020-02-15          5708                          1152   \n",
       "4       10030  2020-02-15         23838                          5358   \n",
       "\n",
       "   part_time_work_behavior_devices  full_time_work_behavior_devices  \\\n",
       "0                              676                              196   \n",
       "1                             1695                              658   \n",
       "2                              834                              278   \n",
       "3                              622                              180   \n",
       "4                             2407                              805   \n",
       "\n",
       "   leaving_home  pct_leaving_home  \n",
       "0          8841         71.959954  \n",
       "1         22855         72.888761  \n",
       "2         10429         73.844084  \n",
       "3          4556         79.817800  \n",
       "4         18480         77.523282  "
      ]
     },
     "execution_count": 21,
     "metadata": {},
     "output_type": "execute_result"
    }
   ],
   "source": [
    "sdm_df.head()"
   ]
  },
  {
   "cell_type": "code",
   "execution_count": 22,
   "metadata": {},
   "outputs": [
    {
     "data": {
      "text/html": [
       "<div>\n",
       "<style scoped>\n",
       "    .dataframe tbody tr th:only-of-type {\n",
       "        vertical-align: middle;\n",
       "    }\n",
       "\n",
       "    .dataframe tbody tr th {\n",
       "        vertical-align: top;\n",
       "    }\n",
       "\n",
       "    .dataframe thead th {\n",
       "        text-align: right;\n",
       "    }\n",
       "</style>\n",
       "<table border=\"1\" class=\"dataframe\">\n",
       "  <thead>\n",
       "    <tr style=\"text-align: right;\">\n",
       "      <th></th>\n",
       "      <th>county_fips</th>\n",
       "      <th>date_start</th>\n",
       "      <th>device_count</th>\n",
       "      <th>completely_home_device_count</th>\n",
       "      <th>part_time_work_behavior_devices</th>\n",
       "      <th>full_time_work_behavior_devices</th>\n",
       "      <th>leaving_home</th>\n",
       "      <th>pct_leaving_home</th>\n",
       "      <th>social_distancing</th>\n",
       "    </tr>\n",
       "  </thead>\n",
       "  <tbody>\n",
       "    <tr>\n",
       "      <th>0</th>\n",
       "      <td>10001</td>\n",
       "      <td>2020-02-15</td>\n",
       "      <td>12286</td>\n",
       "      <td>3445</td>\n",
       "      <td>676</td>\n",
       "      <td>196</td>\n",
       "      <td>8841</td>\n",
       "      <td>71.959954</td>\n",
       "      <td>0.301822</td>\n",
       "    </tr>\n",
       "    <tr>\n",
       "      <th>1</th>\n",
       "      <td>10003</td>\n",
       "      <td>2020-02-15</td>\n",
       "      <td>31356</td>\n",
       "      <td>8501</td>\n",
       "      <td>1695</td>\n",
       "      <td>658</td>\n",
       "      <td>22855</td>\n",
       "      <td>72.888761</td>\n",
       "      <td>0.293108</td>\n",
       "    </tr>\n",
       "    <tr>\n",
       "      <th>2</th>\n",
       "      <td>10005</td>\n",
       "      <td>2020-02-15</td>\n",
       "      <td>14123</td>\n",
       "      <td>3694</td>\n",
       "      <td>834</td>\n",
       "      <td>278</td>\n",
       "      <td>10429</td>\n",
       "      <td>73.844084</td>\n",
       "      <td>0.283914</td>\n",
       "    </tr>\n",
       "    <tr>\n",
       "      <th>3</th>\n",
       "      <td>10010</td>\n",
       "      <td>2020-02-15</td>\n",
       "      <td>5708</td>\n",
       "      <td>1152</td>\n",
       "      <td>622</td>\n",
       "      <td>180</td>\n",
       "      <td>4556</td>\n",
       "      <td>79.817800</td>\n",
       "      <td>0.234815</td>\n",
       "    </tr>\n",
       "    <tr>\n",
       "      <th>4</th>\n",
       "      <td>10030</td>\n",
       "      <td>2020-02-15</td>\n",
       "      <td>23838</td>\n",
       "      <td>5358</td>\n",
       "      <td>2407</td>\n",
       "      <td>805</td>\n",
       "      <td>18480</td>\n",
       "      <td>77.523282</td>\n",
       "      <td>0.259769</td>\n",
       "    </tr>\n",
       "  </tbody>\n",
       "</table>\n",
       "</div>"
      ],
      "text/plain": [
       "  county_fips  date_start  device_count  completely_home_device_count  \\\n",
       "0       10001  2020-02-15         12286                          3445   \n",
       "1       10003  2020-02-15         31356                          8501   \n",
       "2       10005  2020-02-15         14123                          3694   \n",
       "3       10010  2020-02-15          5708                          1152   \n",
       "4       10030  2020-02-15         23838                          5358   \n",
       "\n",
       "   part_time_work_behavior_devices  full_time_work_behavior_devices  \\\n",
       "0                              676                              196   \n",
       "1                             1695                              658   \n",
       "2                              834                              278   \n",
       "3                              622                              180   \n",
       "4                             2407                              805   \n",
       "\n",
       "   leaving_home  pct_leaving_home  social_distancing  \n",
       "0          8841         71.959954           0.301822  \n",
       "1         22855         72.888761           0.293108  \n",
       "2         10429         73.844084           0.283914  \n",
       "3          4556         79.817800           0.234815  \n",
       "4         18480         77.523282           0.259769  "
      ]
     },
     "execution_count": 22,
     "metadata": {},
     "output_type": "execute_result"
    }
   ],
   "source": [
    "# compute new metrics\n",
    "sdm_df['leaving_home'] = sdm_df['device_count'] - sdm_df['completely_home_device_count']\n",
    "sdm_df['pct_leaving_home'] = sdm_df['leaving_home'] / sdm_df['device_count'] * 100\n",
    "\n",
    "sdm_df['social_distancing'] = sdm_df['completely_home_device_count']/(sdm_df['device_count']-sdm_df['full_time_work_behavior_devices']-sdm_df['part_time_work_behavior_devices'])\n",
    "  \n",
    "sdm_df.head()"
   ]
  },
  {
   "cell_type": "code",
   "execution_count": 29,
   "metadata": {},
   "outputs": [],
   "source": [
    "sdm_df.to_csv('/Users/samismalling/Documents/SafeGraph_data/sg_mobility_updated_{}.csv'.format(str(datetime.now().date())))"
   ]
  },
  {
   "cell_type": "code",
   "execution_count": null,
   "metadata": {},
   "outputs": [],
   "source": []
  }
 ],
 "metadata": {
  "kernelspec": {
   "display_name": "Python 3",
   "language": "python",
   "name": "python3"
  },
  "language_info": {
   "codemirror_mode": {
    "name": "ipython",
    "version": 3
   },
   "file_extension": ".py",
   "mimetype": "text/x-python",
   "name": "python",
   "nbconvert_exporter": "python",
   "pygments_lexer": "ipython3",
   "version": "3.7.6"
  }
 },
 "nbformat": 4,
 "nbformat_minor": 4
}
