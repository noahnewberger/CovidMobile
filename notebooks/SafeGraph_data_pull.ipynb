{
 "cells": [
  {
   "cell_type": "markdown",
   "metadata": {},
   "source": [
    "## Grab SafeGraph data from AWS "
   ]
  },
  {
   "cell_type": "markdown",
   "metadata": {},
   "source": [
    "#### code from ryan@safegraph.com"
   ]
  },
  {
   "cell_type": "code",
   "execution_count": 10,
   "metadata": {},
   "outputs": [
    {
     "name": "stdout",
     "output_type": "stream",
     "text": [
      "/Users/samismalling/Documents/mobility-report-data-extractor-master/CovidMobile/notebooks\n"
     ]
    }
   ],
   "source": [
    "! pwd"
   ]
  },
  {
   "cell_type": "code",
   "execution_count": 11,
   "metadata": {},
   "outputs": [
    {
     "name": "stdout",
     "output_type": "stream",
     "text": [
      "download: s3://sg-c19-response/social-distancing/v2/2020/01/01/2020-01-01-social-distancing.csv.gz to ../SafeGraph_data/2020/01/01/2020-01-01-social-distancing.csv.gz\n",
      "download: s3://sg-c19-response/social-distancing/v2/2020/01/03/2020-01-03-social-distancing.csv.gz to ../SafeGraph_data/2020/01/03/2020-01-03-social-distancing.csv.gz\n",
      "download: s3://sg-c19-response/social-distancing/v2/2020/01/02/2020-01-02-social-distancing.csv.gz to ../SafeGraph_data/2020/01/02/2020-01-02-social-distancing.csv.gz\n",
      "download: s3://sg-c19-response/social-distancing/v2/2020/01/05/2020-01-05-social-distancing.csv.gz to ../SafeGraph_data/2020/01/05/2020-01-05-social-distancing.csv.gz\n",
      "download: s3://sg-c19-response/social-distancing/v2/2020/01/04/2020-01-04-social-distancing.csv.gz to ../SafeGraph_data/2020/01/04/2020-01-04-social-distancing.csv.gz\n",
      "download: s3://sg-c19-response/social-distancing/v2/2020/01/06/2020-01-06-social-distancing.csv.gz to ../SafeGraph_data/2020/01/06/2020-01-06-social-distancing.csv.gz\n",
      "download: s3://sg-c19-response/social-distancing/v2/2020/01/07/2020-01-07-social-distancing.csv.gz to ../SafeGraph_data/2020/01/07/2020-01-07-social-distancing.csv.gz\n",
      "download: s3://sg-c19-response/social-distancing/v2/2020/01/08/2020-01-08-social-distancing.csv.gz to ../SafeGraph_data/2020/01/08/2020-01-08-social-distancing.csv.gz\n",
      "download: s3://sg-c19-response/social-distancing/v2/2020/01/10/2020-01-10-social-distancing.csv.gz to ../SafeGraph_data/2020/01/10/2020-01-10-social-distancing.csv.gz\n",
      "download: s3://sg-c19-response/social-distancing/v2/2020/01/09/2020-01-09-social-distancing.csv.gz to ../SafeGraph_data/2020/01/09/2020-01-09-social-distancing.csv.gz\n",
      "download: s3://sg-c19-response/social-distancing/v2/2020/01/12/2020-01-12-social-distancing.csv.gz to ../SafeGraph_data/2020/01/12/2020-01-12-social-distancing.csv.gz\n",
      "download: s3://sg-c19-response/social-distancing/v2/2020/01/11/2020-01-11-social-distancing.csv.gz to ../SafeGraph_data/2020/01/11/2020-01-11-social-distancing.csv.gz\n",
      "download: s3://sg-c19-response/social-distancing/v2/2020/01/14/2020-01-14-social-distancing.csv.gz to ../SafeGraph_data/2020/01/14/2020-01-14-social-distancing.csv.gz\n",
      "download: s3://sg-c19-response/social-distancing/v2/2020/01/13/2020-01-13-social-distancing.csv.gz to ../SafeGraph_data/2020/01/13/2020-01-13-social-distancing.csv.gz\n",
      "download: s3://sg-c19-response/social-distancing/v2/2020/01/15/2020-01-15-social-distancing.csv.gz to ../SafeGraph_data/2020/01/15/2020-01-15-social-distancing.csv.gz\n",
      "download: s3://sg-c19-response/social-distancing/v2/2020/01/16/2020-01-16-social-distancing.csv.gz to ../SafeGraph_data/2020/01/16/2020-01-16-social-distancing.csv.gz\n",
      "download: s3://sg-c19-response/social-distancing/v2/2020/01/18/2020-01-18-social-distancing.csv.gz to ../SafeGraph_data/2020/01/18/2020-01-18-social-distancing.csv.gz\n",
      "download: s3://sg-c19-response/social-distancing/v2/2020/01/20/2020-01-20-social-distancing.csv.gz to ../SafeGraph_data/2020/01/20/2020-01-20-social-distancing.csv.gz\n",
      "download: s3://sg-c19-response/social-distancing/v2/2020/01/19/2020-01-19-social-distancing.csv.gz to ../SafeGraph_data/2020/01/19/2020-01-19-social-distancing.csv.gz\n",
      "download: s3://sg-c19-response/social-distancing/v2/2020/01/24/2020-01-24-social-distancing.csv.gz to ../SafeGraph_data/2020/01/24/2020-01-24-social-distancing.csv.gz\n",
      "download: s3://sg-c19-response/social-distancing/v2/2020/01/17/2020-01-17-social-distancing.csv.gz to ../SafeGraph_data/2020/01/17/2020-01-17-social-distancing.csv.gz\n",
      "download: s3://sg-c19-response/social-distancing/v2/2020/01/21/2020-01-21-social-distancing.csv.gz to ../SafeGraph_data/2020/01/21/2020-01-21-social-distancing.csv.gz\n",
      "download: s3://sg-c19-response/social-distancing/v2/2020/01/22/2020-01-22-social-distancing.csv.gz to ../SafeGraph_data/2020/01/22/2020-01-22-social-distancing.csv.gz\n",
      "download: s3://sg-c19-response/social-distancing/v2/2020/01/23/2020-01-23-social-distancing.csv.gz to ../SafeGraph_data/2020/01/23/2020-01-23-social-distancing.csv.gz\n",
      "download: s3://sg-c19-response/social-distancing/v2/2020/01/26/2020-01-26-social-distancing.csv.gz to ../SafeGraph_data/2020/01/26/2020-01-26-social-distancing.csv.gz\n",
      "download: s3://sg-c19-response/social-distancing/v2/2020/01/28/2020-01-28-social-distancing.csv.gz to ../SafeGraph_data/2020/01/28/2020-01-28-social-distancing.csv.gz\n",
      "download: s3://sg-c19-response/social-distancing/v2/2020/01/29/2020-01-29-social-distancing.csv.gz to ../SafeGraph_data/2020/01/29/2020-01-29-social-distancing.csv.gz\n",
      "download: s3://sg-c19-response/social-distancing/v2/2020/01/31/2020-01-31-social-distancing.csv.gz to ../SafeGraph_data/2020/01/31/2020-01-31-social-distancing.csv.gz\n",
      "download: s3://sg-c19-response/social-distancing/v2/2020/01/25/2020-01-25-social-distancing.csv.gz to ../SafeGraph_data/2020/01/25/2020-01-25-social-distancing.csv.gz\n",
      "download: s3://sg-c19-response/social-distancing/v2/2020/02/03/2020-02-03-social-distancing.csv.gz to ../SafeGraph_data/2020/02/03/2020-02-03-social-distancing.csv.gz\n",
      "download: s3://sg-c19-response/social-distancing/v2/2020/02/04/2020-02-04-social-distancing.csv.gz to ../SafeGraph_data/2020/02/04/2020-02-04-social-distancing.csv.gz\n",
      "download: s3://sg-c19-response/social-distancing/v2/2020/02/05/2020-02-05-social-distancing.csv.gz to ../SafeGraph_data/2020/02/05/2020-02-05-social-distancing.csv.gz\n",
      "download: s3://sg-c19-response/social-distancing/v2/2020/02/06/2020-02-06-social-distancing.csv.gz to ../SafeGraph_data/2020/02/06/2020-02-06-social-distancing.csv.gz\n",
      "download: s3://sg-c19-response/social-distancing/v2/2020/02/07/2020-02-07-social-distancing.csv.gz to ../SafeGraph_data/2020/02/07/2020-02-07-social-distancing.csv.gz\n",
      "download: s3://sg-c19-response/social-distancing/v2/2020/02/08/2020-02-08-social-distancing.csv.gz to ../SafeGraph_data/2020/02/08/2020-02-08-social-distancing.csv.gz\n",
      "download: s3://sg-c19-response/social-distancing/v2/2020/02/09/2020-02-09-social-distancing.csv.gz to ../SafeGraph_data/2020/02/09/2020-02-09-social-distancing.csv.gz\n",
      "download: s3://sg-c19-response/social-distancing/v2/2020/02/02/2020-02-02-social-distancing.csv.gz to ../SafeGraph_data/2020/02/02/2020-02-02-social-distancing.csv.gz\n",
      "download: s3://sg-c19-response/social-distancing/v2/2020/01/30/2020-01-30-social-distancing.csv.gz to ../SafeGraph_data/2020/01/30/2020-01-30-social-distancing.csv.gz\n",
      "download: s3://sg-c19-response/social-distancing/v2/2020/02/10/2020-02-10-social-distancing.csv.gz to ../SafeGraph_data/2020/02/10/2020-02-10-social-distancing.csv.gz\n",
      "download: s3://sg-c19-response/social-distancing/v2/2020/01/27/2020-01-27-social-distancing.csv.gz to ../SafeGraph_data/2020/01/27/2020-01-27-social-distancing.csv.gz\n",
      "download: s3://sg-c19-response/social-distancing/v2/2020/02/01/2020-02-01-social-distancing.csv.gz to ../SafeGraph_data/2020/02/01/2020-02-01-social-distancing.csv.gz\n",
      "download: s3://sg-c19-response/social-distancing/v2/2020/02/12/2020-02-12-social-distancing.csv.gz to ../SafeGraph_data/2020/02/12/2020-02-12-social-distancing.csv.gz\n",
      "download: s3://sg-c19-response/social-distancing/v2/2020/02/13/2020-02-13-social-distancing.csv.gz to ../SafeGraph_data/2020/02/13/2020-02-13-social-distancing.csv.gz\n",
      "download: s3://sg-c19-response/social-distancing/v2/2020/02/11/2020-02-11-social-distancing.csv.gz to ../SafeGraph_data/2020/02/11/2020-02-11-social-distancing.csv.gz\n",
      "download: s3://sg-c19-response/social-distancing/v2/2020/02/14/2020-02-14-social-distancing.csv.gz to ../SafeGraph_data/2020/02/14/2020-02-14-social-distancing.csv.gz\n",
      "download: s3://sg-c19-response/social-distancing/v2/2020/02/15/2020-02-15-social-distancing.csv.gz to ../SafeGraph_data/2020/02/15/2020-02-15-social-distancing.csv.gz\n",
      "download: s3://sg-c19-response/social-distancing/v2/2020/02/16/2020-02-16-social-distancing.csv.gz to ../SafeGraph_data/2020/02/16/2020-02-16-social-distancing.csv.gz\n",
      "download: s3://sg-c19-response/social-distancing/v2/2020/02/17/2020-02-17-social-distancing.csv.gz to ../SafeGraph_data/2020/02/17/2020-02-17-social-distancing.csv.gz\n",
      "download: s3://sg-c19-response/social-distancing/v2/2020/02/19/2020-02-19-social-distancing.csv.gz to ../SafeGraph_data/2020/02/19/2020-02-19-social-distancing.csv.gz\n",
      "download: s3://sg-c19-response/social-distancing/v2/2020/02/21/2020-02-21-social-distancing.csv.gz to ../SafeGraph_data/2020/02/21/2020-02-21-social-distancing.csv.gz\n",
      "download: s3://sg-c19-response/social-distancing/v2/2020/02/18/2020-02-18-social-distancing.csv.gz to ../SafeGraph_data/2020/02/18/2020-02-18-social-distancing.csv.gz\n",
      "download: s3://sg-c19-response/social-distancing/v2/2020/02/20/2020-02-20-social-distancing.csv.gz to ../SafeGraph_data/2020/02/20/2020-02-20-social-distancing.csv.gz\n",
      "download: s3://sg-c19-response/social-distancing/v2/2020/02/23/2020-02-23-social-distancing.csv.gz to ../SafeGraph_data/2020/02/23/2020-02-23-social-distancing.csv.gz\n",
      "download: s3://sg-c19-response/social-distancing/v2/2020/02/22/2020-02-22-social-distancing.csv.gz to ../SafeGraph_data/2020/02/22/2020-02-22-social-distancing.csv.gz\n",
      "download: s3://sg-c19-response/social-distancing/v2/2020/02/24/2020-02-24-social-distancing.csv.gz to ../SafeGraph_data/2020/02/24/2020-02-24-social-distancing.csv.gz\n",
      "download: s3://sg-c19-response/social-distancing/v2/2020/02/28/2020-02-28-social-distancing.csv.gz to ../SafeGraph_data/2020/02/28/2020-02-28-social-distancing.csv.gz\n",
      "download: s3://sg-c19-response/social-distancing/v2/2020/02/29/2020-02-29-social-distancing.csv.gz to ../SafeGraph_data/2020/02/29/2020-02-29-social-distancing.csv.gz\n",
      "download: s3://sg-c19-response/social-distancing/v2/2020/02/27/2020-02-27-social-distancing.csv.gz to ../SafeGraph_data/2020/02/27/2020-02-27-social-distancing.csv.gz\n",
      "download: s3://sg-c19-response/social-distancing/v2/2020/02/25/2020-02-25-social-distancing.csv.gz to ../SafeGraph_data/2020/02/25/2020-02-25-social-distancing.csv.gz\n",
      "download: s3://sg-c19-response/social-distancing/v2/2020/02/26/2020-02-26-social-distancing.csv.gz to ../SafeGraph_data/2020/02/26/2020-02-26-social-distancing.csv.gz\n",
      "download: s3://sg-c19-response/social-distancing/v2/2020/03/04/2020-03-04-social-distancing.csv.gz to ../SafeGraph_data/2020/03/04/2020-03-04-social-distancing.csv.gz\n",
      "download: s3://sg-c19-response/social-distancing/v2/2020/03/03/2020-03-03-social-distancing.csv.gz to ../SafeGraph_data/2020/03/03/2020-03-03-social-distancing.csv.gz\n",
      "download: s3://sg-c19-response/social-distancing/v2/2020/03/01/2020-03-01-social-distancing.csv.gz to ../SafeGraph_data/2020/03/01/2020-03-01-social-distancing.csv.gz\n",
      "download: s3://sg-c19-response/social-distancing/v2/2020/03/02/2020-03-02-social-distancing.csv.gz to ../SafeGraph_data/2020/03/02/2020-03-02-social-distancing.csv.gz\n",
      "download: s3://sg-c19-response/social-distancing/v2/2020/03/05/2020-03-05-social-distancing.csv.gz to ../SafeGraph_data/2020/03/05/2020-03-05-social-distancing.csv.gz\n",
      "download: s3://sg-c19-response/social-distancing/v2/2020/03/07/2020-03-07-social-distancing.csv.gz to ../SafeGraph_data/2020/03/07/2020-03-07-social-distancing.csv.gz\n",
      "download: s3://sg-c19-response/social-distancing/v2/2020/03/09/2020-03-09-social-distancing.csv.gz to ../SafeGraph_data/2020/03/09/2020-03-09-social-distancing.csv.gz\n",
      "download: s3://sg-c19-response/social-distancing/v2/2020/03/06/2020-03-06-social-distancing.csv.gz to ../SafeGraph_data/2020/03/06/2020-03-06-social-distancing.csv.gz\n",
      "download: s3://sg-c19-response/social-distancing/v2/2020/03/08/2020-03-08-social-distancing.csv.gz to ../SafeGraph_data/2020/03/08/2020-03-08-social-distancing.csv.gz\n",
      "download: s3://sg-c19-response/social-distancing/v2/2020/03/12/2020-03-12-social-distancing.csv.gz to ../SafeGraph_data/2020/03/12/2020-03-12-social-distancing.csv.gz\n",
      "download: s3://sg-c19-response/social-distancing/v2/2020/03/10/2020-03-10-social-distancing.csv.gz to ../SafeGraph_data/2020/03/10/2020-03-10-social-distancing.csv.gz\n",
      "download: s3://sg-c19-response/social-distancing/v2/2020/03/13/2020-03-13-social-distancing.csv.gz to ../SafeGraph_data/2020/03/13/2020-03-13-social-distancing.csv.gz\n",
      "download: s3://sg-c19-response/social-distancing/v2/2020/03/14/2020-03-14-social-distancing.csv.gz to ../SafeGraph_data/2020/03/14/2020-03-14-social-distancing.csv.gz\n",
      "download: s3://sg-c19-response/social-distancing/v2/2020/03/11/2020-03-11-social-distancing.csv.gz to ../SafeGraph_data/2020/03/11/2020-03-11-social-distancing.csv.gz\n",
      "download: s3://sg-c19-response/social-distancing/v2/2020/03/16/2020-03-16-social-distancing.csv.gz to ../SafeGraph_data/2020/03/16/2020-03-16-social-distancing.csv.gz\n",
      "download: s3://sg-c19-response/social-distancing/v2/2020/03/17/2020-03-17-social-distancing.csv.gz to ../SafeGraph_data/2020/03/17/2020-03-17-social-distancing.csv.gz\n",
      "download: s3://sg-c19-response/social-distancing/v2/2020/03/15/2020-03-15-social-distancing.csv.gz to ../SafeGraph_data/2020/03/15/2020-03-15-social-distancing.csv.gz\n",
      "download: s3://sg-c19-response/social-distancing/v2/2020/03/20/2020-03-20-social-distancing.csv.gz to ../SafeGraph_data/2020/03/20/2020-03-20-social-distancing.csv.gz\n",
      "download: s3://sg-c19-response/social-distancing/v2/2020/03/21/2020-03-21-social-distancing.csv.gz to ../SafeGraph_data/2020/03/21/2020-03-21-social-distancing.csv.gz\n",
      "download: s3://sg-c19-response/social-distancing/v2/2020/03/18/2020-03-18-social-distancing.csv.gz to ../SafeGraph_data/2020/03/18/2020-03-18-social-distancing.csv.gz\n",
      "download: s3://sg-c19-response/social-distancing/v2/2020/03/19/2020-03-19-social-distancing.csv.gz to ../SafeGraph_data/2020/03/19/2020-03-19-social-distancing.csv.gz\n",
      "download: s3://sg-c19-response/social-distancing/v2/2020/03/22/2020-03-22-social-distancing.csv.gz to ../SafeGraph_data/2020/03/22/2020-03-22-social-distancing.csv.gz\n",
      "download: s3://sg-c19-response/social-distancing/v2/2020/03/23/2020-03-23-social-distancing.csv.gz to ../SafeGraph_data/2020/03/23/2020-03-23-social-distancing.csv.gz\n",
      "download: s3://sg-c19-response/social-distancing/v2/2020/03/24/2020-03-24-social-distancing.csv.gz to ../SafeGraph_data/2020/03/24/2020-03-24-social-distancing.csv.gz\n",
      "download: s3://sg-c19-response/social-distancing/v2/2020/03/26/2020-03-26-social-distancing.csv.gz to ../SafeGraph_data/2020/03/26/2020-03-26-social-distancing.csv.gz\n",
      "download: s3://sg-c19-response/social-distancing/v2/2020/03/25/2020-03-25-social-distancing.csv.gz to ../SafeGraph_data/2020/03/25/2020-03-25-social-distancing.csv.gz\n",
      "download: s3://sg-c19-response/social-distancing/v2/2020/03/28/2020-03-28-social-distancing.csv.gz to ../SafeGraph_data/2020/03/28/2020-03-28-social-distancing.csv.gz\n",
      "download: s3://sg-c19-response/social-distancing/v2/2020/03/29/2020-03-29-social-distancing.csv.gz to ../SafeGraph_data/2020/03/29/2020-03-29-social-distancing.csv.gz\n",
      "download: s3://sg-c19-response/social-distancing/v2/2020/03/27/2020-03-27-social-distancing.csv.gz to ../SafeGraph_data/2020/03/27/2020-03-27-social-distancing.csv.gz\n",
      "download: s3://sg-c19-response/social-distancing/v2/2020/03/30/2020-03-30-social-distancing.csv.gz to ../SafeGraph_data/2020/03/30/2020-03-30-social-distancing.csv.gz\n",
      "download: s3://sg-c19-response/social-distancing/v2/2020/03/31/2020-03-31-social-distancing.csv.gz to ../SafeGraph_data/2020/03/31/2020-03-31-social-distancing.csv.gz\n",
      "download: s3://sg-c19-response/social-distancing/v2/2020/04/01/2020-04-01-social-distancing.csv.gz to ../SafeGraph_data/2020/04/01/2020-04-01-social-distancing.csv.gz\n",
      "download: s3://sg-c19-response/social-distancing/v2/2020/04/02/2020-04-02-social-distancing.csv.gz to ../SafeGraph_data/2020/04/02/2020-04-02-social-distancing.csv.gz\n",
      "download: s3://sg-c19-response/social-distancing/v2/2020/04/03/2020-04-03-social-distancing.csv.gz to ../SafeGraph_data/2020/04/03/2020-04-03-social-distancing.csv.gz\n",
      "download: s3://sg-c19-response/social-distancing/v2/2020/04/05/2020-04-05-social-distancing.csv.gz to ../SafeGraph_data/2020/04/05/2020-04-05-social-distancing.csv.gz\n",
      "download: s3://sg-c19-response/social-distancing/v2/2020/04/04/2020-04-04-social-distancing.csv.gz to ../SafeGraph_data/2020/04/04/2020-04-04-social-distancing.csv.gz\n",
      "download: s3://sg-c19-response/social-distancing/v2/2020/04/06/2020-04-06-social-distancing.csv.gz to ../SafeGraph_data/2020/04/06/2020-04-06-social-distancing.csv.gz\n",
      "download: s3://sg-c19-response/social-distancing/v2/2020/04/07/2020-04-07-social-distancing.csv.gz to ../SafeGraph_data/2020/04/07/2020-04-07-social-distancing.csv.gz\n",
      "download: s3://sg-c19-response/social-distancing/v2/2020/04/08/2020-04-08-social-distancing.csv.gz to ../SafeGraph_data/2020/04/08/2020-04-08-social-distancing.csv.gz\n",
      "download: s3://sg-c19-response/social-distancing/v2/2020/04/10/2020-04-10-social-distancing.csv.gz to ../SafeGraph_data/2020/04/10/2020-04-10-social-distancing.csv.gz\n",
      "download: s3://sg-c19-response/social-distancing/v2/2020/04/09/2020-04-09-social-distancing.csv.gz to ../SafeGraph_data/2020/04/09/2020-04-09-social-distancing.csv.gz\n",
      "download: s3://sg-c19-response/social-distancing/v2/2020/04/11/2020-04-11-social-distancing.csv.gz to ../SafeGraph_data/2020/04/11/2020-04-11-social-distancing.csv.gz\n",
      "download: s3://sg-c19-response/social-distancing/v2/2020/04/12/2020-04-12-social-distancing.csv.gz to ../SafeGraph_data/2020/04/12/2020-04-12-social-distancing.csv.gz\n",
      "download: s3://sg-c19-response/social-distancing/v2/2020/04/14/2020-04-14-social-distancing.csv.gz to ../SafeGraph_data/2020/04/14/2020-04-14-social-distancing.csv.gz\n",
      "download: s3://sg-c19-response/social-distancing/v2/2020/04/15/2020-04-15-social-distancing.csv.gz to ../SafeGraph_data/2020/04/15/2020-04-15-social-distancing.csv.gz\n",
      "download: s3://sg-c19-response/social-distancing/v2/2020/04/13/2020-04-13-social-distancing.csv.gz to ../SafeGraph_data/2020/04/13/2020-04-13-social-distancing.csv.gz\n",
      "download: s3://sg-c19-response/social-distancing/v2/2020/04/16/2020-04-16-social-distancing.csv.gz to ../SafeGraph_data/2020/04/16/2020-04-16-social-distancing.csv.gz\n",
      "download: s3://sg-c19-response/social-distancing/v2/2020/04/18/2020-04-18-social-distancing.csv.gz to ../SafeGraph_data/2020/04/18/2020-04-18-social-distancing.csv.gz\n",
      "download: s3://sg-c19-response/social-distancing/v2/2020/04/17/2020-04-17-social-distancing.csv.gz to ../SafeGraph_data/2020/04/17/2020-04-17-social-distancing.csv.gz\n",
      "download: s3://sg-c19-response/social-distancing/v2/2020/04/19/2020-04-19-social-distancing.csv.gz to ../SafeGraph_data/2020/04/19/2020-04-19-social-distancing.csv.gz\n",
      "download: s3://sg-c19-response/social-distancing/v2/2020/04/20/2020-04-20-social-distancing.csv.gz to ../SafeGraph_data/2020/04/20/2020-04-20-social-distancing.csv.gz\n",
      "download: s3://sg-c19-response/social-distancing/v2/2020/04/21/2020-04-21-social-distancing.csv.gz to ../SafeGraph_data/2020/04/21/2020-04-21-social-distancing.csv.gz\n",
      "download: s3://sg-c19-response/social-distancing/v2/2020/04/23/2020-04-23-social-distancing.csv.gz to ../SafeGraph_data/2020/04/23/2020-04-23-social-distancing.csv.gz\n",
      "download: s3://sg-c19-response/social-distancing/v2/2020/04/22/2020-04-22-social-distancing.csv.gz to ../SafeGraph_data/2020/04/22/2020-04-22-social-distancing.csv.gz\n",
      "download: s3://sg-c19-response/social-distancing/v2/2020/04/24/2020-04-24-social-distancing.csv.gz to ../SafeGraph_data/2020/04/24/2020-04-24-social-distancing.csv.gz\n",
      "download: s3://sg-c19-response/social-distancing/v2/2020/04/25/2020-04-25-social-distancing.csv.gz to ../SafeGraph_data/2020/04/25/2020-04-25-social-distancing.csv.gz\n",
      "download: s3://sg-c19-response/social-distancing/v2/2020/04/26/2020-04-26-social-distancing.csv.gz to ../SafeGraph_data/2020/04/26/2020-04-26-social-distancing.csv.gz\n",
      "download: s3://sg-c19-response/social-distancing/v2/2020/04/27/2020-04-27-social-distancing.csv.gz to ../SafeGraph_data/2020/04/27/2020-04-27-social-distancing.csv.gz\n",
      "download: s3://sg-c19-response/social-distancing/v2/2020/04/28/2020-04-28-social-distancing.csv.gz to ../SafeGraph_data/2020/04/28/2020-04-28-social-distancing.csv.gz\n",
      "download: s3://sg-c19-response/social-distancing/v2/2020/04/29/2020-04-29-social-distancing.csv.gz to ../SafeGraph_data/2020/04/29/2020-04-29-social-distancing.csv.gz\n",
      "download: s3://sg-c19-response/social-distancing/v2/2020/04/30/2020-04-30-social-distancing.csv.gz to ../SafeGraph_data/2020/04/30/2020-04-30-social-distancing.csv.gz\n",
      "download: s3://sg-c19-response/social-distancing/v2/2020/05/03/2020-05-03-social-distancing.csv.gz to ../SafeGraph_data/2020/05/03/2020-05-03-social-distancing.csv.gz\n",
      "download: s3://sg-c19-response/social-distancing/v2/2020/05/01/2020-05-01-social-distancing.csv.gz to ../SafeGraph_data/2020/05/01/2020-05-01-social-distancing.csv.gz\n",
      "download: s3://sg-c19-response/social-distancing/v2/2020/05/02/2020-05-02-social-distancing.csv.gz to ../SafeGraph_data/2020/05/02/2020-05-02-social-distancing.csv.gz\n",
      "download: s3://sg-c19-response/social-distancing/v2/2020/05/04/2020-05-04-social-distancing.csv.gz to ../SafeGraph_data/2020/05/04/2020-05-04-social-distancing.csv.gz\n",
      "download: s3://sg-c19-response/social-distancing/v2/2020/05/05/2020-05-05-social-distancing.csv.gz to ../SafeGraph_data/2020/05/05/2020-05-05-social-distancing.csv.gz\n",
      "download: s3://sg-c19-response/social-distancing/v2/2020/05/06/2020-05-06-social-distancing.csv.gz to ../SafeGraph_data/2020/05/06/2020-05-06-social-distancing.csv.gz\n",
      "download: s3://sg-c19-response/social-distancing/v2/2020/05/07/2020-05-07-social-distancing.csv.gz to ../SafeGraph_data/2020/05/07/2020-05-07-social-distancing.csv.gz\n",
      "download: s3://sg-c19-response/social-distancing/v2/2020/05/08/2020-05-08-social-distancing.csv.gz to ../SafeGraph_data/2020/05/08/2020-05-08-social-distancing.csv.gz\n",
      "download: s3://sg-c19-response/social-distancing/v2/2020/05/10/2020-05-10-social-distancing.csv.gz to ../SafeGraph_data/2020/05/10/2020-05-10-social-distancing.csv.gz\n",
      "download: s3://sg-c19-response/social-distancing/v2/2020/05/09/2020-05-09-social-distancing.csv.gz to ../SafeGraph_data/2020/05/09/2020-05-09-social-distancing.csv.gz\n"
     ]
    }
   ],
   "source": [
    "#Configure the aws profile **check the slack for new access keys weekly!\n",
    "#! aws configure --profile safegraph\n",
    "#Downloads all current available data: *takes a while to run\n",
    "! aws s3 sync s3://sg-c19-response/social-distancing/v2/ /Users/samismalling/Documents/mobility-report-data-extractor-master/CovidMobile/SafeGraph_data --profile safegraph"
   ]
  },
  {
   "cell_type": "code",
   "execution_count": 5,
   "metadata": {},
   "outputs": [],
   "source": [
    "import matplotlib.pyplot as plt\n",
    "import pandas as pd\n",
    "import numpy as np"
   ]
  },
  {
   "cell_type": "code",
   "execution_count": 6,
   "metadata": {},
   "outputs": [
    {
     "ename": "NameError",
     "evalue": "name 'spark' is not defined",
     "output_type": "error",
     "traceback": [
      "\u001b[0;31m---------------------------------------------------------------------------\u001b[0m",
      "\u001b[0;31mNameError\u001b[0m                                 Traceback (most recent call last)",
      "\u001b[0;32m<ipython-input-6-3d866eaeeebb>\u001b[0m in \u001b[0;36m<module>\u001b[0;34m\u001b[0m\n\u001b[0;32m----> 1\u001b[0;31m \u001b[0msdm_spark_raw\u001b[0m \u001b[0;34m=\u001b[0m \u001b[0mspark\u001b[0m\u001b[0;34m.\u001b[0m\u001b[0mread\u001b[0m\u001b[0;34m.\u001b[0m\u001b[0mcsv\u001b[0m\u001b[0;34m(\u001b[0m\u001b[0;34m\"s3://sg-c19-response/social-distancing/v2/2020/*/*/*.csv.gz\"\u001b[0m\u001b[0;34m,\u001b[0m \u001b[0mheader\u001b[0m\u001b[0;34m=\u001b[0m\u001b[0;32mTrue\u001b[0m\u001b[0;34m,\u001b[0m \u001b[0mescape\u001b[0m\u001b[0;34m=\u001b[0m\u001b[0;34m\"\\\"\"\u001b[0m\u001b[0;34m,\u001b[0m \u001b[0minferSchema\u001b[0m\u001b[0;34m=\u001b[0m\u001b[0;32mFalse\u001b[0m\u001b[0;34m)\u001b[0m\u001b[0;34m\u001b[0m\u001b[0;34m\u001b[0m\u001b[0m\n\u001b[0m",
      "\u001b[0;31mNameError\u001b[0m: name 'spark' is not defined"
     ]
    }
   ],
   "source": [
    "sdm_spark_raw = pd.read_csv(\"s3://sg-c19-response/social-distancing/v2/2020/*/*/*.csv.gz\", header=True, escape=\"\\\"\", inferSchema=False)"
   ]
  },
  {
   "cell_type": "code",
   "execution_count": null,
   "metadata": {},
   "outputs": [],
   "source": []
  }
 ],
 "metadata": {
  "kernelspec": {
   "display_name": "Python 3",
   "language": "python",
   "name": "python3"
  },
  "language_info": {
   "codemirror_mode": {
    "name": "ipython",
    "version": 3
   },
   "file_extension": ".py",
   "mimetype": "text/x-python",
   "name": "python",
   "nbconvert_exporter": "python",
   "pygments_lexer": "ipython3",
   "version": "3.7.6"
  }
 },
 "nbformat": 4,
 "nbformat_minor": 4
}
